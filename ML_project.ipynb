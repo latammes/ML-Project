{
  "nbformat": 4,
  "nbformat_minor": 0,
  "metadata": {
    "colab": {
      "name": "ML_project.ipynb",
      "provenance": [],
      "collapsed_sections": [],
      "toc_visible": true
    },
    "kernelspec": {
      "display_name": "Python 3",
      "name": "python3"
    },
    "language_info": {
      "name": "python"
    }
  },
  "cells": [
    {
      "cell_type": "markdown",
      "metadata": {
        "id": "HT_3txIcPV9A"
      },
      "source": [
        "#Machine Learning project \n",
        "\n",
        "Group members: Annela Pajumets, Kadi Kilgi, Kadi-Liis Kuum, Laura Anna Tammesoo\n",
        "\n",
        "December 2021"
      ]
    },
    {
      "cell_type": "markdown",
      "source": [
        "# Introduction\n"
      ],
      "metadata": {
        "id": "OMDWDStHkKsL"
      }
    },
    {
      "cell_type": "markdown",
      "source": [
        "The aim of this Machine Learning course project is to take part of a Kaggle competiton - House Prices. [1] The goal is to find a best regression model which can describe the sale prices of houses. The goodness of a model is evaluated by the Root mean squared error (RMSE).\n",
        "\n"
      ],
      "metadata": {
        "id": "Jjw5ssIKkNBc"
      }
    },
    {
      "cell_type": "markdown",
      "metadata": {
        "id": "VybmSHNzPhfT"
      },
      "source": [
        "# 1. Reading in the data "
      ]
    },
    {
      "cell_type": "code",
      "metadata": {
        "id": "8aCXQL22Nlt5"
      },
      "source": [
        "import numpy as np \n",
        "import pandas as pd\n",
        " \n",
        "train =  pd.read_csv('train.csv')\n",
        "test = pd.read_csv('test.csv')"
      ],
      "execution_count": 2,
      "outputs": []
    },
    {
      "cell_type": "code",
      "source": [
        "#importing needed packages \n",
        "from sklearn.model_selection import train_test_split\n",
        "from sklearn.model_selection import KFold\n",
        "\n",
        "from sklearn.decomposition import PCA\n",
        "\n",
        "from sklearn.preprocessing import StandardScaler\n",
        "from sklearn.linear_model import LinearRegression\n",
        "from sklearn.ensemble import VotingRegressor\n",
        "from sklearn.linear_model import Lasso, Ridge\n",
        "\n",
        "from sklearn.tree import DecisionTreeRegressor\n",
        "from sklearn.ensemble import RandomForestRegressor\n",
        "\n",
        "from sklearn.ensemble import AdaBoostRegressor\n",
        "from sklearn.ensemble import BaggingRegressor\n",
        "from sklearn.ensemble import GradientBoostingRegressor\n",
        "import xgboost as xgb\n",
        "\n",
        "from sklearn.metrics import mean_squared_log_error\n",
        "from sklearn.metrics import mean_squared_error\n",
        "\n",
        "import matplotlib.pyplot as plt\n",
        "import plotly.express as px\n",
        "import seaborn as sns"
      ],
      "metadata": {
        "id": "ZK1rj6eYI0dw"
      },
      "execution_count": 3,
      "outputs": []
    },
    {
      "cell_type": "markdown",
      "metadata": {
        "id": "hDc9kHYwPtRg"
      },
      "source": [
        "# 2. Description of the data"
      ]
    },
    {
      "cell_type": "markdown",
      "source": [
        "The dataset contains information about houses in Ames, Iowa in the USA. Parameters include data about roof, garage, utilities, location, etc."
      ],
      "metadata": {
        "id": "p1RZm9u-Axsj"
      }
    },
    {
      "cell_type": "code",
      "metadata": {
        "colab": {
          "base_uri": "https://localhost:8080/"
        },
        "id": "38k-GdLoOCx4",
        "outputId": "6a6d2432-c268-4657-b724-165496d0ad5f"
      },
      "source": [
        "print(train.shape)\n",
        "print(test.shape)"
      ],
      "execution_count": 4,
      "outputs": [
        {
          "output_type": "stream",
          "name": "stdout",
          "text": [
            "(1460, 81)\n",
            "(1459, 80)\n"
          ]
        }
      ]
    },
    {
      "cell_type": "markdown",
      "source": [
        "Train set has 1460 rows and 81 variables, including \"Id\" and \"SalePrice\", the last is our target variable. Test set has 1459 observations."
      ],
      "metadata": {
        "id": "DEfF0nppA7kc"
      }
    },
    {
      "cell_type": "code",
      "metadata": {
        "colab": {
          "base_uri": "https://localhost:8080/",
          "height": 256
        },
        "id": "8pDiba5wOj3W",
        "outputId": "fc65e462-3e84-4901-af61-53831730b076"
      },
      "source": [
        "train.head()"
      ],
      "execution_count": 5,
      "outputs": [
        {
          "output_type": "execute_result",
          "data": {
            "text/html": [
              "<div>\n",
              "<style scoped>\n",
              "    .dataframe tbody tr th:only-of-type {\n",
              "        vertical-align: middle;\n",
              "    }\n",
              "\n",
              "    .dataframe tbody tr th {\n",
              "        vertical-align: top;\n",
              "    }\n",
              "\n",
              "    .dataframe thead th {\n",
              "        text-align: right;\n",
              "    }\n",
              "</style>\n",
              "<table border=\"1\" class=\"dataframe\">\n",
              "  <thead>\n",
              "    <tr style=\"text-align: right;\">\n",
              "      <th></th>\n",
              "      <th>Id</th>\n",
              "      <th>MSSubClass</th>\n",
              "      <th>MSZoning</th>\n",
              "      <th>LotFrontage</th>\n",
              "      <th>LotArea</th>\n",
              "      <th>Street</th>\n",
              "      <th>Alley</th>\n",
              "      <th>LotShape</th>\n",
              "      <th>LandContour</th>\n",
              "      <th>Utilities</th>\n",
              "      <th>LotConfig</th>\n",
              "      <th>LandSlope</th>\n",
              "      <th>Neighborhood</th>\n",
              "      <th>Condition1</th>\n",
              "      <th>Condition2</th>\n",
              "      <th>BldgType</th>\n",
              "      <th>HouseStyle</th>\n",
              "      <th>OverallQual</th>\n",
              "      <th>OverallCond</th>\n",
              "      <th>YearBuilt</th>\n",
              "      <th>YearRemodAdd</th>\n",
              "      <th>RoofStyle</th>\n",
              "      <th>RoofMatl</th>\n",
              "      <th>Exterior1st</th>\n",
              "      <th>Exterior2nd</th>\n",
              "      <th>MasVnrType</th>\n",
              "      <th>MasVnrArea</th>\n",
              "      <th>ExterQual</th>\n",
              "      <th>ExterCond</th>\n",
              "      <th>Foundation</th>\n",
              "      <th>BsmtQual</th>\n",
              "      <th>BsmtCond</th>\n",
              "      <th>BsmtExposure</th>\n",
              "      <th>BsmtFinType1</th>\n",
              "      <th>BsmtFinSF1</th>\n",
              "      <th>BsmtFinType2</th>\n",
              "      <th>BsmtFinSF2</th>\n",
              "      <th>BsmtUnfSF</th>\n",
              "      <th>TotalBsmtSF</th>\n",
              "      <th>Heating</th>\n",
              "      <th>...</th>\n",
              "      <th>CentralAir</th>\n",
              "      <th>Electrical</th>\n",
              "      <th>1stFlrSF</th>\n",
              "      <th>2ndFlrSF</th>\n",
              "      <th>LowQualFinSF</th>\n",
              "      <th>GrLivArea</th>\n",
              "      <th>BsmtFullBath</th>\n",
              "      <th>BsmtHalfBath</th>\n",
              "      <th>FullBath</th>\n",
              "      <th>HalfBath</th>\n",
              "      <th>BedroomAbvGr</th>\n",
              "      <th>KitchenAbvGr</th>\n",
              "      <th>KitchenQual</th>\n",
              "      <th>TotRmsAbvGrd</th>\n",
              "      <th>Functional</th>\n",
              "      <th>Fireplaces</th>\n",
              "      <th>FireplaceQu</th>\n",
              "      <th>GarageType</th>\n",
              "      <th>GarageYrBlt</th>\n",
              "      <th>GarageFinish</th>\n",
              "      <th>GarageCars</th>\n",
              "      <th>GarageArea</th>\n",
              "      <th>GarageQual</th>\n",
              "      <th>GarageCond</th>\n",
              "      <th>PavedDrive</th>\n",
              "      <th>WoodDeckSF</th>\n",
              "      <th>OpenPorchSF</th>\n",
              "      <th>EnclosedPorch</th>\n",
              "      <th>3SsnPorch</th>\n",
              "      <th>ScreenPorch</th>\n",
              "      <th>PoolArea</th>\n",
              "      <th>PoolQC</th>\n",
              "      <th>Fence</th>\n",
              "      <th>MiscFeature</th>\n",
              "      <th>MiscVal</th>\n",
              "      <th>MoSold</th>\n",
              "      <th>YrSold</th>\n",
              "      <th>SaleType</th>\n",
              "      <th>SaleCondition</th>\n",
              "      <th>SalePrice</th>\n",
              "    </tr>\n",
              "  </thead>\n",
              "  <tbody>\n",
              "    <tr>\n",
              "      <th>0</th>\n",
              "      <td>1</td>\n",
              "      <td>60</td>\n",
              "      <td>RL</td>\n",
              "      <td>65.0</td>\n",
              "      <td>8450</td>\n",
              "      <td>Pave</td>\n",
              "      <td>NaN</td>\n",
              "      <td>Reg</td>\n",
              "      <td>Lvl</td>\n",
              "      <td>AllPub</td>\n",
              "      <td>Inside</td>\n",
              "      <td>Gtl</td>\n",
              "      <td>CollgCr</td>\n",
              "      <td>Norm</td>\n",
              "      <td>Norm</td>\n",
              "      <td>1Fam</td>\n",
              "      <td>2Story</td>\n",
              "      <td>7</td>\n",
              "      <td>5</td>\n",
              "      <td>2003</td>\n",
              "      <td>2003</td>\n",
              "      <td>Gable</td>\n",
              "      <td>CompShg</td>\n",
              "      <td>VinylSd</td>\n",
              "      <td>VinylSd</td>\n",
              "      <td>BrkFace</td>\n",
              "      <td>196.0</td>\n",
              "      <td>Gd</td>\n",
              "      <td>TA</td>\n",
              "      <td>PConc</td>\n",
              "      <td>Gd</td>\n",
              "      <td>TA</td>\n",
              "      <td>No</td>\n",
              "      <td>GLQ</td>\n",
              "      <td>706</td>\n",
              "      <td>Unf</td>\n",
              "      <td>0</td>\n",
              "      <td>150</td>\n",
              "      <td>856</td>\n",
              "      <td>GasA</td>\n",
              "      <td>...</td>\n",
              "      <td>Y</td>\n",
              "      <td>SBrkr</td>\n",
              "      <td>856</td>\n",
              "      <td>854</td>\n",
              "      <td>0</td>\n",
              "      <td>1710</td>\n",
              "      <td>1</td>\n",
              "      <td>0</td>\n",
              "      <td>2</td>\n",
              "      <td>1</td>\n",
              "      <td>3</td>\n",
              "      <td>1</td>\n",
              "      <td>Gd</td>\n",
              "      <td>8</td>\n",
              "      <td>Typ</td>\n",
              "      <td>0</td>\n",
              "      <td>NaN</td>\n",
              "      <td>Attchd</td>\n",
              "      <td>2003.0</td>\n",
              "      <td>RFn</td>\n",
              "      <td>2</td>\n",
              "      <td>548</td>\n",
              "      <td>TA</td>\n",
              "      <td>TA</td>\n",
              "      <td>Y</td>\n",
              "      <td>0</td>\n",
              "      <td>61</td>\n",
              "      <td>0</td>\n",
              "      <td>0</td>\n",
              "      <td>0</td>\n",
              "      <td>0</td>\n",
              "      <td>NaN</td>\n",
              "      <td>NaN</td>\n",
              "      <td>NaN</td>\n",
              "      <td>0</td>\n",
              "      <td>2</td>\n",
              "      <td>2008</td>\n",
              "      <td>WD</td>\n",
              "      <td>Normal</td>\n",
              "      <td>208500</td>\n",
              "    </tr>\n",
              "    <tr>\n",
              "      <th>1</th>\n",
              "      <td>2</td>\n",
              "      <td>20</td>\n",
              "      <td>RL</td>\n",
              "      <td>80.0</td>\n",
              "      <td>9600</td>\n",
              "      <td>Pave</td>\n",
              "      <td>NaN</td>\n",
              "      <td>Reg</td>\n",
              "      <td>Lvl</td>\n",
              "      <td>AllPub</td>\n",
              "      <td>FR2</td>\n",
              "      <td>Gtl</td>\n",
              "      <td>Veenker</td>\n",
              "      <td>Feedr</td>\n",
              "      <td>Norm</td>\n",
              "      <td>1Fam</td>\n",
              "      <td>1Story</td>\n",
              "      <td>6</td>\n",
              "      <td>8</td>\n",
              "      <td>1976</td>\n",
              "      <td>1976</td>\n",
              "      <td>Gable</td>\n",
              "      <td>CompShg</td>\n",
              "      <td>MetalSd</td>\n",
              "      <td>MetalSd</td>\n",
              "      <td>None</td>\n",
              "      <td>0.0</td>\n",
              "      <td>TA</td>\n",
              "      <td>TA</td>\n",
              "      <td>CBlock</td>\n",
              "      <td>Gd</td>\n",
              "      <td>TA</td>\n",
              "      <td>Gd</td>\n",
              "      <td>ALQ</td>\n",
              "      <td>978</td>\n",
              "      <td>Unf</td>\n",
              "      <td>0</td>\n",
              "      <td>284</td>\n",
              "      <td>1262</td>\n",
              "      <td>GasA</td>\n",
              "      <td>...</td>\n",
              "      <td>Y</td>\n",
              "      <td>SBrkr</td>\n",
              "      <td>1262</td>\n",
              "      <td>0</td>\n",
              "      <td>0</td>\n",
              "      <td>1262</td>\n",
              "      <td>0</td>\n",
              "      <td>1</td>\n",
              "      <td>2</td>\n",
              "      <td>0</td>\n",
              "      <td>3</td>\n",
              "      <td>1</td>\n",
              "      <td>TA</td>\n",
              "      <td>6</td>\n",
              "      <td>Typ</td>\n",
              "      <td>1</td>\n",
              "      <td>TA</td>\n",
              "      <td>Attchd</td>\n",
              "      <td>1976.0</td>\n",
              "      <td>RFn</td>\n",
              "      <td>2</td>\n",
              "      <td>460</td>\n",
              "      <td>TA</td>\n",
              "      <td>TA</td>\n",
              "      <td>Y</td>\n",
              "      <td>298</td>\n",
              "      <td>0</td>\n",
              "      <td>0</td>\n",
              "      <td>0</td>\n",
              "      <td>0</td>\n",
              "      <td>0</td>\n",
              "      <td>NaN</td>\n",
              "      <td>NaN</td>\n",
              "      <td>NaN</td>\n",
              "      <td>0</td>\n",
              "      <td>5</td>\n",
              "      <td>2007</td>\n",
              "      <td>WD</td>\n",
              "      <td>Normal</td>\n",
              "      <td>181500</td>\n",
              "    </tr>\n",
              "    <tr>\n",
              "      <th>2</th>\n",
              "      <td>3</td>\n",
              "      <td>60</td>\n",
              "      <td>RL</td>\n",
              "      <td>68.0</td>\n",
              "      <td>11250</td>\n",
              "      <td>Pave</td>\n",
              "      <td>NaN</td>\n",
              "      <td>IR1</td>\n",
              "      <td>Lvl</td>\n",
              "      <td>AllPub</td>\n",
              "      <td>Inside</td>\n",
              "      <td>Gtl</td>\n",
              "      <td>CollgCr</td>\n",
              "      <td>Norm</td>\n",
              "      <td>Norm</td>\n",
              "      <td>1Fam</td>\n",
              "      <td>2Story</td>\n",
              "      <td>7</td>\n",
              "      <td>5</td>\n",
              "      <td>2001</td>\n",
              "      <td>2002</td>\n",
              "      <td>Gable</td>\n",
              "      <td>CompShg</td>\n",
              "      <td>VinylSd</td>\n",
              "      <td>VinylSd</td>\n",
              "      <td>BrkFace</td>\n",
              "      <td>162.0</td>\n",
              "      <td>Gd</td>\n",
              "      <td>TA</td>\n",
              "      <td>PConc</td>\n",
              "      <td>Gd</td>\n",
              "      <td>TA</td>\n",
              "      <td>Mn</td>\n",
              "      <td>GLQ</td>\n",
              "      <td>486</td>\n",
              "      <td>Unf</td>\n",
              "      <td>0</td>\n",
              "      <td>434</td>\n",
              "      <td>920</td>\n",
              "      <td>GasA</td>\n",
              "      <td>...</td>\n",
              "      <td>Y</td>\n",
              "      <td>SBrkr</td>\n",
              "      <td>920</td>\n",
              "      <td>866</td>\n",
              "      <td>0</td>\n",
              "      <td>1786</td>\n",
              "      <td>1</td>\n",
              "      <td>0</td>\n",
              "      <td>2</td>\n",
              "      <td>1</td>\n",
              "      <td>3</td>\n",
              "      <td>1</td>\n",
              "      <td>Gd</td>\n",
              "      <td>6</td>\n",
              "      <td>Typ</td>\n",
              "      <td>1</td>\n",
              "      <td>TA</td>\n",
              "      <td>Attchd</td>\n",
              "      <td>2001.0</td>\n",
              "      <td>RFn</td>\n",
              "      <td>2</td>\n",
              "      <td>608</td>\n",
              "      <td>TA</td>\n",
              "      <td>TA</td>\n",
              "      <td>Y</td>\n",
              "      <td>0</td>\n",
              "      <td>42</td>\n",
              "      <td>0</td>\n",
              "      <td>0</td>\n",
              "      <td>0</td>\n",
              "      <td>0</td>\n",
              "      <td>NaN</td>\n",
              "      <td>NaN</td>\n",
              "      <td>NaN</td>\n",
              "      <td>0</td>\n",
              "      <td>9</td>\n",
              "      <td>2008</td>\n",
              "      <td>WD</td>\n",
              "      <td>Normal</td>\n",
              "      <td>223500</td>\n",
              "    </tr>\n",
              "    <tr>\n",
              "      <th>3</th>\n",
              "      <td>4</td>\n",
              "      <td>70</td>\n",
              "      <td>RL</td>\n",
              "      <td>60.0</td>\n",
              "      <td>9550</td>\n",
              "      <td>Pave</td>\n",
              "      <td>NaN</td>\n",
              "      <td>IR1</td>\n",
              "      <td>Lvl</td>\n",
              "      <td>AllPub</td>\n",
              "      <td>Corner</td>\n",
              "      <td>Gtl</td>\n",
              "      <td>Crawfor</td>\n",
              "      <td>Norm</td>\n",
              "      <td>Norm</td>\n",
              "      <td>1Fam</td>\n",
              "      <td>2Story</td>\n",
              "      <td>7</td>\n",
              "      <td>5</td>\n",
              "      <td>1915</td>\n",
              "      <td>1970</td>\n",
              "      <td>Gable</td>\n",
              "      <td>CompShg</td>\n",
              "      <td>Wd Sdng</td>\n",
              "      <td>Wd Shng</td>\n",
              "      <td>None</td>\n",
              "      <td>0.0</td>\n",
              "      <td>TA</td>\n",
              "      <td>TA</td>\n",
              "      <td>BrkTil</td>\n",
              "      <td>TA</td>\n",
              "      <td>Gd</td>\n",
              "      <td>No</td>\n",
              "      <td>ALQ</td>\n",
              "      <td>216</td>\n",
              "      <td>Unf</td>\n",
              "      <td>0</td>\n",
              "      <td>540</td>\n",
              "      <td>756</td>\n",
              "      <td>GasA</td>\n",
              "      <td>...</td>\n",
              "      <td>Y</td>\n",
              "      <td>SBrkr</td>\n",
              "      <td>961</td>\n",
              "      <td>756</td>\n",
              "      <td>0</td>\n",
              "      <td>1717</td>\n",
              "      <td>1</td>\n",
              "      <td>0</td>\n",
              "      <td>1</td>\n",
              "      <td>0</td>\n",
              "      <td>3</td>\n",
              "      <td>1</td>\n",
              "      <td>Gd</td>\n",
              "      <td>7</td>\n",
              "      <td>Typ</td>\n",
              "      <td>1</td>\n",
              "      <td>Gd</td>\n",
              "      <td>Detchd</td>\n",
              "      <td>1998.0</td>\n",
              "      <td>Unf</td>\n",
              "      <td>3</td>\n",
              "      <td>642</td>\n",
              "      <td>TA</td>\n",
              "      <td>TA</td>\n",
              "      <td>Y</td>\n",
              "      <td>0</td>\n",
              "      <td>35</td>\n",
              "      <td>272</td>\n",
              "      <td>0</td>\n",
              "      <td>0</td>\n",
              "      <td>0</td>\n",
              "      <td>NaN</td>\n",
              "      <td>NaN</td>\n",
              "      <td>NaN</td>\n",
              "      <td>0</td>\n",
              "      <td>2</td>\n",
              "      <td>2006</td>\n",
              "      <td>WD</td>\n",
              "      <td>Abnorml</td>\n",
              "      <td>140000</td>\n",
              "    </tr>\n",
              "    <tr>\n",
              "      <th>4</th>\n",
              "      <td>5</td>\n",
              "      <td>60</td>\n",
              "      <td>RL</td>\n",
              "      <td>84.0</td>\n",
              "      <td>14260</td>\n",
              "      <td>Pave</td>\n",
              "      <td>NaN</td>\n",
              "      <td>IR1</td>\n",
              "      <td>Lvl</td>\n",
              "      <td>AllPub</td>\n",
              "      <td>FR2</td>\n",
              "      <td>Gtl</td>\n",
              "      <td>NoRidge</td>\n",
              "      <td>Norm</td>\n",
              "      <td>Norm</td>\n",
              "      <td>1Fam</td>\n",
              "      <td>2Story</td>\n",
              "      <td>8</td>\n",
              "      <td>5</td>\n",
              "      <td>2000</td>\n",
              "      <td>2000</td>\n",
              "      <td>Gable</td>\n",
              "      <td>CompShg</td>\n",
              "      <td>VinylSd</td>\n",
              "      <td>VinylSd</td>\n",
              "      <td>BrkFace</td>\n",
              "      <td>350.0</td>\n",
              "      <td>Gd</td>\n",
              "      <td>TA</td>\n",
              "      <td>PConc</td>\n",
              "      <td>Gd</td>\n",
              "      <td>TA</td>\n",
              "      <td>Av</td>\n",
              "      <td>GLQ</td>\n",
              "      <td>655</td>\n",
              "      <td>Unf</td>\n",
              "      <td>0</td>\n",
              "      <td>490</td>\n",
              "      <td>1145</td>\n",
              "      <td>GasA</td>\n",
              "      <td>...</td>\n",
              "      <td>Y</td>\n",
              "      <td>SBrkr</td>\n",
              "      <td>1145</td>\n",
              "      <td>1053</td>\n",
              "      <td>0</td>\n",
              "      <td>2198</td>\n",
              "      <td>1</td>\n",
              "      <td>0</td>\n",
              "      <td>2</td>\n",
              "      <td>1</td>\n",
              "      <td>4</td>\n",
              "      <td>1</td>\n",
              "      <td>Gd</td>\n",
              "      <td>9</td>\n",
              "      <td>Typ</td>\n",
              "      <td>1</td>\n",
              "      <td>TA</td>\n",
              "      <td>Attchd</td>\n",
              "      <td>2000.0</td>\n",
              "      <td>RFn</td>\n",
              "      <td>3</td>\n",
              "      <td>836</td>\n",
              "      <td>TA</td>\n",
              "      <td>TA</td>\n",
              "      <td>Y</td>\n",
              "      <td>192</td>\n",
              "      <td>84</td>\n",
              "      <td>0</td>\n",
              "      <td>0</td>\n",
              "      <td>0</td>\n",
              "      <td>0</td>\n",
              "      <td>NaN</td>\n",
              "      <td>NaN</td>\n",
              "      <td>NaN</td>\n",
              "      <td>0</td>\n",
              "      <td>12</td>\n",
              "      <td>2008</td>\n",
              "      <td>WD</td>\n",
              "      <td>Normal</td>\n",
              "      <td>250000</td>\n",
              "    </tr>\n",
              "  </tbody>\n",
              "</table>\n",
              "<p>5 rows × 81 columns</p>\n",
              "</div>"
            ],
            "text/plain": [
              "   Id  MSSubClass MSZoning  ...  SaleType  SaleCondition SalePrice\n",
              "0   1          60       RL  ...        WD         Normal    208500\n",
              "1   2          20       RL  ...        WD         Normal    181500\n",
              "2   3          60       RL  ...        WD         Normal    223500\n",
              "3   4          70       RL  ...        WD        Abnorml    140000\n",
              "4   5          60       RL  ...        WD         Normal    250000\n",
              "\n",
              "[5 rows x 81 columns]"
            ]
          },
          "metadata": {},
          "execution_count": 5
        }
      ]
    },
    {
      "cell_type": "markdown",
      "metadata": {
        "id": "Yd4xn_D1Orxd"
      },
      "source": [
        "The dataset has 79 parameters for predicting \"SalePrice\", of which 47 are categorical variables and 32 are numerical. Categorical variables describe for example the style and material of roof, the foundation and exterior of house, utilities, location, etc. Numerical variables are for example the size of lot, basement, first and second floor (in square feet), etc. There is also data about the month and year of the sale and the type of sale.\n",
        "\n",
        "We want to predict variable \"SalePrice\" which shows the price of house in US dollars."
      ]
    },
    {
      "cell_type": "code",
      "source": [
        "plt.hist(train['SalePrice'], bins = 20)\n",
        "plt.xlabel('SalePrice, $')\n",
        "plt.title('Distribution of SalePrice')\n",
        "plt.show()"
      ],
      "metadata": {
        "id": "Cd_pQZT7BhuO",
        "colab": {
          "base_uri": "https://localhost:8080/",
          "height": 295
        },
        "outputId": "bec662b7-e7d8-441f-99ba-1ea3caecebd3"
      },
      "execution_count": 6,
      "outputs": [
        {
          "output_type": "display_data",
          "data": {
            "image/png": "[encoded data removed]",
            "text/plain": [
              "<Figure size 432x288 with 1 Axes>"
            ]
          },
          "metadata": {
            "needs_background": "light"
          }
        }
      ]
    },
    {
      "cell_type": "code",
      "metadata": {
        "colab": {
          "base_uri": "https://localhost:8080/"
        },
        "id": "rf6Z5dPiQHBs",
        "outputId": "24291ab6-7833-4837-b3e0-ef28bc6db774"
      },
      "source": [
        "train['SalePrice'].describe()"
      ],
      "execution_count": 7,
      "outputs": [
        {
          "output_type": "execute_result",
          "data": {
            "text/plain": [
              "count      1460.000000\n",
              "mean     180921.195890\n",
              "std       79442.502883\n",
              "min       34900.000000\n",
              "25%      129975.000000\n",
              "50%      163000.000000\n",
              "75%      214000.000000\n",
              "max      755000.000000\n",
              "Name: SalePrice, dtype: float64"
            ]
          },
          "metadata": {},
          "execution_count": 7
        }
      ]
    },
    {
      "cell_type": "markdown",
      "metadata": {
        "id": "wUlhdzDMQby_"
      },
      "source": [
        "We see that \"SalePrice\" is skewed to the left with 75% of values lying between 34 900\\$ and 214 000\\$. The biggest \"SalePrice\" is 755 000$."
      ]
    },
    {
      "cell_type": "code",
      "metadata": {
        "id": "0JlEjTECUgaE",
        "colab": {
          "base_uri": "https://localhost:8080/"
        },
        "outputId": "9f07503b-078b-47f9-c55a-1525d02df933"
      },
      "source": [
        "correl = train.corr()\n",
        "correl.sort_values([\"SalePrice\"],ascending = False, inplace = True)\n",
        "print(correl.SalePrice)"
      ],
      "execution_count": 8,
      "outputs": [
        {
          "output_type": "stream",
          "name": "stdout",
          "text": [
            "SalePrice        1.000000\n",
            "OverallQual      0.790982\n",
            "GrLivArea        0.708624\n",
            "GarageCars       0.640409\n",
            "GarageArea       0.623431\n",
            "TotalBsmtSF      0.613581\n",
            "1stFlrSF         0.605852\n",
            "FullBath         0.560664\n",
            "TotRmsAbvGrd     0.533723\n",
            "YearBuilt        0.522897\n",
            "YearRemodAdd     0.507101\n",
            "GarageYrBlt      0.486362\n",
            "MasVnrArea       0.477493\n",
            "Fireplaces       0.466929\n",
            "BsmtFinSF1       0.386420\n",
            "LotFrontage      0.351799\n",
            "WoodDeckSF       0.324413\n",
            "2ndFlrSF         0.319334\n",
            "OpenPorchSF      0.315856\n",
            "HalfBath         0.284108\n",
            "LotArea          0.263843\n",
            "BsmtFullBath     0.227122\n",
            "BsmtUnfSF        0.214479\n",
            "BedroomAbvGr     0.168213\n",
            "ScreenPorch      0.111447\n",
            "PoolArea         0.092404\n",
            "MoSold           0.046432\n",
            "3SsnPorch        0.044584\n",
            "BsmtFinSF2      -0.011378\n",
            "BsmtHalfBath    -0.016844\n",
            "MiscVal         -0.021190\n",
            "Id              -0.021917\n",
            "LowQualFinSF    -0.025606\n",
            "YrSold          -0.028923\n",
            "OverallCond     -0.077856\n",
            "MSSubClass      -0.084284\n",
            "EnclosedPorch   -0.128578\n",
            "KitchenAbvGr    -0.135907\n",
            "Name: SalePrice, dtype: float64\n"
          ]
        }
      ]
    },
    {
      "cell_type": "markdown",
      "metadata": {
        "id": "H8pvPopkVUqn"
      },
      "source": [
        "We see that \"SalePrice\" has the biggest correlation with \"OverallQual\" which shows the overall rate of the material and finish of the house (a categorical variable) and \"GrLivArea\" which shows the living area in square feet (a numerical variable)."
      ]
    },
    {
      "cell_type": "code",
      "source": [
        "fig = (\n",
        "    ggplot(data = train,\n",
        "          mapping = aes(x = 'GrLivArea', y = 'SalePrice', color = 'OverallQual')) +\n",
        "#    geom_point(position = \"jitter\") \n",
        "    geom_point()\n",
        ").draw()"
      ],
      "metadata": {
        "id": "CI00RcYlCIGd",
        "colab": {
          "base_uri": "https://localhost:8080/",
          "height": 447
        },
        "outputId": "a48ad60f-9982-4cd8-e2f4-023cfc9b926b"
      },
      "execution_count": 9,
      "outputs": [
        {
          "output_type": "display_data",
          "data": {
            "image/png": "[encoded data removed]",
            "text/plain": [
              "<Figure size 640x480 with 1 Axes>"
            ]
          },
          "metadata": {}
        }
      ]
    },
    {
      "cell_type": "markdown",
      "source": [
        "Heatmap of correlation between some of the numerical variables in the data set. "
      ],
      "metadata": {
        "id": "-m2Rn5bWclYa"
      }
    },
    {
      "cell_type": "code",
      "source": [
        "train_0 = train.drop('Id', axis=1)\n",
        "\n",
        "ax = sns.heatmap(\n",
        "    train_0.corr(), \n",
        "    vmin=-1, vmax=1, center=0,\n",
        "    cmap=sns.diverging_palette(20, 220, n=200) #,\n",
        "    #square=True\n",
        ")\n",
        "ax.set_xticklabels(\n",
        "    ax.get_xticklabels(),\n",
        "    rotation=45 ,\n",
        "    horizontalalignment='right'\n",
        ");"
      ],
      "metadata": {
        "id": "uqQiUxGbEFJ8",
        "colab": {
          "base_uri": "https://localhost:8080/",
          "height": 320
        },
        "outputId": "c8254ad9-5cbc-418f-c2b3-d53df2f863f5"
      },
      "execution_count": 10,
      "outputs": [
        {
          "output_type": "display_data",
          "data": {
            "image/png": "[encoded data removed]",
            "text/plain": [
              "<Figure size 432x288 with 2 Axes>"
            ]
          },
          "metadata": {
            "needs_background": "light"
          }
        }
      ]
    },
    {
      "cell_type": "markdown",
      "metadata": {
        "id": "CvnM-9fnPk8E"
      },
      "source": [
        "# 3.Transform train and test before training (Feature engineering)"
      ]
    },
    {
      "cell_type": "markdown",
      "metadata": {
        "id": "CL_7wD8gwEQH"
      },
      "source": [
        "The data contains a lot of categorical variables. We will convert categorical variables into **dummy variables** (binary variables with values 0 and 1). \n",
        "\n",
        "One categorical variable is made into respective number of dummy variables as there are levels in the categorical variable. Each level gets a value of 0 or 1 depending on if the observation had that category present.  \n",
        "\n",
        "We will make dummy variables together with test set to ensure that all the levels of the categorical variables used for training are also in the test set as test set may not contain some levels of all variables. [2]"
      ]
    },
    {
      "cell_type": "code",
      "metadata": {
        "id": "RyzKZHdjPyD4"
      },
      "source": [
        "X=train.drop(['SalePrice'],axis=1)\n",
        "X['train']=1\n",
        "test['train']=0\n",
        "\n",
        "train_test=pd.concat([X,test])"
      ],
      "execution_count": 11,
      "outputs": []
    },
    {
      "cell_type": "markdown",
      "source": [
        "Our dataset contains a lot of NaN (missing) values, but based on the data description we know that these missing values actually have a meaning. In general, a missing value for categorical features means that the house does not have this object or feature. For example, in case of the variable \"BsmtQual\" which describes the quality of the basement (Excellent, Good, etc), the missing value means that there is no basement. Therefore, we decided to recode this kind of the missing values in the dataset. \n",
        "\n",
        "Secondly, in terms of the categorical variables \"Exterior1st\", \"Exterior2nd\" and \"SaleType\", data description does not contain any information what the missing values mean. However, it is not possible that the response options of the categorical variable contain all the possible values/responses and therefore often \"Other\" answer option is used. Thus, we decided to recode such missing values to value \"Other\". Fortunately, there are not many such missing values. \n",
        "\n",
        "Also some numerical variables have missing values in our dataset. Most of them are recoded to 0 as for example there are usually no basement in the houses where the feature describing the basement size is NaN. Thus, it seemes logical to recode such missing values to 0. \n",
        "\n",
        "Finally, we decided to remove features \"Id\" and \"GarageYrBlt\" from the data. \"Id\" is removed because it is unique for every house (observation) and \"GarageYrBlt\" contains missing values which could not be substituted with some other value.\n",
        "\n",
        "We also introduce new binary variables \"1st_Quarter\", \"2nd_Quarter\",\"3rd_Quarter\", \"4th_Quarter\" which show whether the sale of the house was made in that quarter. These variables will be useful if in the quarters the house sale prices were different."
      ],
      "metadata": {
        "id": "tlUQJWdue63b"
      }
    },
    {
      "cell_type": "code",
      "metadata": {
        "id": "v0Yy8c76i-Gl"
      },
      "source": [
        "# Replacing Nan values\n",
        "\n",
        "# Categorical variables\n",
        "train_test.Alley = train_test.Alley.replace(np.nan, 'No_alley')\n",
        "train_test.BsmtQual = train_test.BsmtQual.replace(np.nan, 'No_basement')\n",
        "train_test.BsmtCond = train_test.BsmtCond.replace(np.nan, 'No_basement')\n",
        "train_test.BsmtExposure = train_test.BsmtExposure.replace(np.nan, 'No_basement')\n",
        "train_test.BsmtFinType1 = train_test.BsmtFinType1.replace(np.nan, 'No_basement')\n",
        "train_test.BsmtFinType2 = train_test.BsmtFinType2.replace(np.nan, 'No_basement')\n",
        "train_test.FireplaceQu = train_test.FireplaceQu.replace(np.nan, 'No_fireplace')\n",
        "train_test.GarageType = train_test.GarageType.replace(np.nan, 'No_garage')\n",
        "train_test.GarageFinish = train_test.GarageFinish.replace(np.nan, 'No_garage')\n",
        "train_test.GarageQual = train_test.GarageQual.replace(np.nan, 'No_garage')\n",
        "train_test.GarageCond = train_test.GarageCond.replace(np.nan, 'No_garage')\n",
        "train_test.PoolQC = train_test.PoolQC.replace(np.nan, 'No_pool')\n",
        "train_test.Fence = train_test.Fence.replace(np.nan, 'No_fence')\n",
        "train_test.MiscFeature = train_test.MiscFeature.replace(np.nan, 'None')\n",
        "\n",
        "# Only missing values in test set (categorical and numerical variables)\n",
        "train_test.Exterior1st = train_test.Exterior1st.replace(np.nan, 'Other')\n",
        "train_test.Exterior2nd = train_test.Exterior2nd.replace(np.nan, 'Other')\n",
        "train_test.SaleType = train_test.SaleType.replace(np.nan, 'Oth') #Other category in dataset\n",
        "train_test.BsmtFinSF1 = train_test.BsmtFinSF1.replace(np.nan, 0)\n",
        "train_test.BsmtFinSF2 = train_test.BsmtFinSF2.replace(np.nan, 0)\n",
        "train_test.BsmtUnfSF = train_test.BsmtUnfSF.replace(np.nan, 0)\n",
        "train_test.TotalBsmtSF = train_test.TotalBsmtSF.replace(np.nan, 0)\n",
        "train_test.BsmtFullBath = train_test.BsmtFullBath.replace(np.nan, 0)\n",
        "train_test.BsmtHalfBath = train_test.BsmtHalfBath.replace(np.nan, 0)\n",
        "\n",
        "# Numeric variables\n",
        "train_test.MasVnrArea = train_test.MasVnrArea.replace(np.nan,0)\n",
        "train_test.LotFrontage = train_test.LotFrontage.replace(np.nan,0)\n",
        "\n",
        "# Dropping the variable 'GarageYrBlt' and 'Id'\n",
        "train_test = train_test.drop(['GarageYrBlt'], axis = 1)\n",
        "train_test = train_test.drop(['Id'], axis = 1)"
      ],
      "execution_count": 12,
      "outputs": []
    },
    {
      "cell_type": "code",
      "metadata": {
        "id": "6yBbxU7MQ_XU"
      },
      "source": [
        "train_test=pd.get_dummies(train_test)"
      ],
      "execution_count": 13,
      "outputs": []
    },
    {
      "cell_type": "code",
      "metadata": {
        "id": "h76cNTBaRDQU"
      },
      "source": [
        "train_df=train_test[train_test['train']==1]\n",
        "test_df=train_test[train_test['train']==0]\n",
        "train_df=train_df.drop(['train'],axis=1)\n",
        "test_df=test_df.drop(['train'],axis=1)"
      ],
      "execution_count": 14,
      "outputs": []
    },
    {
      "cell_type": "code",
      "metadata": {
        "colab": {
          "base_uri": "https://localhost:8080/"
        },
        "id": "6pANzd7VRJSV",
        "outputId": "1eb4505e-9e4e-4adb-802d-82624690e001"
      },
      "source": [
        "train_df2 = pd.concat([train_df,train['SalePrice']], axis=1)\n",
        "#drop NA values from the data\n",
        "print(f'Old size: {len(train_df2)}')\n",
        "train_df2 = train_df2.dropna(how = 'any', axis = 'rows')\n",
        "print(f'New size: {len(train_df2)}')\n",
        "\n",
        "train_df2['1st_quarter']=np.where( (train_df2['MoSold']==1) | (train_df2['MoSold']==2) | (train_df2['MoSold']==3) ,1,0)\n",
        "train_df2['2nd_quarter']=np.where( (train_df2['MoSold']==4) | (train_df2['MoSold']==5) | (train_df2['MoSold']==6) ,1,0)\n",
        "train_df2['3rd_quarter']=np.where( (train_df2['MoSold']==7) | (train_df2['MoSold']==8) | (train_df2['MoSold']==9) ,1,0)\n",
        "train_df2['4th_quarter']=np.where( (train_df2['MoSold']==10) | (train_df2['MoSold']==11) | (train_df2['MoSold']==12) ,1,0)\n",
        "train_df2 = train_df2.drop(['MoSold'], axis = 1)\n"
      ],
      "execution_count": 15,
      "outputs": [
        {
          "output_type": "stream",
          "name": "stdout",
          "text": [
            "Old size: 1460\n",
            "New size: 1460\n"
          ]
        }
      ]
    },
    {
      "cell_type": "code",
      "source": [
        "# Dropping rows with missing values (mostly missing values in test set, only one or two rows need to be removed)\n",
        "train_df2 = train_df2.dropna(how = 'any', axis = 'rows')"
      ],
      "metadata": {
        "id": "zUxQPSE0sa6Z"
      },
      "execution_count": 16,
      "outputs": []
    },
    {
      "cell_type": "code",
      "metadata": {
        "colab": {
          "base_uri": "https://localhost:8080/",
          "height": 338
        },
        "id": "VI6TRz8azb4K",
        "outputId": "2af660de-bceb-4168-81c0-5fdd89df51d9"
      },
      "source": [
        "train_df2.iloc[:,120:150].describe()"
      ],
      "execution_count": 17,
      "outputs": [
        {
          "output_type": "execute_result",
          "data": {
            "text/html": [
              "<div>\n",
              "<style scoped>\n",
              "    .dataframe tbody tr th:only-of-type {\n",
              "        vertical-align: middle;\n",
              "    }\n",
              "\n",
              "    .dataframe tbody tr th {\n",
              "        vertical-align: top;\n",
              "    }\n",
              "\n",
              "    .dataframe thead th {\n",
              "        text-align: right;\n",
              "    }\n",
              "</style>\n",
              "<table border=\"1\" class=\"dataframe\">\n",
              "  <thead>\n",
              "    <tr style=\"text-align: right;\">\n",
              "      <th></th>\n",
              "      <th>RoofStyle_Hip</th>\n",
              "      <th>RoofStyle_Mansard</th>\n",
              "      <th>RoofStyle_Shed</th>\n",
              "      <th>RoofMatl_ClyTile</th>\n",
              "      <th>RoofMatl_CompShg</th>\n",
              "      <th>RoofMatl_Membran</th>\n",
              "      <th>RoofMatl_Metal</th>\n",
              "      <th>RoofMatl_Roll</th>\n",
              "      <th>RoofMatl_Tar&amp;Grv</th>\n",
              "      <th>RoofMatl_WdShake</th>\n",
              "      <th>RoofMatl_WdShngl</th>\n",
              "      <th>Exterior1st_AsbShng</th>\n",
              "      <th>Exterior1st_AsphShn</th>\n",
              "      <th>Exterior1st_BrkComm</th>\n",
              "      <th>Exterior1st_BrkFace</th>\n",
              "      <th>Exterior1st_CBlock</th>\n",
              "      <th>Exterior1st_CemntBd</th>\n",
              "      <th>Exterior1st_HdBoard</th>\n",
              "      <th>Exterior1st_ImStucc</th>\n",
              "      <th>Exterior1st_MetalSd</th>\n",
              "      <th>Exterior1st_Other</th>\n",
              "      <th>Exterior1st_Plywood</th>\n",
              "      <th>Exterior1st_Stone</th>\n",
              "      <th>Exterior1st_Stucco</th>\n",
              "      <th>Exterior1st_VinylSd</th>\n",
              "      <th>Exterior1st_Wd Sdng</th>\n",
              "      <th>Exterior1st_WdShing</th>\n",
              "      <th>Exterior2nd_AsbShng</th>\n",
              "      <th>Exterior2nd_AsphShn</th>\n",
              "      <th>Exterior2nd_Brk Cmn</th>\n",
              "    </tr>\n",
              "  </thead>\n",
              "  <tbody>\n",
              "    <tr>\n",
              "      <th>count</th>\n",
              "      <td>1460.000000</td>\n",
              "      <td>1460.000000</td>\n",
              "      <td>1460.000000</td>\n",
              "      <td>1460.000000</td>\n",
              "      <td>1460.000000</td>\n",
              "      <td>1460.000000</td>\n",
              "      <td>1460.000000</td>\n",
              "      <td>1460.000000</td>\n",
              "      <td>1460.000000</td>\n",
              "      <td>1460.000000</td>\n",
              "      <td>1460.000000</td>\n",
              "      <td>1460.000000</td>\n",
              "      <td>1460.000000</td>\n",
              "      <td>1460.000000</td>\n",
              "      <td>1460.000000</td>\n",
              "      <td>1460.000000</td>\n",
              "      <td>1460.000000</td>\n",
              "      <td>1460.000000</td>\n",
              "      <td>1460.000000</td>\n",
              "      <td>1460.000000</td>\n",
              "      <td>1460.0</td>\n",
              "      <td>1460.000000</td>\n",
              "      <td>1460.000000</td>\n",
              "      <td>1460.000000</td>\n",
              "      <td>1460.000000</td>\n",
              "      <td>1460.000000</td>\n",
              "      <td>1460.000000</td>\n",
              "      <td>1460.000000</td>\n",
              "      <td>1460.000000</td>\n",
              "      <td>1460.000000</td>\n",
              "    </tr>\n",
              "    <tr>\n",
              "      <th>mean</th>\n",
              "      <td>0.195890</td>\n",
              "      <td>0.004795</td>\n",
              "      <td>0.001370</td>\n",
              "      <td>0.000685</td>\n",
              "      <td>0.982192</td>\n",
              "      <td>0.000685</td>\n",
              "      <td>0.000685</td>\n",
              "      <td>0.000685</td>\n",
              "      <td>0.007534</td>\n",
              "      <td>0.003425</td>\n",
              "      <td>0.004110</td>\n",
              "      <td>0.013699</td>\n",
              "      <td>0.000685</td>\n",
              "      <td>0.001370</td>\n",
              "      <td>0.034247</td>\n",
              "      <td>0.000685</td>\n",
              "      <td>0.041781</td>\n",
              "      <td>0.152055</td>\n",
              "      <td>0.000685</td>\n",
              "      <td>0.150685</td>\n",
              "      <td>0.0</td>\n",
              "      <td>0.073973</td>\n",
              "      <td>0.001370</td>\n",
              "      <td>0.017123</td>\n",
              "      <td>0.352740</td>\n",
              "      <td>0.141096</td>\n",
              "      <td>0.017808</td>\n",
              "      <td>0.013699</td>\n",
              "      <td>0.002055</td>\n",
              "      <td>0.004795</td>\n",
              "    </tr>\n",
              "    <tr>\n",
              "      <th>std</th>\n",
              "      <td>0.397021</td>\n",
              "      <td>0.069100</td>\n",
              "      <td>0.036999</td>\n",
              "      <td>0.026171</td>\n",
              "      <td>0.132299</td>\n",
              "      <td>0.026171</td>\n",
              "      <td>0.026171</td>\n",
              "      <td>0.026171</td>\n",
              "      <td>0.086502</td>\n",
              "      <td>0.058440</td>\n",
              "      <td>0.063996</td>\n",
              "      <td>0.116277</td>\n",
              "      <td>0.026171</td>\n",
              "      <td>0.036999</td>\n",
              "      <td>0.181924</td>\n",
              "      <td>0.026171</td>\n",
              "      <td>0.200157</td>\n",
              "      <td>0.359197</td>\n",
              "      <td>0.026171</td>\n",
              "      <td>0.357864</td>\n",
              "      <td>0.0</td>\n",
              "      <td>0.261816</td>\n",
              "      <td>0.036999</td>\n",
              "      <td>0.129775</td>\n",
              "      <td>0.477986</td>\n",
              "      <td>0.348240</td>\n",
              "      <td>0.132299</td>\n",
              "      <td>0.116277</td>\n",
              "      <td>0.045299</td>\n",
              "      <td>0.069100</td>\n",
              "    </tr>\n",
              "    <tr>\n",
              "      <th>min</th>\n",
              "      <td>0.000000</td>\n",
              "      <td>0.000000</td>\n",
              "      <td>0.000000</td>\n",
              "      <td>0.000000</td>\n",
              "      <td>0.000000</td>\n",
              "      <td>0.000000</td>\n",
              "      <td>0.000000</td>\n",
              "      <td>0.000000</td>\n",
              "      <td>0.000000</td>\n",
              "      <td>0.000000</td>\n",
              "      <td>0.000000</td>\n",
              "      <td>0.000000</td>\n",
              "      <td>0.000000</td>\n",
              "      <td>0.000000</td>\n",
              "      <td>0.000000</td>\n",
              "      <td>0.000000</td>\n",
              "      <td>0.000000</td>\n",
              "      <td>0.000000</td>\n",
              "      <td>0.000000</td>\n",
              "      <td>0.000000</td>\n",
              "      <td>0.0</td>\n",
              "      <td>0.000000</td>\n",
              "      <td>0.000000</td>\n",
              "      <td>0.000000</td>\n",
              "      <td>0.000000</td>\n",
              "      <td>0.000000</td>\n",
              "      <td>0.000000</td>\n",
              "      <td>0.000000</td>\n",
              "      <td>0.000000</td>\n",
              "      <td>0.000000</td>\n",
              "    </tr>\n",
              "    <tr>\n",
              "      <th>25%</th>\n",
              "      <td>0.000000</td>\n",
              "      <td>0.000000</td>\n",
              "      <td>0.000000</td>\n",
              "      <td>0.000000</td>\n",
              "      <td>1.000000</td>\n",
              "      <td>0.000000</td>\n",
              "      <td>0.000000</td>\n",
              "      <td>0.000000</td>\n",
              "      <td>0.000000</td>\n",
              "      <td>0.000000</td>\n",
              "      <td>0.000000</td>\n",
              "      <td>0.000000</td>\n",
              "      <td>0.000000</td>\n",
              "      <td>0.000000</td>\n",
              "      <td>0.000000</td>\n",
              "      <td>0.000000</td>\n",
              "      <td>0.000000</td>\n",
              "      <td>0.000000</td>\n",
              "      <td>0.000000</td>\n",
              "      <td>0.000000</td>\n",
              "      <td>0.0</td>\n",
              "      <td>0.000000</td>\n",
              "      <td>0.000000</td>\n",
              "      <td>0.000000</td>\n",
              "      <td>0.000000</td>\n",
              "      <td>0.000000</td>\n",
              "      <td>0.000000</td>\n",
              "      <td>0.000000</td>\n",
              "      <td>0.000000</td>\n",
              "      <td>0.000000</td>\n",
              "    </tr>\n",
              "    <tr>\n",
              "      <th>50%</th>\n",
              "      <td>0.000000</td>\n",
              "      <td>0.000000</td>\n",
              "      <td>0.000000</td>\n",
              "      <td>0.000000</td>\n",
              "      <td>1.000000</td>\n",
              "      <td>0.000000</td>\n",
              "      <td>0.000000</td>\n",
              "      <td>0.000000</td>\n",
              "      <td>0.000000</td>\n",
              "      <td>0.000000</td>\n",
              "      <td>0.000000</td>\n",
              "      <td>0.000000</td>\n",
              "      <td>0.000000</td>\n",
              "      <td>0.000000</td>\n",
              "      <td>0.000000</td>\n",
              "      <td>0.000000</td>\n",
              "      <td>0.000000</td>\n",
              "      <td>0.000000</td>\n",
              "      <td>0.000000</td>\n",
              "      <td>0.000000</td>\n",
              "      <td>0.0</td>\n",
              "      <td>0.000000</td>\n",
              "      <td>0.000000</td>\n",
              "      <td>0.000000</td>\n",
              "      <td>0.000000</td>\n",
              "      <td>0.000000</td>\n",
              "      <td>0.000000</td>\n",
              "      <td>0.000000</td>\n",
              "      <td>0.000000</td>\n",
              "      <td>0.000000</td>\n",
              "    </tr>\n",
              "    <tr>\n",
              "      <th>75%</th>\n",
              "      <td>0.000000</td>\n",
              "      <td>0.000000</td>\n",
              "      <td>0.000000</td>\n",
              "      <td>0.000000</td>\n",
              "      <td>1.000000</td>\n",
              "      <td>0.000000</td>\n",
              "      <td>0.000000</td>\n",
              "      <td>0.000000</td>\n",
              "      <td>0.000000</td>\n",
              "      <td>0.000000</td>\n",
              "      <td>0.000000</td>\n",
              "      <td>0.000000</td>\n",
              "      <td>0.000000</td>\n",
              "      <td>0.000000</td>\n",
              "      <td>0.000000</td>\n",
              "      <td>0.000000</td>\n",
              "      <td>0.000000</td>\n",
              "      <td>0.000000</td>\n",
              "      <td>0.000000</td>\n",
              "      <td>0.000000</td>\n",
              "      <td>0.0</td>\n",
              "      <td>0.000000</td>\n",
              "      <td>0.000000</td>\n",
              "      <td>0.000000</td>\n",
              "      <td>1.000000</td>\n",
              "      <td>0.000000</td>\n",
              "      <td>0.000000</td>\n",
              "      <td>0.000000</td>\n",
              "      <td>0.000000</td>\n",
              "      <td>0.000000</td>\n",
              "    </tr>\n",
              "    <tr>\n",
              "      <th>max</th>\n",
              "      <td>1.000000</td>\n",
              "      <td>1.000000</td>\n",
              "      <td>1.000000</td>\n",
              "      <td>1.000000</td>\n",
              "      <td>1.000000</td>\n",
              "      <td>1.000000</td>\n",
              "      <td>1.000000</td>\n",
              "      <td>1.000000</td>\n",
              "      <td>1.000000</td>\n",
              "      <td>1.000000</td>\n",
              "      <td>1.000000</td>\n",
              "      <td>1.000000</td>\n",
              "      <td>1.000000</td>\n",
              "      <td>1.000000</td>\n",
              "      <td>1.000000</td>\n",
              "      <td>1.000000</td>\n",
              "      <td>1.000000</td>\n",
              "      <td>1.000000</td>\n",
              "      <td>1.000000</td>\n",
              "      <td>1.000000</td>\n",
              "      <td>0.0</td>\n",
              "      <td>1.000000</td>\n",
              "      <td>1.000000</td>\n",
              "      <td>1.000000</td>\n",
              "      <td>1.000000</td>\n",
              "      <td>1.000000</td>\n",
              "      <td>1.000000</td>\n",
              "      <td>1.000000</td>\n",
              "      <td>1.000000</td>\n",
              "      <td>1.000000</td>\n",
              "    </tr>\n",
              "  </tbody>\n",
              "</table>\n",
              "</div>"
            ],
            "text/plain": [
              "       RoofStyle_Hip  ...  Exterior2nd_Brk Cmn\n",
              "count    1460.000000  ...          1460.000000\n",
              "mean        0.195890  ...             0.004795\n",
              "std         0.397021  ...             0.069100\n",
              "min         0.000000  ...             0.000000\n",
              "25%         0.000000  ...             0.000000\n",
              "50%         0.000000  ...             0.000000\n",
              "75%         0.000000  ...             0.000000\n",
              "max         1.000000  ...             1.000000\n",
              "\n",
              "[8 rows x 30 columns]"
            ]
          },
          "metadata": {},
          "execution_count": 17
        }
      ]
    },
    {
      "cell_type": "markdown",
      "metadata": {
        "id": "PKoO1cOFzgLa"
      },
      "source": [
        "Dummy variable \"Exterior1st_Other\"\n",
        "isn not present in the train set, thus dropping this from the train set. "
      ]
    },
    {
      "cell_type": "code",
      "metadata": {
        "colab": {
          "base_uri": "https://localhost:8080/",
          "height": 300
        },
        "id": "BAhciUPVms_t",
        "outputId": "0ca6cc46-37a4-42f4-c952-6d2d94e0722f"
      },
      "source": [
        "train_df2[['Exterior1st_Other']].describe()"
      ],
      "execution_count": 18,
      "outputs": [
        {
          "output_type": "execute_result",
          "data": {
            "text/html": [
              "<div>\n",
              "<style scoped>\n",
              "    .dataframe tbody tr th:only-of-type {\n",
              "        vertical-align: middle;\n",
              "    }\n",
              "\n",
              "    .dataframe tbody tr th {\n",
              "        vertical-align: top;\n",
              "    }\n",
              "\n",
              "    .dataframe thead th {\n",
              "        text-align: right;\n",
              "    }\n",
              "</style>\n",
              "<table border=\"1\" class=\"dataframe\">\n",
              "  <thead>\n",
              "    <tr style=\"text-align: right;\">\n",
              "      <th></th>\n",
              "      <th>Exterior1st_Other</th>\n",
              "    </tr>\n",
              "  </thead>\n",
              "  <tbody>\n",
              "    <tr>\n",
              "      <th>count</th>\n",
              "      <td>1460.0</td>\n",
              "    </tr>\n",
              "    <tr>\n",
              "      <th>mean</th>\n",
              "      <td>0.0</td>\n",
              "    </tr>\n",
              "    <tr>\n",
              "      <th>std</th>\n",
              "      <td>0.0</td>\n",
              "    </tr>\n",
              "    <tr>\n",
              "      <th>min</th>\n",
              "      <td>0.0</td>\n",
              "    </tr>\n",
              "    <tr>\n",
              "      <th>25%</th>\n",
              "      <td>0.0</td>\n",
              "    </tr>\n",
              "    <tr>\n",
              "      <th>50%</th>\n",
              "      <td>0.0</td>\n",
              "    </tr>\n",
              "    <tr>\n",
              "      <th>75%</th>\n",
              "      <td>0.0</td>\n",
              "    </tr>\n",
              "    <tr>\n",
              "      <th>max</th>\n",
              "      <td>0.0</td>\n",
              "    </tr>\n",
              "  </tbody>\n",
              "</table>\n",
              "</div>"
            ],
            "text/plain": [
              "       Exterior1st_Other\n",
              "count             1460.0\n",
              "mean                 0.0\n",
              "std                  0.0\n",
              "min                  0.0\n",
              "25%                  0.0\n",
              "50%                  0.0\n",
              "75%                  0.0\n",
              "max                  0.0"
            ]
          },
          "metadata": {},
          "execution_count": 18
        }
      ]
    },
    {
      "cell_type": "code",
      "metadata": {
        "id": "mwJGDg1szwUV"
      },
      "source": [
        "train_df2 = train_df2.drop(['Exterior1st_Other'], axis = 1)"
      ],
      "execution_count": 19,
      "outputs": []
    },
    {
      "cell_type": "markdown",
      "source": [
        "Make the same data modification to the test set, so it would be ready for making sumbissions to Kaggle."
      ],
      "metadata": {
        "id": "M1_ZQRaamLQu"
      }
    },
    {
      "cell_type": "code",
      "source": [
        "test_df = test_df.drop(['Exterior1st_Other'], axis = 1)"
      ],
      "metadata": {
        "id": "Ans7-afSpoQB"
      },
      "execution_count": 20,
      "outputs": []
    },
    {
      "cell_type": "code",
      "source": [
        "test_df['1st_quarter']=np.where( (test_df['MoSold']==1) | (test_df['MoSold']==2) | (test_df['MoSold']==3) ,1,0)\n",
        "test_df['2nd_quarter']=np.where( (test_df['MoSold']==4) | (test_df['MoSold']==5) | (test_df['MoSold']==6) ,1,0)\n",
        "test_df['3rd_quarter']=np.where( (test_df['MoSold']==7) | (test_df['MoSold']==8) | (test_df['MoSold']==9) ,1,0)\n",
        "test_df['4th_quarter']=np.where( (test_df['MoSold']==10) | (test_df['MoSold']==11) | (test_df['MoSold']==12) ,1,0)\n",
        "test_df = test_df.drop(['MoSold'], axis = 1)"
      ],
      "metadata": {
        "id": "0R2OuUNuqdQn"
      },
      "execution_count": 21,
      "outputs": []
    },
    {
      "cell_type": "code",
      "source": [
        "test_df.fillna(0, inplace = True) #Replace test set NA-values with 0 as we have only numerical variables in final train set."
      ],
      "metadata": {
        "id": "mM9tHl5tD0Q-"
      },
      "execution_count": 22,
      "outputs": []
    },
    {
      "cell_type": "code",
      "source": [
        "train_df2.shape"
      ],
      "metadata": {
        "colab": {
          "base_uri": "https://localhost:8080/"
        },
        "id": "lZLF2SftrLn-",
        "outputId": "e3d8496a-c0f4-4fa8-b312-73546b0b1705"
      },
      "execution_count": 23,
      "outputs": [
        {
          "output_type": "execute_result",
          "data": {
            "text/plain": [
              "(1460, 305)"
            ]
          },
          "metadata": {},
          "execution_count": 23
        }
      ]
    },
    {
      "cell_type": "code",
      "source": [
        "test_df.shape"
      ],
      "metadata": {
        "colab": {
          "base_uri": "https://localhost:8080/"
        },
        "id": "2YVtbioZrOhU",
        "outputId": "e5939a00-23c9-4e8e-8e81-e876a2739e0b"
      },
      "execution_count": 24,
      "outputs": [
        {
          "output_type": "execute_result",
          "data": {
            "text/plain": [
              "(1459, 304)"
            ]
          },
          "metadata": {},
          "execution_count": 24
        }
      ]
    },
    {
      "cell_type": "markdown",
      "source": [
        "# 4. Finding the best model for SalePrice\n",
        "\n",
        "Now that the data preparation is done, we will try out different models. Our aim is to find the best model by RMSE. Also, we submit best models to Kaggle and get the score of root mean squared logarithmic error (RMSLE).\n",
        "\n",
        "The equation for the RMSLE is the following\n",
        "\n",
        "$RMSLE = \\sqrt{\\frac1n\\sum_{i=1}^n (\\log(\\hat{y}_i+1)-\\log(y_i+1))^2} $, \n",
        "\n",
        "where $n$ is the total number of observations in the data, $\\hat{y}_i$ is the predicited value and $y_i$ is the actual value of observation $i$.\n",
        "\n",
        "To evaluate the models we will use validation set.\n",
        "We split train set from Kaggle to train (80%) and validation set (20%) and calculate models performances on validation set.\n",
        "In addition we will use cross-validation to get the mean RMSE estimates of models and choose parameters of models (for example lasso regression's penalty value).\n",
        "\n",
        "We are going to look at: \n",
        "1. Regression models - Vanilla, Lasso, Ridge\n",
        "2. Decision Trees and Random Forests\n",
        "3. Ensemble models\n",
        "4. XGBoost, Gradient and Adaptive Boosting, Bagging \n",
        "5. Performing Principal Component Analysis for dimensionality reduction."
      ],
      "metadata": {
        "id": "xcYk1oDtnKUF"
      }
    },
    {
      "cell_type": "code",
      "metadata": {
        "id": "j4BO6jwxz6Dt"
      },
      "source": [
        "y_all=train_df2['SalePrice']\n",
        "X_all=train_df2.drop(['SalePrice'],axis=1)\n",
        "train_X, val_X, train_y, val_y = train_test_split(X_all, y_all,random_state=111, test_size = 0.20)"
      ],
      "execution_count": 25,
      "outputs": []
    },
    {
      "cell_type": "markdown",
      "metadata": {
        "id": "u_q6Fv2TSN8N"
      },
      "source": [
        "# 5. Regression models\n",
        "\n",
        "Firstly, we will see how simple linear regression, Lasso and Ridge regressions perform. Later we will use them in ensemble models as well."
      ]
    },
    {
      "cell_type": "markdown",
      "metadata": {
        "id": "15Mi2Vo2W9Ng"
      },
      "source": [
        "## 5.1 Linear Regression"
      ]
    },
    {
      "cell_type": "code",
      "metadata": {
        "id": "8RrSp_8wW_Dt"
      },
      "source": [
        "model_lr = LinearRegression()\n",
        "model_lr.fit(train_X, train_y)\n",
        "val_predictions_lr = model_lr.predict(val_X)"
      ],
      "execution_count": null,
      "outputs": []
    },
    {
      "cell_type": "code",
      "metadata": {
        "colab": {
          "base_uri": "https://localhost:8080/"
        },
        "id": "dGfLuyphXAdd",
        "outputId": "5b5cc7e0-fbf3-4d99-d8ca-a82086bffb69"
      },
      "source": [
        "mean_squared_error(val_y, val_predictions_lr , squared=False) #RMSE value"
      ],
      "execution_count": null,
      "outputs": [
        {
          "output_type": "execute_result",
          "data": {
            "text/plain": [
              "31567.76892309507"
            ]
          },
          "metadata": {},
          "execution_count": 17
        }
      ]
    },
    {
      "cell_type": "markdown",
      "source": [
        "In Kaggle competition the score is computed with root mean squared logarithmic error."
      ],
      "metadata": {
        "id": "QFrHsLbpp2Dq"
      }
    },
    {
      "cell_type": "code",
      "source": [
        " mean_squared_log_error(val_y, val_predictions_lr, squared=False) #RMSLE value"
      ],
      "metadata": {
        "colab": {
          "base_uri": "https://localhost:8080/"
        },
        "id": "1TgLIpngpqzD",
        "outputId": "c0adb0ce-903b-4a3b-de10-ad298c4f4042"
      },
      "execution_count": null,
      "outputs": [
        {
          "output_type": "execute_result",
          "data": {
            "text/plain": [
              "0.1963467170465598"
            ]
          },
          "metadata": {},
          "execution_count": 18
        }
      ]
    },
    {
      "cell_type": "markdown",
      "metadata": {
        "id": "9YWvE8L-mPN3"
      },
      "source": [
        "## 5.2 Linear regression with cross-validation"
      ]
    },
    {
      "cell_type": "markdown",
      "metadata": {
        "id": "Kn4HbyODu8rA"
      },
      "source": [
        "To get the implication how the simple linear regression works, we will train the model with cross-validation and get the mean RMSE on folds."
      ]
    },
    {
      "cell_type": "code",
      "metadata": {
        "colab": {
          "base_uri": "https://localhost:8080/"
        },
        "id": "UTYyocxCmOK3",
        "outputId": "942e489a-f2fc-4f63-9e08-3ba0ce3e45ff"
      },
      "source": [
        "model_lr = LinearRegression()\n",
        "\n",
        "n_folds = 4 # we choose 4 folds\n",
        "fold_RMSEs = np.zeros(n_folds)\n",
        "\n",
        "y = np.array(train_df2['SalePrice'])\n",
        "X = np.array(train_df2.drop(['SalePrice'], axis = 1))\n",
        "\n",
        "# initialise splitting mechanism\n",
        "folds = KFold(n_splits=n_folds, shuffle=True, random_state=111) # shuffle=True, random_state=111 \n",
        "\n",
        "# here actual splitting is done\n",
        "folds.get_n_splits(X, y)\n",
        "\n",
        "fold_indx = 1\n",
        "\n",
        "# folds.split is an iterator that loops over different folds\n",
        "# returning a tuple with train and val indeces\n",
        "for train_index, val_index in folds.split(X, y):\n",
        "  #print(f\"CV #{fold_indx}\") # for computing \n",
        "  X_train, X_val = X[train_index], X[val_index]\n",
        "  y_train, y_val = y[train_index], y[val_index]\n",
        "\n",
        "  # train the model\n",
        "  model_lr.fit(X_train, y_train)\n",
        "\n",
        "  val_predictions = model_lr.predict(X_val)\n",
        "  fold_RMSEs[fold_indx-1] = mean_squared_error(y_val, val_predictions, squared = False)\n",
        "\n",
        "  fold_indx += 1\n",
        "\n",
        "print(f'Average validation RMSE is {np.mean(fold_RMSEs)}') \n"
      ],
      "execution_count": null,
      "outputs": [
        {
          "output_type": "stream",
          "name": "stdout",
          "text": [
            "Average validation RMSE is 41802.026353207766\n"
          ]
        }
      ]
    },
    {
      "cell_type": "markdown",
      "metadata": {
        "id": "gWHdZMgbustu"
      },
      "source": [
        "Simple linear regression gives the mean RMSE value 41 802 with cross-validation, which is larger than on only using one validation set."
      ]
    },
    {
      "cell_type": "markdown",
      "source": [
        "Next we will use entire train set for fitting. Then the result calculated on the predictions of the test set are submitted to Kaggle."
      ],
      "metadata": {
        "id": "WB1SYIiNrccg"
      }
    },
    {
      "cell_type": "code",
      "source": [
        "model_lr = LinearRegression()\n",
        "model_lr.fit(X_all, y_all)"
      ],
      "metadata": {
        "colab": {
          "base_uri": "https://localhost:8080/"
        },
        "id": "H69WeVWKs6RU",
        "outputId": "85ab645b-fed9-4cb5-c5cf-4a8b2502f976"
      },
      "execution_count": null,
      "outputs": [
        {
          "output_type": "execute_result",
          "data": {
            "text/plain": [
              "LinearRegression()"
            ]
          },
          "metadata": {},
          "execution_count": 40
        }
      ]
    },
    {
      "cell_type": "markdown",
      "source": [
        "Predictions on test set to submit to Kaggle."
      ],
      "metadata": {
        "id": "GXoGbTSro8lh"
      }
    },
    {
      "cell_type": "code",
      "source": [
        "test_y_predictions_lr = model_lr.predict(test_df)\n",
        "\n",
        "submission_lr = pd.DataFrame(\n",
        "    {'Id': test.Id, 'SalePrice': test_y_predictions_lr},\n",
        "    columns = ['Id', 'SalePrice'])\n",
        "submission_lr.to_csv('submission_lr.csv', index = False)"
      ],
      "metadata": {
        "id": "5RN2Dl9ro6iz"
      },
      "execution_count": null,
      "outputs": []
    },
    {
      "cell_type": "code",
      "source": [
        "!kaggle competitions submit -c house-prices-advanced-regression-techniques -f submission_lr.csv -m \"Linear regression submission\""
      ],
      "metadata": {
        "colab": {
          "base_uri": "https://localhost:8080/"
        },
        "id": "Faaf-mgHnhpv",
        "outputId": "40c1feb5-0061-41ae-9e46-54f93435a868"
      },
      "execution_count": null,
      "outputs": [
        {
          "output_type": "stream",
          "name": "stdout",
          "text": [
            "Warning: Your Kaggle API key is readable by other users on this system! To fix this, you can run 'chmod 600 /root/.kaggle/kaggle.json'\n",
            "Warning: Looks like you're using an outdated API Version, please consider updating (server 1.5.12 / client 1.5.4)\n",
            "100% 33.6k/33.6k [00:00<00:00, 93.9kB/s]\n",
            "Successfully submitted to House Prices - Advanced Regression Techniques"
          ]
        }
      ]
    },
    {
      "cell_type": "markdown",
      "source": [
        "Kaggle score 0.19424"
      ],
      "metadata": {
        "id": "4fAKas2cxupc"
      }
    },
    {
      "cell_type": "markdown",
      "metadata": {
        "id": "edC06rqcSJbG"
      },
      "source": [
        "## 5.3 Lasso Regression\n",
        "To find the best parameter (lambda value) we perform the cross-validation algorithm."
      ]
    },
    {
      "cell_type": "code",
      "metadata": {
        "id": "vX-614kESUNG",
        "colab": {
          "base_uri": "https://localhost:8080/"
        },
        "outputId": "082fdcac-8b25-45f4-9f63-1eaedfccc373"
      },
      "source": [
        "lambdas = [0.5, 1, 2, 3, 4, 5, 6, 8, 10, 15, 25, 50, 75, 100, 130, 140, 145, 150, 155, 160, 170, 500] # lambda values (we can try other lambda values too)\n",
        "\n",
        "# let's collect RMSE values to find the best lambda\n",
        "error = np.zeros(len(lambdas))\n",
        "\n",
        "y = np.array(train_df2['SalePrice'])\n",
        "X = np.array(train_df2.drop(['SalePrice'], axis = 1))\n",
        "\n",
        "for i, lambda_ in enumerate(lambdas):\n",
        "  #print(f'RMSE for lambda = {lambda_}...')\n",
        "\n",
        "  # 4-fold cross validation\n",
        "  # Here we are using sklearn Cross Validation Function called KFold\n",
        "  kf = KFold(n_splits=4, random_state=111, shuffle=True)\n",
        "\n",
        "  # We initialize empty lists\n",
        "  fold_rmse = []\n",
        "  for train_index, val_index in kf.split(X):\n",
        "\n",
        "    # split data into train_X, train_y and val_X, val_y depending on the fold:\n",
        "    X_train, X_val = X[train_index], X[val_index]\n",
        "    y_train, y_val = y[train_index], y[val_index]\n",
        "\n",
        "    # train the Lasso regression model with lambda_\n",
        "    model = Lasso(alpha = lambda_, max_iter = 35000) # by default max_iter=1000\n",
        "    #increase number of iteration because model has problem with convergence\n",
        "    # however, it makes the algorithm much slower\n",
        "\n",
        "    # fit the Lasso regression on training data\n",
        "    model.fit(X_train, y_train) \n",
        "\n",
        "    # predictions on validation data\n",
        "    predictions = model.predict(X_val)\n",
        "\n",
        "    # calculate RMSE for this fold and store it in fold_rmse\n",
        "    error_rmse = mean_squared_error(y_val, predictions, squared=False)\n",
        "    fold_rmse.append(error_rmse)\n",
        "\n",
        "  print(f'Average RMSE for {lambda_} is {np.mean(fold_rmse)}')\n",
        "  error[i] = np.mean(fold_rmse)"
      ],
      "execution_count": null,
      "outputs": [
        {
          "output_type": "stream",
          "name": "stdout",
          "text": [
            "Average RMSE for 0.5 is 39233.68565118142\n",
            "Average RMSE for 1 is 37287.1346064035\n",
            "Average RMSE for 2 is 35785.423872332154\n",
            "Average RMSE for 3 is 34979.87513751094\n",
            "Average RMSE for 4 is 34010.95884129196\n",
            "Average RMSE for 5 is 33839.37066625411\n",
            "Average RMSE for 6 is 33673.890139838084\n",
            "Average RMSE for 8 is 33370.98360625698\n",
            "Average RMSE for 10 is 33167.73494181614\n",
            "Average RMSE for 15 is 32796.945911117175\n",
            "Average RMSE for 25 is 32201.261747745968\n",
            "Average RMSE for 50 is 31633.13493261612\n",
            "Average RMSE for 75 is 31310.52616742839\n",
            "Average RMSE for 100 is 31160.29670969296\n",
            "Average RMSE for 130 is 31062.856398069718\n",
            "Average RMSE for 140 is 31042.86823462953\n",
            "Average RMSE for 145 is 31034.61315914039\n",
            "Average RMSE for 150 is 31029.128829671776\n",
            "Average RMSE for 155 is 31029.49122046095\n",
            "Average RMSE for 160 is 31032.687806831014\n",
            "Average RMSE for 170 is 31051.601201308913\n",
            "Average RMSE for 500 is 32670.618303137475\n"
          ]
        }
      ]
    },
    {
      "cell_type": "code",
      "metadata": {
        "id": "jJ-c-iRASnpz",
        "colab": {
          "base_uri": "https://localhost:8080/",
          "height": 369
        },
        "outputId": "76b82abb-3977-4809-91ae-c0261a9236f0"
      },
      "source": [
        "# Figure\n",
        "plt.figure(figsize=(25, 6)) \n",
        "plt.plot(lambdas, error)\n",
        "plt.xlabel('lambda')\n",
        "plt.ylabel('RMSE')"
      ],
      "execution_count": null,
      "outputs": [
        {
          "output_type": "execute_result",
          "data": {
            "text/plain": [
              "Text(0, 0.5, 'RMSE')"
            ]
          },
          "metadata": {},
          "execution_count": 34
        },
        {
          "output_type": "display_data",
          "data": {
            "image/png": "[encoded data removed]",
            "text/plain": [
              "<Figure size 1800x432 with 1 Axes>"
            ]
          },
          "metadata": {
            "needs_background": "light"
          }
        }
      ]
    },
    {
      "cell_type": "markdown",
      "source": [
        "When executing Lasso regression, we had a problem with convergence. More precisely, Lasso regression did not converge with small lambda values (1-10) and therefore we had to change the max number of iterations. By default this parameter is equal to 1000, but we had to increase it to 35000. As a result, our model converged in case of every lambda, however, the algorithm was much slower. \n",
        "\n",
        "From the results we can see that $lambda=150$ gives the smallest RMSE value."
      ],
      "metadata": {
        "id": "XObKNfJWbIzX"
      }
    },
    {
      "cell_type": "markdown",
      "source": [
        "For the comparison; using the most suitable lambda value."
      ],
      "metadata": {
        "id": "IR-5j0I9KYnR"
      }
    },
    {
      "cell_type": "code",
      "source": [
        "model_lasso = Lasso(alpha = 150, max_iter = 10000)\n",
        "model_lasso.fit(train_X, train_y)\n",
        "\n",
        "predictions_lasso = model_lasso.predict(val_X)\n",
        "rmse_lasso = mean_squared_error(val_y, predictions_lasso, squared=False) #RMSE value\n",
        "rmsle_lasso = mean_squared_log_error(val_y, predictions_lasso, squared=False) #RMSLE value\n",
        "\n",
        "print(f'RMSE for Lasso regression is {rmse_lasso}')\n",
        "print(f'RMSLE for Lasso regression is {rmsle_lasso}')"
      ],
      "metadata": {
        "colab": {
          "base_uri": "https://localhost:8080/"
        },
        "id": "6rRxV5d0KXvc",
        "outputId": "fcfd2fef-3ef7-4dcf-8111-5c7410e1adaf"
      },
      "execution_count": null,
      "outputs": [
        {
          "output_type": "stream",
          "name": "stdout",
          "text": [
            "RMSE for Lasso regression is 28666.26937732574\n",
            "RMSLE for Lasso regression is 0.12238568144863615\n"
          ]
        }
      ]
    },
    {
      "cell_type": "markdown",
      "source": [
        "Lasso regression result for Kaggle."
      ],
      "metadata": {
        "id": "EY1jtCdQMmd4"
      }
    },
    {
      "cell_type": "code",
      "source": [
        "model_Lasso = Lasso(alpha = 150, max_iter = 10000)\n",
        "model_Lasso.fit(X_all, y_all)\n",
        "\n",
        "test_y_predictions_lasso = model_Lasso.predict(test_df)"
      ],
      "metadata": {
        "id": "NZ8ktYOLM4XZ"
      },
      "execution_count": null,
      "outputs": []
    },
    {
      "cell_type": "code",
      "source": [
        "submission_lasso = pd.DataFrame(\n",
        "    {'Id': test.Id, 'SalePrice': test_y_predictions_lasso},\n",
        "    columns = ['Id', 'SalePrice'])\n",
        "submission_lasso.to_csv('submission_lasso.csv', index = False)"
      ],
      "metadata": {
        "id": "bqA2rCRfNB5x"
      },
      "execution_count": null,
      "outputs": []
    },
    {
      "cell_type": "code",
      "source": [
        "!kaggle competitions submit -c house-prices-advanced-regression-techniques -f submission_lasso.csv -m \"Lasso Regression submission\""
      ],
      "metadata": {
        "colab": {
          "base_uri": "https://localhost:8080/"
        },
        "id": "nTxY3xdqNF7z",
        "outputId": "d22bca1f-97e4-4399-9b74-e789b68eb063"
      },
      "execution_count": null,
      "outputs": [
        {
          "output_type": "stream",
          "name": "stdout",
          "text": [
            "Warning: Your Kaggle API key is readable by other users on this system! To fix this, you can run 'chmod 600 /root/.kaggle/kaggle.json'\n",
            "Warning: Looks like you're using an outdated API Version, please consider updating (server 1.5.12 / client 1.5.4)\n",
            "100% 33.7k/33.7k [00:00<00:00, 160kB/s]\n",
            "Successfully submitted to House Prices - Advanced Regression Techniques"
          ]
        }
      ]
    },
    {
      "cell_type": "markdown",
      "source": [
        "Score in Kaggle: 0.13628."
      ],
      "metadata": {
        "id": "87DxFvstOods"
      }
    },
    {
      "cell_type": "markdown",
      "metadata": {
        "id": "_c0WK4BCTLWp"
      },
      "source": [
        "## 5.4 Ridge Regression"
      ]
    },
    {
      "cell_type": "code",
      "metadata": {
        "id": "aqeWzVNbcsQn",
        "colab": {
          "base_uri": "https://localhost:8080/"
        },
        "outputId": "55dbccf3-abed-488d-cef6-d813bd822509"
      },
      "source": [
        "lambdas = [1, 1.5, 2, 2.5, 3, 3.5, 4, 4.5, 5, 6, 8, 10, 15, 20, 25, 30, 50, 75, 100, 150, 500] # lambda values (we can try other lambda values too)\n",
        "\n",
        "# let's collect RMSE values to find the best lambda\n",
        "error = np.zeros(len(lambdas))\n",
        "\n",
        "y = np.array(train_df2['SalePrice'])\n",
        "X = np.array(train_df2.drop(['SalePrice'], axis = 1))\n",
        "\n",
        "for i, lambda_ in enumerate(lambdas):\n",
        "  #print(f'RMSE for lambda = {lambda_}...')\n",
        "\n",
        "  # 4-fold cross validation\n",
        "  # Here we are using sklearn Cross Validation Function called KFold\n",
        "  kf = KFold(n_splits=4, random_state=111, shuffle=True)\n",
        "\n",
        "  # We initialize empty lists\n",
        "  fold_rmse = []\n",
        "  for train_index, val_index in kf.split(X):\n",
        "\n",
        "    # split data into X_train, y_train and X_val, y_val depending on the fold:\n",
        "    X_train, X_val = X[train_index], X[val_index]\n",
        "    y_train, y_val = y[train_index], y[val_index]\n",
        "\n",
        "    # train the Ridge regression model with lambda_\n",
        "    model = Ridge(lambda_)\n",
        "\n",
        "    # fit the Ridge regression on training data\n",
        "    model.fit(X_train, y_train) \n",
        "\n",
        "    # predictions on validation data\n",
        "    predictions = model.predict(X_val)\n",
        "\n",
        "    # calculate RMSE for this fold and store it in fold_rmse\n",
        "    error_rmse = mean_squared_error(y_val, predictions, squared=False)\n",
        "    fold_rmse.append(error_rmse)\n",
        "\n",
        "  print(f'Average RMSE for {lambda_} is {np.mean(fold_rmse)}')\n",
        "  error[i] = np.mean(fold_rmse)"
      ],
      "execution_count": null,
      "outputs": [
        {
          "output_type": "stream",
          "name": "stdout",
          "text": [
            "Average RMSE for 1 is 33436.6794241508\n",
            "Average RMSE for 1.5 is 33215.50685377359\n",
            "Average RMSE for 2 is 33054.80350210279\n",
            "Average RMSE for 2.5 is 32929.00253230909\n",
            "Average RMSE for 3 is 32825.82307004308\n",
            "Average RMSE for 3.5 is 32738.590827081414\n",
            "Average RMSE for 4 is 32663.30629881453\n",
            "Average RMSE for 4.5 is 32597.37914733647\n",
            "Average RMSE for 5 is 32539.024869124136\n",
            "Average RMSE for 6 is 32440.190260863186\n",
            "Average RMSE for 8 is 32293.24293048341\n",
            "Average RMSE for 10 is 32191.020826455824\n",
            "Average RMSE for 15 is 32045.240018911332\n",
            "Average RMSE for 20 is 31983.492798823398\n",
            "Average RMSE for 25 is 31964.52791112706\n",
            "Average RMSE for 30 is 31969.68109510164\n",
            "Average RMSE for 50 is 32090.045428047342\n",
            "Average RMSE for 75 is 32299.253364898737\n",
            "Average RMSE for 100 is 32507.206605655683\n",
            "Average RMSE for 150 is 32880.606531064506\n",
            "Average RMSE for 500 is 34559.40607268303\n"
          ]
        }
      ]
    },
    {
      "cell_type": "code",
      "metadata": {
        "id": "iPoLQWhCdH1G",
        "colab": {
          "base_uri": "https://localhost:8080/",
          "height": 373
        },
        "outputId": "745ba8a0-6b5e-4f13-e83d-ede87756413c"
      },
      "source": [
        "# Figure\n",
        "plt.figure(figsize=(25, 6))\n",
        "plt.plot(lambdas, error)\n",
        "plt.ylim((30000, 36000))\n",
        "plt.xlabel('lambda')\n",
        "plt.ylabel('RMSE')"
      ],
      "execution_count": null,
      "outputs": [
        {
          "output_type": "execute_result",
          "data": {
            "text/plain": [
              "Text(0, 0.5, 'RMSE')"
            ]
          },
          "metadata": {},
          "execution_count": 43
        },
        {
          "output_type": "display_data",
          "data": {
            "image/png": "[encoded data removed]",
            "text/plain": [
              "<Figure size 1800x432 with 1 Axes>"
            ]
          },
          "metadata": {
            "needs_background": "light"
          }
        }
      ]
    },
    {
      "cell_type": "markdown",
      "source": [
        "Ridge regression model gives the best result with lambda = 25."
      ],
      "metadata": {
        "id": "XafXeMq8hN8S"
      }
    },
    {
      "cell_type": "markdown",
      "source": [
        "For the comparison; using the most suitable lambda value."
      ],
      "metadata": {
        "id": "w4zPmtHMQDlS"
      }
    },
    {
      "cell_type": "code",
      "source": [
        "model_ridge = Ridge(alpha = 25)\n",
        "model_ridge.fit(train_X, train_y)\n",
        "\n",
        "predictions_ridge = model_ridge.predict(val_X)\n",
        "rmse_ridge = mean_squared_error(val_y, predictions_ridge, squared=False) #RMSE value\n",
        "rmsle_ridge = mean_squared_log_error(val_y, predictions_ridge, squared=False) #RMSLE value\n",
        "\n",
        "print(f'RMSE for Ridge regression is {rmse_ridge}')\n",
        "print(f'RMSLE for Ridge regression is {rmsle_ridge}')"
      ],
      "metadata": {
        "colab": {
          "base_uri": "https://localhost:8080/"
        },
        "id": "_yocqjViQExg",
        "outputId": "d7262921-f003-486c-ea2e-50fe4906a395"
      },
      "execution_count": null,
      "outputs": [
        {
          "output_type": "stream",
          "name": "stdout",
          "text": [
            "RMSE for Ridge regression is 30826.458593541796\n",
            "RMSLE for Ridge regression is 0.13374734446575065\n"
          ]
        }
      ]
    },
    {
      "cell_type": "markdown",
      "source": [
        "Ridge regression result for Kaggle."
      ],
      "metadata": {
        "id": "oT59kweNQorG"
      }
    },
    {
      "cell_type": "code",
      "source": [
        "model_Ridge = Ridge(alpha = 25)\n",
        "model_Ridge.fit(X_all, y_all)\n",
        "\n",
        "test_y_predictions_ridge = model_Ridge.predict(test_df)"
      ],
      "metadata": {
        "id": "5FmudTyfQs2L"
      },
      "execution_count": null,
      "outputs": []
    },
    {
      "cell_type": "code",
      "source": [
        "submission_ridge = pd.DataFrame(\n",
        "    {'Id': test.Id, 'SalePrice': test_y_predictions_ridge},\n",
        "    columns = ['Id', 'SalePrice'])\n",
        "submission_ridge.to_csv('submission_ridge.csv', index = False)"
      ],
      "metadata": {
        "id": "99E_u6UGQxIa"
      },
      "execution_count": null,
      "outputs": []
    },
    {
      "cell_type": "code",
      "source": [
        "!kaggle competitions submit -c house-prices-advanced-regression-techniques -f submission_ridge.csv -m \"Ridge Regression submission\""
      ],
      "metadata": {
        "colab": {
          "base_uri": "https://localhost:8080/"
        },
        "id": "xEVlVkzGQ0w6",
        "outputId": "cf288742-1758-4252-b4bd-3e4086f31fc1"
      },
      "execution_count": null,
      "outputs": [
        {
          "output_type": "stream",
          "name": "stdout",
          "text": [
            "Warning: Your Kaggle API key is readable by other users on this system! To fix this, you can run 'chmod 600 /root/.kaggle/kaggle.json'\n",
            "Warning: Looks like you're using an outdated API Version, please consider updating (server 1.5.12 / client 1.5.4)\n",
            "100% 33.6k/33.6k [00:00<00:00, 130kB/s]\n",
            "Successfully submitted to House Prices - Advanced Regression Techniques"
          ]
        }
      ]
    },
    {
      "cell_type": "markdown",
      "source": [
        "Score in Kaggle: 0.14416."
      ],
      "metadata": {
        "id": "6kniIpPnRa5M"
      }
    },
    {
      "cell_type": "markdown",
      "metadata": {
        "id": "fbTf7gXy1Rfn"
      },
      "source": [
        "# 6. Decision tree and random forest"
      ]
    },
    {
      "cell_type": "markdown",
      "source": [
        "Next we will use decision tree and random forest algorithms. In case of the decision tree, we need to find the most suitable maximum depth of a tree and in case of the random forest, we need to find the most suitable number of trees. For that we will use cross-validation. "
      ],
      "metadata": {
        "id": "VTf2EiLHkOmN"
      }
    },
    {
      "cell_type": "markdown",
      "metadata": {
        "id": "U408guJI13mC"
      },
      "source": [
        "## 6.1 Decision tree"
      ]
    },
    {
      "cell_type": "code",
      "metadata": {
        "id": "dUN2J1T216ha",
        "colab": {
          "base_uri": "https://localhost:8080/"
        },
        "outputId": "35fab644-6cce-4f5c-bbe6-6c7972687c58"
      },
      "source": [
        "max_depths = [1, 2, 5, 8, 9, 10, 11, 12, 13, 15, 20, 30, 50, 100, 150, 300]\n",
        "\n",
        "# let's collect RMSE values to find the best depth of the tree\n",
        "error = np.zeros(len(max_depths))\n",
        "\n",
        "y = np.array(train_df2['SalePrice'])\n",
        "X = np.array(train_df2.drop(['SalePrice'], axis = 1))\n",
        "\n",
        "for i, depth in enumerate(max_depths):\n",
        "\n",
        "  # 4-fold cross validation\n",
        "  # Here we are using sklearn Cross Validation Function called KFold\n",
        "  kf = KFold(n_splits=4, random_state=111, shuffle=True)\n",
        "\n",
        "  # We initialize empty lists\n",
        "  fold_rmse = []\n",
        "  for train_index, val_index in kf.split(X):\n",
        "\n",
        "    # split data into X_train, y_train and X_val, y_val depending on the fold:\n",
        "    X_train, X_val = X[train_index], X[val_index]\n",
        "    y_train, y_val = y[train_index], y[val_index]\n",
        "\n",
        "    # train the decision tree\n",
        "    model = DecisionTreeRegressor(max_depth = depth)\n",
        "\n",
        "    # fit the tree on training data\n",
        "    model.fit(X_train, y_train) \n",
        "\n",
        "    # predictions on validation data\n",
        "    predictions = model.predict(X_val)\n",
        "\n",
        "    # calculate RMSE for this fold and store it in fold_rmse\n",
        "    error_rmse = mean_squared_error(y_val, predictions, squared=False)\n",
        "    fold_rmse.append(error_rmse)\n",
        "\n",
        "  print(f'Average RMSE for {depth} is {np.mean(fold_rmse)}')\n",
        "  error[i] = np.mean(fold_rmse)"
      ],
      "execution_count": null,
      "outputs": [
        {
          "output_type": "stream",
          "name": "stdout",
          "text": [
            "Average RMSE for 1 is 58708.46522911382\n",
            "Average RMSE for 2 is 50166.73631237318\n",
            "Average RMSE for 5 is 39507.88291735291\n",
            "Average RMSE for 8 is 38823.13184967393\n",
            "Average RMSE for 9 is 40226.164524996566\n",
            "Average RMSE for 10 is 39262.91733804054\n",
            "Average RMSE for 11 is 41142.39871148835\n",
            "Average RMSE for 12 is 42473.27470372882\n",
            "Average RMSE for 13 is 40745.57648800631\n",
            "Average RMSE for 15 is 41467.53718004858\n",
            "Average RMSE for 20 is 41768.625230837206\n",
            "Average RMSE for 30 is 39275.96659442668\n",
            "Average RMSE for 50 is 40157.81432078827\n",
            "Average RMSE for 100 is 41567.34895919962\n",
            "Average RMSE for 150 is 41076.372452806485\n",
            "Average RMSE for 300 is 39833.68172281459\n"
          ]
        }
      ]
    },
    {
      "cell_type": "code",
      "metadata": {
        "id": "nZEM7mny25U-",
        "colab": {
          "base_uri": "https://localhost:8080/",
          "height": 406
        },
        "outputId": "3d3fa916-f0d8-4c89-bac3-07fc361a5602"
      },
      "source": [
        "# Figure\n",
        "import matplotlib.pyplot as plt\n",
        "\n",
        "plt.figure(figsize=(25, 6))\n",
        "\n",
        "plt.plot(max_depths, error)\n",
        "plt.xlabel('Max depth')\n",
        "plt.ylabel('RMSE')\n"
      ],
      "execution_count": null,
      "outputs": [
        {
          "output_type": "execute_result",
          "data": {
            "text/plain": [
              "Text(0, 0.5, 'RMSE')"
            ]
          },
          "metadata": {},
          "execution_count": 108
        },
        {
          "output_type": "display_data",
          "data": {
            "image/png": "[encoded data removed]",
            "text/plain": [
              "<Figure size 1800x432 with 1 Axes>"
            ]
          },
          "metadata": {
            "needs_background": "light"
          }
        }
      ]
    },
    {
      "cell_type": "markdown",
      "source": [
        "Based on the results, the most suitable maximum depth for a tree is 5."
      ],
      "metadata": {
        "id": "rqAAW19VtjX5"
      }
    },
    {
      "cell_type": "markdown",
      "source": [
        "For the comparison"
      ],
      "metadata": {
        "id": "_Y_trw9jVmEq"
      }
    },
    {
      "cell_type": "code",
      "source": [
        "model_dt = DecisionTreeRegressor(max_depth = 5)\n",
        "model_dt.fit(train_X, train_y)\n",
        "\n",
        "predictions_dt = model_dt.predict(val_X)\n",
        "rmse_dt = mean_squared_error(val_y, predictions_dt, squared=False) #RMSE value\n",
        "rmsle_dt = mean_squared_log_error(val_y, predictions_dt, squared=False) #RMSLE value\n",
        "\n",
        "print(f'RMSE for Decision tree is {rmse_dt}')\n",
        "print(f'RMSLE for Decision tree is {rmsle_dt}')"
      ],
      "metadata": {
        "colab": {
          "base_uri": "https://localhost:8080/"
        },
        "id": "HCCicMY7Vn17",
        "outputId": "250a5e74-6a06-4ed0-f918-3e658e289844"
      },
      "execution_count": null,
      "outputs": [
        {
          "output_type": "stream",
          "name": "stdout",
          "text": [
            "RMSE for Decision tree is 45507.88911801241\n",
            "RMSLE for Decision tree is 0.18787139723024748\n"
          ]
        }
      ]
    },
    {
      "cell_type": "markdown",
      "source": [
        "Decision tree result for Kaggle."
      ],
      "metadata": {
        "id": "DFKQwM2oWmwe"
      }
    },
    {
      "cell_type": "code",
      "source": [
        "model_Dt = DecisionTreeRegressor(max_depth = 5)\n",
        "model_Dt.fit(X_all, y_all)\n",
        "\n",
        "test_y_predictions_dt = model_Dt.predict(test_df)"
      ],
      "metadata": {
        "id": "e-8VVM5zWl3K"
      },
      "execution_count": null,
      "outputs": []
    },
    {
      "cell_type": "code",
      "source": [
        "submission_dt = pd.DataFrame(\n",
        "    {'Id': test.Id, 'SalePrice': test_y_predictions_dt},\n",
        "    columns = ['Id', 'SalePrice'])\n",
        "submission_dt.to_csv('submission_dt.csv', index = False)"
      ],
      "metadata": {
        "id": "jVba7tOaXAQW"
      },
      "execution_count": null,
      "outputs": []
    },
    {
      "cell_type": "code",
      "source": [
        "!kaggle competitions submit -c house-prices-advanced-regression-techniques -f submission_dt.csv -m \"Decision tree submission\""
      ],
      "metadata": {
        "colab": {
          "base_uri": "https://localhost:8080/"
        },
        "id": "BpeCG-gEXMII",
        "outputId": "efe2cb8c-4048-451e-a622-903a0944809d"
      },
      "execution_count": null,
      "outputs": [
        {
          "output_type": "stream",
          "name": "stdout",
          "text": [
            "Warning: Your Kaggle API key is readable by other users on this system! To fix this, you can run 'chmod 600 /root/.kaggle/kaggle.json'\n",
            "Warning: Looks like you're using an outdated API Version, please consider updating (server 1.5.12 / client 1.5.4)\n",
            "100% 31.2k/31.2k [00:01<00:00, 25.2kB/s]\n",
            "Successfully submitted to House Prices - Advanced Regression Techniques"
          ]
        }
      ]
    },
    {
      "cell_type": "markdown",
      "source": [
        "Score in Kaggle: 0.21339"
      ],
      "metadata": {
        "id": "oGYVwPnBXslh"
      }
    },
    {
      "cell_type": "markdown",
      "metadata": {
        "id": "eyDlgD3G3Byq"
      },
      "source": [
        "## 6.2 Random forest"
      ]
    },
    {
      "cell_type": "code",
      "metadata": {
        "id": "U9e83UDl3HSN",
        "colab": {
          "base_uri": "https://localhost:8080/"
        },
        "outputId": "5a1bdbb7-3a1c-40b5-8f62-432fa5f281d9"
      },
      "source": [
        "nr_trees = [50, 100, 500, 750, 1000]\n",
        "#trees = [1000]\n",
        "\n",
        "# let's collect RMSE values to find the best depth of the tree\n",
        "error = np.zeros(len(nr_trees))\n",
        "\n",
        "y = np.array(train_df2['SalePrice'])\n",
        "X = np.array(train_df2.drop(['SalePrice'], axis = 1))\n",
        "\n",
        "for i, tree in enumerate(nr_trees):\n",
        "\n",
        "  # 4-fold cross validation\n",
        "  # Here we are using sklearn Cross Validation Function called KFold\n",
        "  kf = KFold(n_splits=4, random_state=111, shuffle=True)\n",
        "\n",
        "  # We initialize empty lists\n",
        "  fold_rmse = []\n",
        "  for train_index, val_index in kf.split(X):\n",
        "\n",
        "    # split data into X_train, y_train and X_val, y_val depending on the fold:\n",
        "    X_train, X_val = X[train_index], X[val_index]\n",
        "    y_train, y_val = y[train_index], y[val_index]\n",
        "\n",
        "    # train random forest\n",
        "    model = RandomForestRegressor(n_estimators = tree)\n",
        "\n",
        "    # fit the tree on training data\n",
        "    model.fit(X_train, y_train) \n",
        "\n",
        "    # predictions on validation data\n",
        "    predictions = model.predict(X_val)\n",
        "\n",
        "    # calculate RMSE for this fold and store it in fold_rmse\n",
        "    error_rmse = mean_squared_error(y_val, predictions, squared=False)\n",
        "    fold_rmse.append(error_rmse)\n",
        "\n",
        "  print(f'Average RMSE for {tree} is {np.mean(fold_rmse)}')\n",
        "  error[i] = np.mean(fold_rmse)\n",
        "\n",
        "#Your session crashed after using all available RAM."
      ],
      "execution_count": null,
      "outputs": [
        {
          "output_type": "stream",
          "name": "stdout",
          "text": [
            "Average RMSE for 50 is 30165.294245578956\n",
            "Average RMSE for 100 is 29533.563734528565\n",
            "Average RMSE for 500 is 29599.32206836531\n",
            "Average RMSE for 750 is 29392.639826477385\n",
            "Average RMSE for 1000 is 29409.32353361701\n"
          ]
        }
      ]
    },
    {
      "cell_type": "code",
      "metadata": {
        "id": "_mvrM4EM4fjD",
        "colab": {
          "base_uri": "https://localhost:8080/",
          "height": 372
        },
        "outputId": "d8e1939c-e4bc-4186-98b4-162069f7f063"
      },
      "source": [
        "# Figure\n",
        "import matplotlib.pyplot as plt\n",
        "\n",
        "plt.figure(figsize=(25, 6))\n",
        "\n",
        "plt.plot(nr_trees, error)\n",
        "plt.xlabel('Number of trees')\n",
        "plt.ylabel('RMSE')"
      ],
      "execution_count": null,
      "outputs": [
        {
          "output_type": "execute_result",
          "data": {
            "text/plain": [
              "Text(0, 0.5, 'RMSE')"
            ]
          },
          "metadata": {},
          "execution_count": 64
        },
        {
          "output_type": "display_data",
          "data": {
            "image/png": "[encoded data removed]",
            "text/plain": [
              "<Figure size 1800x432 with 1 Axes>"
            ]
          },
          "metadata": {
            "needs_background": "light"
          }
        }
      ]
    },
    {
      "cell_type": "markdown",
      "source": [
        "Based on the results, we see that the most suitable number of trees in the forest is around 1000."
      ],
      "metadata": {
        "id": "RPgAUHbB0kHX"
      }
    },
    {
      "cell_type": "markdown",
      "source": [
        "For the comparison"
      ],
      "metadata": {
        "id": "nWZSYrrFbQEa"
      }
    },
    {
      "cell_type": "code",
      "source": [
        "model_rf = RandomForestRegressor(n_estimators = 750)\n",
        "model_rf.fit(train_X, train_y)\n",
        "\n",
        "predictions_rf = model_rf.predict(val_X)\n",
        "rmse_rf = mean_squared_error(val_y, predictions_rf, squared=False) #RMSE value\n",
        "rmsle_rf = mean_squared_log_error(val_y, predictions_rf, squared=False) #RMSLE value\n",
        "\n",
        "print(f'RMSE for Random Forest is {rmse_rf}')\n",
        "print(f'RMSLE for Random Forest is {rmsle_rf}')"
      ],
      "metadata": {
        "colab": {
          "base_uri": "https://localhost:8080/"
        },
        "id": "50Pelb3HbMur",
        "outputId": "7139041d-ec3d-4402-93fa-0244632967e8"
      },
      "execution_count": null,
      "outputs": [
        {
          "output_type": "stream",
          "name": "stdout",
          "text": [
            "RMSE for Random Forest is 29790.80316465151\n",
            "RMSLE for Random Forest is 0.12462867360586291\n"
          ]
        }
      ]
    },
    {
      "cell_type": "markdown",
      "source": [
        "Random forest result to Kaggle."
      ],
      "metadata": {
        "id": "cjBMr9vU54j9"
      }
    },
    {
      "cell_type": "code",
      "source": [
        "model_rf = RandomForestRegressor(n_estimators=750)\n",
        "model_rf.fit(X_all, y_all)\n",
        "\n",
        "test_y_predictions_rf = model_rf.predict(test_df)"
      ],
      "metadata": {
        "id": "WFyirfrQ9nF6"
      },
      "execution_count": null,
      "outputs": []
    },
    {
      "cell_type": "code",
      "source": [
        "submission_rf = pd.DataFrame(\n",
        "    {'Id': test.Id, 'SalePrice': test_y_predictions_rf},\n",
        "    columns = ['Id', 'SalePrice'])\n",
        "submission_rf.to_csv('submission_rf.csv', index = False)"
      ],
      "metadata": {
        "id": "M4Po8YrW96DT"
      },
      "execution_count": null,
      "outputs": []
    },
    {
      "cell_type": "code",
      "source": [
        "!kaggle competitions submit -c house-prices-advanced-regression-techniques -f submission_rf.csv -m \"Random Forest submission vol2\""
      ],
      "metadata": {
        "id": "HZUoieZB9_Q8",
        "colab": {
          "base_uri": "https://localhost:8080/"
        },
        "outputId": "2fb5f875-848f-4df0-934d-831e778c1374"
      },
      "execution_count": null,
      "outputs": [
        {
          "output_type": "stream",
          "name": "stdout",
          "text": [
            "Warning: Your Kaggle API key is readable by other users on this system! To fix this, you can run 'chmod 600 /root/.kaggle/kaggle.json'\n",
            "Warning: Looks like you're using an outdated API Version, please consider updating (server 1.5.12 / client 1.5.4)\n",
            "100% 30.3k/30.3k [00:00<00:00, 144kB/s]\n",
            "Successfully submitted to House Prices - Advanced Regression Techniques"
          ]
        }
      ]
    },
    {
      "cell_type": "markdown",
      "source": [
        "Score in Kaggle: 0.14522"
      ],
      "metadata": {
        "id": "vsb8GfY4c5qy"
      }
    },
    {
      "cell_type": "markdown",
      "metadata": {
        "id": "smTYQE1CZzDz"
      },
      "source": [
        "# 7. Ensemble models"
      ]
    },
    {
      "cell_type": "markdown",
      "metadata": {
        "id": "znAq41O4Z3V9"
      },
      "source": [
        "Ensemble model with linear regression, ridge, lasso and decision tree model. The parameters for the ridge, lasso and decision tree are chosen from the previous cross-validation results ."
      ]
    },
    {
      "cell_type": "code",
      "source": [
        "#Define ensemble model with 4 models\n",
        "model_lr = LinearRegression()\n",
        "lambda_ridge=25\n",
        "model_ridge = Ridge(lambda_ridge, max_iter=10000) \n",
        "lambda_lasso=150\n",
        "model_lasso = Lasso(lambda_lasso, max_iter=10000)\n",
        "model_DT = DecisionTreeRegressor(max_depth = 30)\n",
        "\n",
        "model_lr.fit(train_X, train_y)\n",
        "model_lasso.fit(train_X, train_y)\n",
        "model_ridge.fit(train_X, train_y)\n",
        "model_DT.fit(train_X, train_y)\n",
        "\n",
        "ensemble_model = VotingRegressor(estimators=[('lr', model_lr), ('lasso', model_lasso), ('ridge', model_ridge), ('dt', model_DT)])\n",
        "ensemble_model.fit(train_X,train_y)\n",
        "\n",
        "val_predictions_ens = ensemble_model.predict(val_X)\n",
        "ens_RMSE = mean_squared_error(val_y, val_predictions_ens, squared = False)\n",
        "ens_RMSLE = mean_squared_log_error(val_y, val_predictions_ens, squared = False)"
      ],
      "metadata": {
        "id": "khrEszhUuOyl"
      },
      "execution_count": null,
      "outputs": []
    },
    {
      "cell_type": "code",
      "source": [
        "#performance on validation set\n",
        "print(f'Average validation RMSE for Ensemble is {ens_RMSE} and RMSLE is {ens_RMSLE}') "
      ],
      "metadata": {
        "colab": {
          "base_uri": "https://localhost:8080/"
        },
        "id": "bwCO7_EevL_K",
        "outputId": "faf15c24-f676-478d-cbbb-2f79fd08d81e"
      },
      "execution_count": null,
      "outputs": [
        {
          "output_type": "stream",
          "name": "stdout",
          "text": [
            "Average validation RMSE for Ensemble is 28411.923644973245 and RMSLE is 0.12209615748007939\n"
          ]
        }
      ]
    },
    {
      "cell_type": "code",
      "metadata": {
        "colab": {
          "base_uri": "https://localhost:8080/"
        },
        "id": "pkct5EsUZ1nv",
        "outputId": "b88750c1-a6fa-4b32-e351-d8bf50469d52"
      },
      "source": [
        "#cross-validation\n",
        "model_lr = LinearRegression()\n",
        "# Ridge regression\n",
        "lambda_ridge=25\n",
        "model_ridge = Ridge(lambda_ridge, max_iter=10000) \n",
        "# Lasso \n",
        "lambda_lasso=150\n",
        "model_lasso = Lasso(lambda_lasso, max_iter=10000)\n",
        "\n",
        "model_DT = DecisionTreeRegressor(max_depth = 30)\n",
        "\n",
        "n_folds = 4\n",
        "fold_RMSEs = np.zeros(n_folds)\n",
        "\n",
        "y = np.array(train_df2['SalePrice'])\n",
        "X = np.array(train_df2.drop(['SalePrice'], axis = 1))\n",
        "\n",
        "# initialise splitting mechanism\n",
        "folds = KFold(n_splits=n_folds, shuffle = True, random_state=111) \n",
        "\n",
        "# here actual splitting is done\n",
        "folds.get_n_splits(X, y)\n",
        "\n",
        "fold_indx = 1\n",
        "\n",
        "# folds.split is an iterator that loops over different folds\n",
        "# returning a tuple with train and val indeces\n",
        "for train_index, val_index in folds.split(X, y):\n",
        "  #print(f\"CV #{fold_indx}\")\n",
        "  X_train, X_val = X[train_index], X[val_index]\n",
        "  y_train, y_val = y[train_index], y[val_index]\n",
        "\n",
        "  # train all three models\n",
        "  model_lr.fit(X_train, y_train)\n",
        "  model_lasso.fit(X_train, y_train)\n",
        "  model_ridge.fit(X_train, y_train)\n",
        "  model_DT.fit(X_train, y_train)\n",
        "\n",
        "  ensemble_model = VotingRegressor(estimators=[('lr', model_lr), ('lasso', model_lasso), ('ridge', model_ridge), ('dt', model_DT)])\n",
        "  ensemble_model.fit(X_train,y_train)\n",
        "\n",
        "# Predict validation data using trained model\n",
        "\n",
        "  val_predictions = ensemble_model.predict(X_val)\n",
        "  fold_RMSEs[fold_indx-1] = mean_squared_error(y_val, val_predictions, squared = False)\n",
        "\n",
        "  fold_indx += 1\n",
        "\n",
        "print(f'Average validation RMSE is {np.mean(fold_RMSEs)}') "
      ],
      "execution_count": null,
      "outputs": [
        {
          "output_type": "stream",
          "name": "stdout",
          "text": [
            "Average validation RMSE is 31302.890709977644\n"
          ]
        }
      ]
    },
    {
      "cell_type": "markdown",
      "source": [
        "Model on all train data."
      ],
      "metadata": {
        "id": "A8NBILk-H2S9"
      }
    },
    {
      "cell_type": "code",
      "source": [
        "model_lr = LinearRegression()\n",
        "lambda_ridge=25\n",
        "model_ridge = Ridge(lambda_ridge, max_iter=10000) \n",
        "lambda_lasso=150\n",
        "model_lasso = Lasso(lambda_lasso, max_iter=10000)\n",
        "model_DT = DecisionTreeRegressor(max_depth = 30)\n",
        "\n",
        "model_lr.fit(X_all, y_all)\n",
        "model_lasso.fit(X_all, y_all)\n",
        "model_ridge.fit(X_all, y_all)\n",
        "model_DT.fit(X_all, y_all)\n",
        "\n",
        "ensemble_model = VotingRegressor(estimators=[('lr', model_lr), ('lasso', model_lasso), ('ridge', model_ridge), ('dt', model_DT)])\n",
        "ensemble_model.fit(X_all,y_all)"
      ],
      "metadata": {
        "colab": {
          "base_uri": "https://localhost:8080/"
        },
        "id": "tkCEAo1lxOmL",
        "outputId": "e24f7564-7ad0-483b-da78-d1bb05b2a518"
      },
      "execution_count": null,
      "outputs": [
        {
          "output_type": "execute_result",
          "data": {
            "text/plain": [
              "VotingRegressor(estimators=[('lr', LinearRegression()),\n",
              "                            ('lasso', Lasso(alpha=150, max_iter=10000)),\n",
              "                            ('ridge', Ridge(alpha=25, max_iter=10000)),\n",
              "                            ('dt', DecisionTreeRegressor(max_depth=30))])"
            ]
          },
          "metadata": {},
          "execution_count": 38
        }
      ]
    },
    {
      "cell_type": "code",
      "source": [
        "test_y_predictions_ens = ensemble_model.predict(test_df)\n",
        "\n",
        "submission_ens = pd.DataFrame(\n",
        "    {'Id': test.Id, 'SalePrice': test_y_predictions_ens},\n",
        "    columns = ['Id', 'SalePrice'])\n",
        "submission_ens.to_csv('submission_ens.csv', index = False)"
      ],
      "metadata": {
        "id": "f46wTPIYuLfN"
      },
      "execution_count": null,
      "outputs": []
    },
    {
      "cell_type": "code",
      "source": [
        "!kaggle competitions submit -c house-prices-advanced-regression-techniques -f submission_ens.csv -m \"Ensemble submission\""
      ],
      "metadata": {
        "colab": {
          "base_uri": "https://localhost:8080/"
        },
        "id": "aXftZmFKxH8u",
        "outputId": "e84d9412-e5c1-4343-ba2b-1885acc42498"
      },
      "execution_count": null,
      "outputs": [
        {
          "output_type": "stream",
          "name": "stdout",
          "text": [
            "Warning: Your Kaggle API key is readable by other users on this system! To fix this, you can run 'chmod 600 /root/.kaggle/kaggle.json'\n",
            "Warning: Looks like you're using an outdated API Version, please consider updating (server 1.5.12 / client 1.5.4)\n",
            "100% 33.7k/33.7k [00:00<00:00, 108kB/s]\n",
            "Successfully submitted to House Prices - Advanced Regression Techniques"
          ]
        }
      ]
    },
    {
      "cell_type": "markdown",
      "source": [
        "Result in Kaggle: 0.13625 (leaderboard place 1937)"
      ],
      "metadata": {
        "id": "pmAnhIfs0Mh3"
      }
    },
    {
      "cell_type": "markdown",
      "metadata": {
        "id": "lHkgiQWZhQr1"
      },
      "source": [
        "# 8. Boosting and bagging methods\n",
        "\n",
        "Next we will use Adaptive boosting, Bagging and Gradient boosting.\n",
        "First we need to determine number of base estimators for bagging, maximum number of estimators at which boosting is terminated for adaptive boosting and number of boosting stages to perform for gradient boosting with cross-validation."
      ]
    },
    {
      "cell_type": "code",
      "metadata": {
        "colab": {
          "base_uri": "https://localhost:8080/"
        },
        "id": "D7pSqmsJhRGG",
        "outputId": "c665d3c7-a91c-463d-d9ac-6ee4d65fdb7a"
      },
      "source": [
        "\n",
        "n_estimators_Adap = [10,50,100,150, 200] \n",
        "n_estimators_Bag = [10,50,100,150,200] \n",
        "#n_estimators_GB = [100,125,150,175,200, 250,300,350,400,450,500]\n",
        "#n_estimators = [500, 550, 600,650,700] 700: 24572\n",
        "n_estimators = [550,650,750, 850,950] \n",
        "\n",
        "val_fold_abr = np.zeros(len(n_estimators))\n",
        "val_fold_br = np.zeros(len(n_estimators))\n",
        "val_fold_gbr = np.zeros(len(n_estimators))\n",
        "\n",
        "for i, n_estimator in enumerate(n_estimators):\n",
        "  print(f'Validation rmse for Adaptive Boosting with n_estimator = {n_estimators_Adap[i]}...')\n",
        "  model_abr = AdaBoostRegressor(random_state=111,n_estimators=n_estimators_Adap[i])\n",
        "  print(f'Validation rmse for Bagging with n_estimator = {n_estimators_Bag[i]}...')\n",
        "  model_br = BaggingRegressor(base_estimator=DecisionTreeRegressor(), n_estimators=n_estimators_Bag[i], random_state=111)\n",
        "  print(f'Validation rmse for Gradient Boosting with n_estimator = {n_estimator}...')\n",
        "  model_gbr = GradientBoostingRegressor(random_state=111, n_estimators=n_estimator)\n",
        "\n",
        "  n_folds = 4\n",
        "  abr_fold_RMSEs = np.zeros(n_folds)\n",
        "  br_fold_RMSEs = np.zeros(n_folds)\n",
        "  gbr_fold_RMSEs = np.zeros(n_folds)\n",
        "\n",
        "  y = np.array(train_df2['SalePrice'])\n",
        "  X = np.array(train_df2.drop(['SalePrice'], axis = 1))\n",
        "\n",
        "  # initialise splitting mechanism\n",
        "  folds = KFold(n_splits=n_folds, shuffle = True, random_state=111) \n",
        "\n",
        "  # here actual splitting is done\n",
        "  folds.get_n_splits(X, y)\n",
        "\n",
        "  fold_indx = 1\n",
        "\n",
        "  # folds.split is an iterator that loops over different folds\n",
        "  # returning a tuple with train and val indeces\n",
        "  for train_index, val_index in folds.split(X, y):\n",
        "    #print(f\"CV #{fold_indx}\")\n",
        "    X_train, X_val = X[train_index], X[val_index]\n",
        "    y_train, y_val = y[train_index], y[val_index]\n",
        "\n",
        "    # train all three models\n",
        "    model_abr.fit(X_train, y_train)\n",
        "    model_br.fit(X_train, y_train)\n",
        "    model_gbr.fit(X_train, y_train)\n",
        "\n",
        "\n",
        "    val_predictions_abr = model_abr.predict(X_val)\n",
        "    val_predictions_br = model_br.predict(X_val)\n",
        "    val_predictions_gbr = model_gbr.predict(X_val)\n",
        "\n",
        "    abr_fold_RMSEs[fold_indx-1] = mean_squared_error(y_val, val_predictions_abr, squared = False)\n",
        "    br_fold_RMSEs[fold_indx-1] = mean_squared_error(y_val, val_predictions_br, squared = False)\n",
        "    gbr_fold_RMSEs[fold_indx-1] = mean_squared_error(y_val, val_predictions_gbr, squared = False)\n",
        "\n",
        "    fold_indx += 1\n",
        "\n",
        "  print(f'Adaptive Boosting : average validation RMSE is {np.mean(abr_fold_RMSEs)}')\n",
        "  #val_fold_abr = np.zeros(len(n_estimators))\n",
        "  print(f'Bagging : average validation RMSE is {np.mean(br_fold_RMSEs)}')\n",
        "  #val_fold_br = np.zeros(len(n_estimators))\n",
        "  print(f'Gradient Boosting : average validation RMSE is {np.mean(gbr_fold_RMSEs)}')\n",
        "  #val_fold_gbr = np.zeros(len(n_estimators))"
      ],
      "execution_count": null,
      "outputs": [
        {
          "output_type": "stream",
          "name": "stdout",
          "text": [
            "Validation rmse for Adaptive Boosting with n_estimator = 10...\n",
            "Validation rmse for Bagging with n_estimator = 10...\n",
            "Validation rmse for Gradient Boosting with n_estimator = 550...\n",
            "Adaptive Boosting : average validation RMSE is 38996.91971141417\n",
            "Bagging : average validation RMSE is 30380.409287330294\n",
            "Gradient Boosting : average validation RMSE is 25710.908979475847\n",
            "Validation rmse for Adaptive Boosting with n_estimator = 50...\n",
            "Validation rmse for Bagging with n_estimator = 50...\n",
            "Validation rmse for Gradient Boosting with n_estimator = 650...\n",
            "Adaptive Boosting : average validation RMSE is 35888.30316284752\n",
            "Bagging : average validation RMSE is 29749.617073760717\n",
            "Gradient Boosting : average validation RMSE is 25732.171440581275\n",
            "Validation rmse for Adaptive Boosting with n_estimator = 100...\n",
            "Validation rmse for Bagging with n_estimator = 100...\n",
            "Validation rmse for Gradient Boosting with n_estimator = 750...\n",
            "Adaptive Boosting : average validation RMSE is 36008.79425330003\n",
            "Bagging : average validation RMSE is 29465.67882989066\n",
            "Gradient Boosting : average validation RMSE is 25703.40875646473\n",
            "Validation rmse for Adaptive Boosting with n_estimator = 150...\n",
            "Validation rmse for Bagging with n_estimator = 150...\n",
            "Validation rmse for Gradient Boosting with n_estimator = 850...\n",
            "Adaptive Boosting : average validation RMSE is 36275.86708795838\n",
            "Bagging : average validation RMSE is 29495.541842151208\n",
            "Gradient Boosting : average validation RMSE is 25696.140159482602\n",
            "Validation rmse for Adaptive Boosting with n_estimator = 200...\n",
            "Validation rmse for Bagging with n_estimator = 200...\n",
            "Validation rmse for Gradient Boosting with n_estimator = 950...\n",
            "Adaptive Boosting : average validation RMSE is 36128.84957172878\n",
            "Bagging : average validation RMSE is 29470.35995410584\n",
            "Gradient Boosting : average validation RMSE is 25679.31078108715\n"
          ]
        }
      ]
    },
    {
      "cell_type": "markdown",
      "source": [
        "Adaptive boosting give best result with n_estimators=50,\n",
        "Bagging gives best result with n_estimators=100,\n",
        "Gradient boosting gives best result with n_estimators=950. The smallest mean RMSE value with cross-validation we get with Gradient Boosting."
      ],
      "metadata": {
        "id": "rXP2EXoRzAcr"
      }
    },
    {
      "cell_type": "code",
      "source": [
        "#Validation set\n",
        "model_abr = AdaBoostRegressor(n_estimators=50)\n",
        "model_br = BaggingRegressor(base_estimator=DecisionTreeRegressor(), n_estimators=100)\n",
        "model_gbr = GradientBoostingRegressor(n_estimators=950)\n",
        "\n",
        "model_abr.fit(train_X, train_y)\n",
        "model_br.fit(train_X, train_y)\n",
        "model_gbr.fit(train_X, train_y)\n",
        "\n",
        "val_predictions_abr = model_abr.predict(val_X)\n",
        "val_predictions_br = model_br.predict(val_X)\n",
        "val_predictions_gbr = model_gbr.predict(val_X)\n",
        "\n",
        "abr_RMSE=mean_squared_error(val_y, val_predictions_abr, squared = False)\n",
        "abr_RMSLE=mean_squared_log_error(val_y, val_predictions_abr, squared = False)\n",
        "bag_RMSE=mean_squared_error(val_y, val_predictions_br, squared = False)\n",
        "bag_RMSLE=mean_squared_log_error(val_y, val_predictions_br, squared = False)\n",
        "gbr_RMSE=mean_squared_error(val_y, val_predictions_gbr, squared = False)\n",
        "gbr_RMSLE=mean_squared_log_error(val_y, val_predictions_gbr, squared = False)"
      ],
      "metadata": {
        "id": "0i5Ri5YO35Q2"
      },
      "execution_count": null,
      "outputs": []
    },
    {
      "cell_type": "code",
      "source": [
        "print(f'The RMSE for Adaptive Boosting Regressor is {abr_RMSE} and the RMSLE is {abr_RMSLE}')\n",
        "print(f'The RMSE for Bagging Regressor is {bag_RMSE} and the RMSLE is {bag_RMSLE}')\n",
        "print(f'The RMSE for Gradient Boosting Regressor is {gbr_RMSE} and the RMSLE is {gbr_RMSLE}')"
      ],
      "metadata": {
        "colab": {
          "base_uri": "https://localhost:8080/"
        },
        "id": "eoenKm764jRO",
        "outputId": "560b4213-c133-4753-fce1-73585327091a"
      },
      "execution_count": null,
      "outputs": [
        {
          "output_type": "stream",
          "name": "stdout",
          "text": [
            "The RMSE for Adaptive Boosting Regressor is 35450.510041005124 and the RMSLE is 0.17278891010728586\n",
            "The RMSE for Bagging Regressor is 30999.294181639125 and the RMSLE is 0.1257476514336841\n",
            "The RMSE for Gradient Boosting Regressor is 28204.10698438384 and the RMSLE is 0.11391596020671486\n"
          ]
        }
      ]
    },
    {
      "cell_type": "markdown",
      "source": [
        "Gradient boosting gives the smallest RMSE on validation set out of 3 models. I will only submit Bagging and Gradient Boosting result to Kaggle as they give better results than Adaptive boosting."
      ],
      "metadata": {
        "id": "clIg665d7TR0"
      }
    },
    {
      "cell_type": "code",
      "source": [
        "model_br = BaggingRegressor(base_estimator=DecisionTreeRegressor(), n_estimators=100)\n",
        "model_br.fit(X_all, y_all)\n",
        "test_y_predictions_br = model_br.predict(test_df)\n",
        "\n",
        "submission_br = pd.DataFrame(\n",
        "    {'Id': test.Id, 'SalePrice': test_y_predictions_br},\n",
        "    columns = ['Id', 'SalePrice'])\n",
        "submission_br.to_csv('submission_br.csv', index = False)"
      ],
      "metadata": {
        "id": "srAgyPpBlZiQ"
      },
      "execution_count": null,
      "outputs": []
    },
    {
      "cell_type": "code",
      "source": [
        "!kaggle competitions submit -c house-prices-advanced-regression-techniques -f submission_br.csv -m \"Bagging submission\""
      ],
      "metadata": {
        "colab": {
          "base_uri": "https://localhost:8080/"
        },
        "id": "NWjVM-35llHE",
        "outputId": "ff4908ba-2498-459f-d7c6-25ceb85bb593"
      },
      "execution_count": null,
      "outputs": [
        {
          "output_type": "stream",
          "name": "stdout",
          "text": [
            "Warning: Your Kaggle API key is readable by other users on this system! To fix this, you can run 'chmod 600 /root/.kaggle/kaggle.json'\n",
            "Warning: Looks like you're using an outdated API Version, please consider updating (server 1.5.12 / client 1.5.4)\n",
            "100% 20.9k/20.9k [00:02<00:00, 9.42kB/s]\n",
            "Successfully submitted to House Prices - Advanced Regression Techniques"
          ]
        }
      ]
    },
    {
      "cell_type": "markdown",
      "source": [
        "Bagging Kaggle score: 0.14602."
      ],
      "metadata": {
        "id": "f4bH3BSomIjv"
      }
    },
    {
      "cell_type": "code",
      "source": [
        "model_gbr = GradientBoostingRegressor(n_estimators=950)\n",
        "model_gbr.fit(X_all, y_all)"
      ],
      "metadata": {
        "colab": {
          "base_uri": "https://localhost:8080/"
        },
        "id": "xHDrxhK58N-M",
        "outputId": "a8603175-027a-4e82-a479-700b21f08296"
      },
      "execution_count": null,
      "outputs": [
        {
          "output_type": "execute_result",
          "data": {
            "text/plain": [
              "GradientBoostingRegressor(n_estimators=950)"
            ]
          },
          "metadata": {},
          "execution_count": 54
        }
      ]
    },
    {
      "cell_type": "code",
      "source": [
        "test_y_predictions_gbr = model_gbr.predict(test_df)\n",
        "\n",
        "submission_gbr = pd.DataFrame(\n",
        "    {'Id': test.Id, 'SalePrice': test_y_predictions_gbr},\n",
        "    columns = ['Id', 'SalePrice'])\n",
        "submission_gbr.to_csv('submission_gbr.csv', index = False)"
      ],
      "metadata": {
        "id": "cK06rRko9HCO"
      },
      "execution_count": null,
      "outputs": []
    },
    {
      "cell_type": "code",
      "source": [
        "!kaggle competitions submit -c house-prices-advanced-regression-techniques -f submission_gbr.csv -m \"Gradient Boosting submission\""
      ],
      "metadata": {
        "colab": {
          "base_uri": "https://localhost:8080/"
        },
        "id": "J0a375fg9d5e",
        "outputId": "4fc0eb54-7460-4c0c-9def-90e8ef98dbb4"
      },
      "execution_count": null,
      "outputs": [
        {
          "output_type": "stream",
          "name": "stdout",
          "text": [
            "Warning: Your Kaggle API key is readable by other users on this system! To fix this, you can run 'chmod 600 /root/.kaggle/kaggle.json'\n",
            "Warning: Looks like you're using an outdated API Version, please consider updating (server 1.5.12 / client 1.5.4)\n",
            "100% 33.7k/33.7k [00:00<00:00, 158kB/s]\n",
            "Successfully submitted to House Prices - Advanced Regression Techniques"
          ]
        }
      ]
    },
    {
      "cell_type": "markdown",
      "source": [
        "Result on Kaggle: 0.13436 (leaderboard place 1786)."
      ],
      "metadata": {
        "id": "rhYkv3yj9_9w"
      }
    },
    {
      "cell_type": "markdown",
      "source": [
        "## 8.1 XGBoost"
      ],
      "metadata": {
        "id": "UHbutJi_zEvc"
      }
    },
    {
      "cell_type": "code",
      "source": [
        "#https://xgboost.readthedocs.io/en/latest/python/python_api.html\n",
        "\n",
        "model_xgb = xgb.XGBRegressor(objective='reg:squarederror')\n",
        "# Fit the model using predictor X and response y.\n",
        "model_xgb.fit(train_X, train_y)\n",
        "#model_xgb.score(val_X,val_y)\n",
        "\n",
        "print(f'XGBoost RMSE on validation set is {mean_squared_error(val_y, model_xgb.predict(val_X), squared = False) }')\n",
        "print(f'XGBoost RMSLE on validation set is {mean_squared_log_error(val_y, model_xgb.predict(val_X), squared = False) }')"
      ],
      "metadata": {
        "colab": {
          "base_uri": "https://localhost:8080/"
        },
        "id": "VdOxrRySzG9O",
        "outputId": "5235d5eb-69b1-4b6f-a459-626a193d13b3"
      },
      "execution_count": null,
      "outputs": [
        {
          "output_type": "stream",
          "name": "stdout",
          "text": [
            "XGBoost RMSE on validation set is 31339.923168009067\n",
            "XGBoost RMSLE on validation set is 0.12105189601887167\n"
          ]
        }
      ]
    },
    {
      "cell_type": "code",
      "source": [
        "#cross-validate n_estimators:\n",
        "n_estimators = [50,100,200,500,750, 850] \n",
        "\n",
        "val_fold = np.zeros(len(n_estimators))\n",
        "\n",
        "for i, n_estimator in enumerate(n_estimators):\n",
        "  print(f'Validation rmse for XGboost with n_estimator = {n_estimator}...')\n",
        "  model_xgb = xgb.XGBRegressor(n_estimators=n_estimator, random_state=111, objective= 'reg:squarederror')\n",
        "\n",
        "  n_folds = 4\n",
        "  fold_RMSEs = np.zeros(n_folds)\n",
        "\n",
        "  y = np.array(train_df2['SalePrice'])\n",
        "  X = np.array(train_df2.drop(['SalePrice'], axis = 1))\n",
        "\n",
        "  # initialise splitting mechanism\n",
        "  folds = KFold(n_splits=n_folds, shuffle = True, random_state=111) \n",
        "\n",
        "  # here actual splitting is done\n",
        "  folds.get_n_splits(X, y)\n",
        "\n",
        "  fold_indx = 1\n",
        "\n",
        "  # folds.split is an iterator that loops over different folds\n",
        "  # returning a tuple with train and val indeces\n",
        "  for train_index, val_index in folds.split(X, y):\n",
        "    #print(f\"CV #{fold_indx}\")\n",
        "    X_train, X_val = X[train_index], X[val_index]\n",
        "    y_train, y_val = y[train_index], y[val_index]\n",
        "\n",
        "    # train all three models\n",
        "    model_xgb.fit(X_train, y_train)\n",
        "\n",
        "    val_predictions = model_xgb.predict(X_val)\n",
        "\n",
        "    fold_RMSEs[fold_indx-1] = mean_squared_error(y_val, val_predictions, squared = False)\n",
        "\n",
        "    fold_indx += 1\n",
        "\n",
        "  print(f'XGBoost : average validation RMSE is {np.mean(fold_RMSEs)}')\n"
      ],
      "metadata": {
        "colab": {
          "base_uri": "https://localhost:8080/"
        },
        "id": "XqtIoZLK1CFY",
        "outputId": "1b5c2e3d-fa05-4fe8-c1b5-95390019e9d7"
      },
      "execution_count": null,
      "outputs": [
        {
          "output_type": "stream",
          "name": "stdout",
          "text": [
            "Validation rmse for XGboost with n_estimator = 50...\n",
            "XGBoost : average validation RMSE is 29789.466104652627\n",
            "Validation rmse for XGboost with n_estimator = 100...\n",
            "XGBoost : average validation RMSE is 28012.13931016931\n",
            "Validation rmse for XGboost with n_estimator = 200...\n",
            "XGBoost : average validation RMSE is 27466.726465446693\n",
            "Validation rmse for XGboost with n_estimator = 500...\n",
            "XGBoost : average validation RMSE is 27136.477804669\n",
            "Validation rmse for XGboost with n_estimator = 750...\n",
            "XGBoost : average validation RMSE is 27068.444225097945\n",
            "Validation rmse for XGboost with n_estimator = 850...\n",
            "XGBoost : average validation RMSE is 27086.241242616434\n"
          ]
        }
      ]
    },
    {
      "cell_type": "markdown",
      "source": [
        "We get best result with n_estimators=500.\n",
        "\n"
      ],
      "metadata": {
        "id": "yqwDI_vMWyiB"
      }
    },
    {
      "cell_type": "code",
      "source": [
        "model_xgb = xgb.XGBRegressor(objective='reg:squarederror', n_estimators=500)\n",
        "# Fit the model using predictor X and response y.\n",
        "model_xgb.fit(train_X, train_y)\n",
        "\n",
        "print(f'XGBoost RMSE on validation set with n_estimators=500 is {mean_squared_error(val_y, model_xgb.predict(val_X), squared = False)} and RMSLE is {mean_squared_log_error(val_y, model_xgb.predict(val_X), squared = False) } ')"
      ],
      "metadata": {
        "colab": {
          "base_uri": "https://localhost:8080/"
        },
        "id": "8R5qIywHPPWS",
        "outputId": "bfe77dd8-491e-4572-bd29-606aeab8ccb8"
      },
      "execution_count": null,
      "outputs": [
        {
          "output_type": "stream",
          "name": "stdout",
          "text": [
            "XGBoost RMSE on validation set with n_estimators=500 is 34794.2220875099 and RMSLE is 0.14226359583821727 \n"
          ]
        }
      ]
    },
    {
      "cell_type": "code",
      "source": [
        "model_xgb = xgb.XGBRegressor(objective='reg:squarederror', n_estimators=500)\n",
        "model_xgb.fit(X_all, y_all)"
      ],
      "metadata": {
        "colab": {
          "base_uri": "https://localhost:8080/"
        },
        "id": "T8ZC1wSBZoyE",
        "outputId": "81802e6f-4455-41d9-e546-5e54bc67604c"
      },
      "execution_count": null,
      "outputs": [
        {
          "output_type": "execute_result",
          "data": {
            "text/plain": [
              "XGBRegressor(n_estimators=500, objective='reg:squarederror')"
            ]
          },
          "metadata": {},
          "execution_count": 74
        }
      ]
    },
    {
      "cell_type": "code",
      "source": [
        "test_y_predictions_xgb = model_xgb.predict(test_df)\n",
        "\n",
        "submission_xgb = pd.DataFrame(\n",
        "    {'Id': test.Id, 'SalePrice': test_y_predictions_xgb},\n",
        "    columns = ['Id', 'SalePrice'])\n",
        "submission_xgb.to_csv('submission_xgb2.csv', index = False)"
      ],
      "metadata": {
        "id": "BAS8Yht3ZkNR"
      },
      "execution_count": null,
      "outputs": []
    },
    {
      "cell_type": "code",
      "source": [
        "!kaggle competitions submit -c house-prices-advanced-regression-techniques -f submission_xgb2.csv -m \"XGBoost submission 2\""
      ],
      "metadata": {
        "id": "KE-omeiOZ_KN",
        "colab": {
          "base_uri": "https://localhost:8080/"
        },
        "outputId": "0ddbcf8b-a298-41c6-f0ce-993c69eb9019"
      },
      "execution_count": null,
      "outputs": [
        {
          "output_type": "stream",
          "name": "stdout",
          "text": [
            "Warning: Your Kaggle API key is readable by other users on this system! To fix this, you can run 'chmod 600 /root/.kaggle/kaggle.json'\n",
            "Warning: Looks like you're using an outdated API Version, please consider updating (server 1.5.12 / client 1.5.4)\n",
            "100% 21.2k/21.2k [00:04<00:00, 4.35kB/s]\n",
            "Successfully submitted to House Prices - Advanced Regression Techniques"
          ]
        }
      ]
    },
    {
      "cell_type": "markdown",
      "source": [
        "Kaggle result: 0.13462 (with n_estimators=500); 0.13517 (with n_estimators=750)"
      ],
      "metadata": {
        "id": "BkdzXnro3gpy"
      }
    },
    {
      "cell_type": "markdown",
      "metadata": {
        "id": "du5qZeiA__lt"
      },
      "source": [
        "# 9. Principal component analysis\n",
        "\n",
        "In this chapter we will use Principal Component Analysis (PCA) to try to reduce the dimensionality of the data set and to improve the results of already tested models from before. "
      ]
    },
    {
      "cell_type": "markdown",
      "metadata": {
        "id": "lxIzAN3iQ4fd"
      },
      "source": [
        "## 9.1 PCA with only numerical variables\n",
        "\n",
        "Here only the numerical variables of the dataset are used for the PCA. In the data set there were originally 32 numerical variables. However, \"GarageYrBlt\" and \"Id\" were removed in the beginning. "
      ]
    },
    {
      "cell_type": "code",
      "metadata": {
        "id": "Qxd5ADaAACi7"
      },
      "source": [
        "# keeping only numerical variables, we are left with 30\n",
        "train_num_only=X_all[['LotFrontage', 'MasVnrArea','LotArea', 'YearRemodAdd','BsmtFinSF1','BsmtFinSF2','BsmtUnfSF','TotalBsmtSF','1stFlrSF','2ndFlrSF','LowQualFinSF','GrLivArea','BsmtFullBath','BsmtHalfBath','FullBath','HalfBath','TotRmsAbvGrd','Fireplaces','GarageCars','GarageArea','WoodDeckSF','OpenPorchSF','BedroomAbvGr',\t'KitchenAbvGr','EnclosedPorch','3SsnPorch','ScreenPorch','PoolArea','MiscVal','YrSold']]\n",
        "# test set for Kaggle submissions\n",
        "test_num_only=test_df[['LotFrontage', 'MasVnrArea','LotArea', 'YearRemodAdd','BsmtFinSF1','BsmtFinSF2','BsmtUnfSF','TotalBsmtSF','1stFlrSF','2ndFlrSF','LowQualFinSF','GrLivArea','BsmtFullBath','BsmtHalfBath','FullBath','HalfBath','TotRmsAbvGrd','Fireplaces','GarageCars','GarageArea','WoodDeckSF','OpenPorchSF','BedroomAbvGr',\t'KitchenAbvGr','EnclosedPorch','3SsnPorch','ScreenPorch','PoolArea','MiscVal','YrSold']]"
      ],
      "execution_count": 26,
      "outputs": []
    },
    {
      "cell_type": "markdown",
      "metadata": {
        "id": "72wJB7jaROSn"
      },
      "source": [
        "### 9.1.1 Different models \n",
        "\n",
        "Firstly, we will use some models from before with default parameters with PCA data. The models are the following: linear regression, decsision tree, random forest, gradient boosting and XGBoost.\n"
      ]
    },
    {
      "cell_type": "code",
      "metadata": {
        "id": "f2HBPrc3RMWA"
      },
      "source": [
        "# train and split to numerical train dataset \n",
        "train_X, val_X, train_y, val_y = train_test_split(train_num_only, np.array(y_all), \n",
        "                                                      random_state = 111, #set seed for randomness\n",
        "                                                      test_size = 0.20)"
      ],
      "execution_count": 27,
      "outputs": []
    },
    {
      "cell_type": "code",
      "metadata": {
        "colab": {
          "base_uri": "https://localhost:8080/"
        },
        "id": "Uabf3RcFRNBv",
        "outputId": "42d5a7ac-f296-47ad-bf0b-f0d0fcb8081f"
      },
      "source": [
        "train_X_num_stand = StandardScaler().fit_transform(train_X)\n",
        "val_X_num_stand = StandardScaler().fit_transform(val_X)\n",
        "\n",
        "pca = PCA(n_components=0.9) #choose the variance that we want to be described by PCs of the original variables \n",
        "\n",
        "# use PCA on our data\n",
        "pca.fit(train_X_num_stand)\n",
        "\n",
        "# train and validation set with PCA dimensionality reduction \n",
        "train_X_num_compressed=pca.transform(train_X_num_stand) # from 30 to 20\n",
        "val_X_num_compressed=pca.transform(val_X_num_stand)\n",
        "\n",
        "lr = LinearRegression() \n",
        "dt = DecisionTreeRegressor()\n",
        "rf = RandomForestRegressor()\n",
        "gbr = GradientBoostingRegressor()\n",
        "xg = xgb.XGBRegressor(objective='reg:squarederror')\n",
        "\n",
        "lr.fit(train_X_num_compressed, train_y)\n",
        "dt.fit(train_X_num_compressed, train_y)\n",
        "rf.fit(train_X_num_compressed, train_y)\n",
        "gbr.fit(train_X_num_compressed, train_y)\n",
        "xg.fit(train_X_num_compressed, train_y)"
      ],
      "execution_count": 28,
      "outputs": [
        {
          "output_type": "execute_result",
          "data": {
            "text/plain": [
              "XGBRegressor(objective='reg:squarederror')"
            ]
          },
          "metadata": {},
          "execution_count": 28
        }
      ]
    },
    {
      "cell_type": "code",
      "metadata": {
        "colab": {
          "base_uri": "https://localhost:8080/"
        },
        "id": "LLQw8CVhRZci",
        "outputId": "a0d9407a-da47-4b73-fcc2-952fd5cf5e9e"
      },
      "source": [
        "lr_rmse=np.round(mean_squared_error(val_y, lr.predict(val_X_num_compressed), squared=False),3)\n",
        "dt_rmse=np.round(mean_squared_error(val_y, dt.predict(val_X_num_compressed), squared=False),3)\n",
        "rf_rmse=np.round(mean_squared_error(val_y, rf.predict(val_X_num_compressed), squared=False),3)\n",
        "gbr_rmse=np.round(mean_squared_error(val_y, gbr.predict(val_X_num_compressed), squared=False),3)\n",
        "xg_rmse=np.round(mean_squared_error(val_y, xg.predict(val_X_num_compressed), squared=False),3)\n",
        "lr_rmsle=np.round(mean_squared_log_error(val_y, lr.predict(val_X_num_compressed), squared=False),3)\n",
        "dt_rmsle=np.round(mean_squared_log_error(val_y, dt.predict(val_X_num_compressed), squared=False),3)\n",
        "rf_rmsle=np.round(mean_squared_log_error(val_y, rf.predict(val_X_num_compressed), squared=False),3)\n",
        "gbr_rmsle=np.round(mean_squared_log_error(val_y, gbr.predict(val_X_num_compressed), squared=False),3)\n",
        "xg_rmsle=np.round(mean_squared_log_error(val_y, xg.predict(val_X_num_compressed), squared=False),3)\n",
        "print(f'The RMSE for Linear Regression with PCA is {lr_rmse} and the RMSLE is {lr_rmsle}')\n",
        "print(f'The RMSE for Decision Tree Regressor with PCA is {dt_rmse} and the RMSLE is {dt_rmsle}')\n",
        "print(f'The RMSE for Random Forest Regressor with PCA is {rf_rmse} and the RMSLE is {rf_rmsle}')\n",
        "print(f'The RMSE for GradientBoosting with PCA is {gbr_rmse} and the RMSLE is {gbr_rmsle}')\n",
        "print(f'The RMSE for XGBoost with PCA is {xg_rmse} and the RMSLE is {xg_rmsle}')"
      ],
      "execution_count": 29,
      "outputs": [
        {
          "output_type": "stream",
          "name": "stdout",
          "text": [
            "The RMSE for Linear Regression with PCA is 40386.008 and the RMSLE is 0.197\n",
            "The RMSE for Decision Tree Regressor with PCA is 47683.062 and the RMSLE is 0.237\n",
            "The RMSE for Random Forest Regressor with PCA is 33343.448 and the RMSLE is 0.149\n",
            "The RMSE for GradientBoosting with PCA is 33394.135 and the RMSLE is 0.146\n",
            "The RMSE for XGBoost with PCA is 33656.609 and the RMSLE is 0.149\n"
          ]
        }
      ]
    },
    {
      "cell_type": "markdown",
      "source": [
        "### 9.1.2 Linear Regression"
      ],
      "metadata": {
        "id": "SSx37M9ADy1X"
      }
    },
    {
      "cell_type": "code",
      "metadata": {
        "id": "W9N_5RalR4Q3"
      },
      "source": [
        "# The whole trainging set with only numerical variables with PCA dimensionality reduction is called train_all_num_compressed\n",
        "train_all_num_stand = StandardScaler().fit_transform(train_num_only) #Standardize features by removing the mean and scaling to unit variance.\n",
        "\n",
        "pca = PCA(n_components=0.9) \n",
        "pca.fit(train_all_num_stand)\n",
        "train_all_num_compressed=pca.transform(train_all_num_stand) \n",
        "\n",
        "# Test set as well for the Kaggle competiton submission\n",
        "test_num_stand = StandardScaler().fit_transform(test_num_only) #Standardize features by removing the mean and scaling to unit variance.\n",
        "test_num_compressed=pca.transform(test_num_stand)"
      ],
      "execution_count": 30,
      "outputs": []
    },
    {
      "cell_type": "code",
      "source": [
        "lr = LinearRegression()\n",
        "lr.fit(train_all_num_compressed, np.array(y_all))\n",
        "\n",
        "test_y_predictions_lr = lr.predict(test_num_compressed)\n",
        "\n",
        "submission_lr_pca1 = pd.DataFrame(\n",
        "    {'Id': test.Id, 'SalePrice': test_y_predictions_lr},\n",
        "    columns = ['Id', 'SalePrice'])\n",
        "submission_lr_pca1.to_csv('submission_lr_pca1.csv', index = False)"
      ],
      "metadata": {
        "id": "MN8QHU_0D36S"
      },
      "execution_count": null,
      "outputs": []
    },
    {
      "cell_type": "code",
      "source": [
        "!kaggle competitions submit -c house-prices-advanced-regression-techniques -f submission_lr_pca1.csv -m \"Linear Regression with PCA1 Submission\" #rmle 0.21052"
      ],
      "metadata": {
        "colab": {
          "base_uri": "https://localhost:8080/"
        },
        "id": "zWa7wJI0D3nT",
        "outputId": "b83bc462-8637-45ce-c962-373353fbf75e"
      },
      "execution_count": null,
      "outputs": [
        {
          "output_type": "stream",
          "name": "stdout",
          "text": [
            "Warning: Your Kaggle API key is readable by other users on this system! To fix this, you can run 'chmod 600 /root/.kaggle/kaggle.json'\n",
            "Warning: Looks like you're using an outdated API Version, please consider updating (server 1.5.12 / client 1.5.4)\n",
            "100% 33.6k/33.6k [00:01<00:00, 33.7kB/s]\n",
            "Successfully submitted to House Prices - Advanced Regression Techniques"
          ]
        }
      ]
    },
    {
      "cell_type": "code",
      "source": [
        "#for final results\n",
        "lr = LinearRegression()\n",
        "lr.fit(train_X_num_compressed, train_y)\n",
        "lr_rmse=np.round(mean_squared_error(val_y, lr.predict(val_X_num_compressed), squared=False),3)\n",
        "lr_rmsle=np.round(mean_squared_log_error(val_y, lr.predict(val_X_num_compressed), squared=False),3)\n",
        "print(f'The RMSE for Linear Regressor with PCA is {lr_rmse} and the RMSLE is {lr_rmsle}')\n"
      ],
      "metadata": {
        "colab": {
          "base_uri": "https://localhost:8080/"
        },
        "id": "GHk1BkSPEpeN",
        "outputId": "23ebe928-678f-4a5b-c454-709108098d07"
      },
      "execution_count": null,
      "outputs": [
        {
          "output_type": "stream",
          "name": "stdout",
          "text": [
            "The RMSE for Linear Regressor with PCA is 40386.008 and the RMSLE is 0.197\n"
          ]
        }
      ]
    },
    {
      "cell_type": "markdown",
      "source": [
        "### 9.1.3 Ridge Regression with cross-validaiton\n",
        "\n",
        "Let's use cross-validation algorithm to find the best lambda value for the Ridge Regressor, which gives the smallest RMSE. We will use the Principal Components (PCs) of the numerical variables."
      ],
      "metadata": {
        "id": "sGRe2vyZUpk6"
      }
    },
    {
      "cell_type": "code",
      "source": [
        "lambdas = [1, 1.5, 2, 2.5, 3, 3.5, 4, 4.5, 5, 6, 8, 10, 15, 20, 25, 30, 50, 75, 100, 150, 500]\n",
        "\n",
        "# let's collect RMSE values to find the best lambda\n",
        "error = np.zeros(len(lambdas))\n",
        "\n",
        "y = np.array(y_all)\n",
        "X = train_all_num_compressed\n",
        "\n",
        "for i, lambda_ in enumerate(lambdas):\n",
        "  #print(f'RMSE for lambda = {lambda_}...')\n",
        "\n",
        "  # 4-fold cross validation\n",
        "  # Here we are using sklearn Cross Validation Function called KFold\n",
        "  kf = KFold(n_splits=4, random_state=111, shuffle=True)\n",
        "\n",
        "  # We initialize empty lists\n",
        "  fold_rmse = []\n",
        "  for train_index, val_index in kf.split(X):\n",
        "\n",
        "    # split data into X_train, y_train and X_val, y_val depending on the fold:\n",
        "    X_train, X_val = X[train_index], X[val_index]\n",
        "    y_train, y_val = y[train_index], y[val_index]\n",
        "\n",
        "    # train the Ridge regression model with lambda_\n",
        "    model = Ridge(lambda_)\n",
        "\n",
        "    # fit the Ridge regression on training data\n",
        "    model.fit(X_train, y_train) \n",
        "\n",
        "    # predictions on validation data\n",
        "    predictions = model.predict(X_val)\n",
        "\n",
        "    # calculate RMSE for this fold and store it in fold_rmse\n",
        "    error_rmse = mean_squared_error(y_val, predictions, squared=False)\n",
        "    fold_rmse.append(error_rmse)\n",
        "\n",
        "  print(f'Average RMSE for {lambda_} is {np.mean(fold_rmse)}')\n",
        "  error[i] = np.mean(fold_rmse)"
      ],
      "metadata": {
        "colab": {
          "base_uri": "https://localhost:8080/"
        },
        "id": "W0Kp9Q-LGzra",
        "outputId": "345ed5b3-26ae-475a-d7e9-9690ea47865d"
      },
      "execution_count": 31,
      "outputs": [
        {
          "output_type": "stream",
          "name": "stdout",
          "text": [
            "Average RMSE for 1 is 40490.99996351876\n",
            "Average RMSE for 1.5 is 40490.05878739794\n",
            "Average RMSE for 2 is 40489.120811200526\n",
            "Average RMSE for 2.5 is 40488.18602781081\n",
            "Average RMSE for 3 is 40487.2544301373\n",
            "Average RMSE for 3.5 is 40486.32601111255\n",
            "Average RMSE for 4 is 40485.400763693164\n",
            "Average RMSE for 4.5 is 40484.47868085958\n",
            "Average RMSE for 5 is 40483.559755615985\n",
            "Average RMSE for 6 is 40481.7313500337\n",
            "Average RMSE for 8 is 40478.11212474516\n",
            "Average RMSE for 10 is 40474.54264832047\n",
            "Average RMSE for 15 is 40465.833776861036\n",
            "Average RMSE for 20 is 40457.42652067792\n",
            "Average RMSE for 25 is 40449.314473974984\n",
            "Average RMSE for 30 is 40441.49143625617\n",
            "Average RMSE for 50 is 40412.972064709174\n",
            "Average RMSE for 75 is 40383.15735715689\n",
            "Average RMSE for 100 is 40359.26299652576\n",
            "Average RMSE for 150 is 40327.20014144036\n",
            "Average RMSE for 500 is 40493.14137995026\n"
          ]
        }
      ]
    },
    {
      "cell_type": "markdown",
      "source": [
        "The best lambda value is 150. Let's submit it to Kaggle. "
      ],
      "metadata": {
        "id": "nhflWpMmjtDQ"
      }
    },
    {
      "cell_type": "code",
      "source": [
        "ridge=Ridge(150)\n",
        "ridge.fit(train_all_num_compressed, np.array(y_all))\n",
        "\n",
        "test_y_predictions_ridge = ridge.predict(test_num_compressed)\n",
        "\n",
        "submission_ridge_pca1 = pd.DataFrame(\n",
        "    {'Id': test.Id, 'SalePrice': test_y_predictions_ridge},\n",
        "    columns = ['Id', 'SalePrice'])\n",
        "submission_ridge_pca1.to_csv('submission_ridge_pca1.csv', index = False)"
      ],
      "metadata": {
        "id": "f_2wdfnCVFs8"
      },
      "execution_count": 32,
      "outputs": []
    },
    {
      "cell_type": "code",
      "source": [
        "!kaggle competitions submit -c house-prices-advanced-regression-techniques -f submission_ridge_pca1.csv -m \"Ridge Regression with PCA1 Submission\" #rmle 0.19926"
      ],
      "metadata": {
        "colab": {
          "base_uri": "https://localhost:8080/"
        },
        "id": "-CtIQZPSVBoa",
        "outputId": "30c977f8-13e0-414c-b259-186fdc595c49"
      },
      "execution_count": 33,
      "outputs": [
        {
          "output_type": "stream",
          "name": "stdout",
          "text": [
            "Warning: Your Kaggle API key is readable by other users on this system! To fix this, you can run 'chmod 600 /root/.kaggle/kaggle.json'\n",
            "Warning: Looks like you're using an outdated API Version, please consider updating (server 1.5.12 / client 1.5.4)\n",
            "100% 33.6k/33.6k [00:02<00:00, 13.1kB/s]\n",
            "Successfully submitted to House Prices - Advanced Regression Techniques"
          ]
        }
      ]
    },
    {
      "cell_type": "markdown",
      "source": [
        "Kaggle score is 0.19926."
      ],
      "metadata": {
        "id": "3omBe_5ojwSc"
      }
    },
    {
      "cell_type": "code",
      "source": [
        "#for final results\n",
        "ridge = Ridge(150)\n",
        "ridge.fit(train_X_num_compressed, train_y)\n",
        "ridge_rmse=np.round(mean_squared_error(val_y, ridge.predict(val_X_num_compressed), squared=False),3)\n",
        "ridge_rmsle=np.round(mean_squared_log_error(val_y, ridge.predict(val_X_num_compressed), squared=False),3)\n",
        "print(f'The RMSE for Ridge Regressor with PCA is {ridge_rmse} and the RMSLE is {ridge_rmsle}')"
      ],
      "metadata": {
        "colab": {
          "base_uri": "https://localhost:8080/"
        },
        "id": "WVRI84LEUo50",
        "outputId": "feab0e5c-0f1c-477d-951d-8ac54568d1c2"
      },
      "execution_count": 34,
      "outputs": [
        {
          "output_type": "stream",
          "name": "stdout",
          "text": [
            "The RMSE for Ridge Regressor with PCA is 40613.058 and the RMSLE is 0.187\n"
          ]
        }
      ]
    },
    {
      "cell_type": "markdown",
      "metadata": {
        "id": "JIGIEkAiRbDm"
      },
      "source": [
        "### 9.1.4 Decision Tree Regressor with cross-validation\n",
        "\n",
        "Let's use cross-validation algorithm to find the best depth for the Decision Tree Regressor, which gives the smallest RMSE. We will use the Principal Components (PCs) of the numerical variables."
      ]
    },
    {
      "cell_type": "code",
      "metadata": {
        "colab": {
          "base_uri": "https://localhost:8080/"
        },
        "id": "ie5pawgZR4Hb",
        "outputId": "2670874c-d7f1-4533-e53b-c75940e4a692"
      },
      "source": [
        "n_depths = [5,10,15,20,25,30,35,40,45,50,60,70,90,100]\n",
        "mean_RMSEs = np.zeros(len(n_depths))\n",
        "\n",
        "for i, depth in enumerate(n_depths):\n",
        "\n",
        "  n_folds = 4\n",
        "  dt_fold_RMSEs = np.zeros(n_folds)\n",
        "\n",
        "  # initialise splitting mechanism\n",
        "  folds = KFold(n_splits=n_folds, shuffle = True, random_state=111) \n",
        "  # here actual splitting is done\n",
        "  X=train_all_num_compressed\n",
        "  y=np.array(y_all)\n",
        "  folds.get_n_splits(X, y)\n",
        "\n",
        "  fold_indx = 1\n",
        "\n",
        "  dt_model=DecisionTreeRegressor(max_depth=depth)\n",
        "\n",
        "  # folds.split is an iterator that loops over different folds\n",
        "  # returning a tuple with train and val indeces\n",
        "  for train_index, val_index in folds.split(X, y):\n",
        "    X_train, X_val = X[train_index], X[val_index]\n",
        "    y_train, y_val = y[train_index], y[val_index]\n",
        "\n",
        "    # train the models\n",
        "    dt_model.fit(X_train, y_train)\n",
        "    dt_fold_RMSEs[fold_indx-1] = mean_squared_error(y_val, dt_model.predict(X_val), squared = False)\n",
        "\n",
        "    fold_indx += 1\n",
        "\n",
        "  print(f'Average validation RMSE for DT with maximal possible depth of {depth} with PCA is {np.round(np.mean(dt_fold_RMSEs),3)}') \n",
        "  mean_RMSEs[i] = np.mean(dt_fold_RMSEs)"
      ],
      "execution_count": null,
      "outputs": [
        {
          "output_type": "stream",
          "name": "stdout",
          "text": [
            "Average validation RMSE for DT with maximal possible depth of 5 with PCA is 44738.23\n",
            "Average validation RMSE for DT with maximal possible depth of 10 with PCA is 46260.015\n",
            "Average validation RMSE for DT with maximal possible depth of 15 with PCA is 47237.252\n",
            "Average validation RMSE for DT with maximal possible depth of 20 with PCA is 46460.202\n",
            "Average validation RMSE for DT with maximal possible depth of 25 with PCA is 45149.893\n",
            "Average validation RMSE for DT with maximal possible depth of 30 with PCA is 47100.828\n",
            "Average validation RMSE for DT with maximal possible depth of 35 with PCA is 46436.848\n",
            "Average validation RMSE for DT with maximal possible depth of 40 with PCA is 45038.507\n",
            "Average validation RMSE for DT with maximal possible depth of 45 with PCA is 47418.414\n",
            "Average validation RMSE for DT with maximal possible depth of 50 with PCA is 46652.297\n",
            "Average validation RMSE for DT with maximal possible depth of 60 with PCA is 48365.27\n",
            "Average validation RMSE for DT with maximal possible depth of 70 with PCA is 45079.148\n",
            "Average validation RMSE for DT with maximal possible depth of 90 with PCA is 47780.449\n",
            "Average validation RMSE for DT with maximal possible depth of 100 with PCA is 47724.786\n"
          ]
        }
      ]
    },
    {
      "cell_type": "markdown",
      "metadata": {
        "id": "Eo8hP8_lScuE"
      },
      "source": [
        "Best is Decision Tree Regressor with max depth of 5, the RMSE is 44 738.23."
      ]
    },
    {
      "cell_type": "markdown",
      "source": [
        "Submitting to Kaggle the best Decision Tree Regressor with maximum depth of 5."
      ],
      "metadata": {
        "id": "X-qCxBuj39Oc"
      }
    },
    {
      "cell_type": "code",
      "source": [
        "dt = DecisionTreeRegressor(max_depth=5)\n",
        "dt.fit(train_all_num_compressed, np.array(y_all))\n",
        "\n",
        "test_y_predictions_dt = dt.predict(test_num_compressed)\n",
        "\n",
        "submission_dt_pca1 = pd.DataFrame(\n",
        "    {'Id': test.Id, 'SalePrice': test_y_predictions_dt},\n",
        "    columns = ['Id', 'SalePrice'])\n",
        "submission_dt_pca1.to_csv('submission_dt_pca1.csv', index = False)"
      ],
      "metadata": {
        "id": "hpLYh9Np33TT"
      },
      "execution_count": null,
      "outputs": []
    },
    {
      "cell_type": "code",
      "source": [
        "!kaggle competitions submit -c house-prices-advanced-regression-techniques -f submission_dt_pca1.csv -m \"Decision Tree with PCA1 Submission\" #rmle 0.20865"
      ],
      "metadata": {
        "id": "bZJfp80g50a8"
      },
      "execution_count": null,
      "outputs": []
    },
    {
      "cell_type": "markdown",
      "source": [
        "Kaggle score is 0.20865."
      ],
      "metadata": {
        "id": "ilEStXqrj9Os"
      }
    },
    {
      "cell_type": "code",
      "source": [
        "#for final results\n",
        "dt = DecisionTreeRegressor(max_depth=5)\n",
        "dt.fit(train_X_num_compressed, train_y)\n",
        "dt_rmse=np.round(mean_squared_error(val_y, dt.predict(val_X_num_compressed), squared=False),3)\n",
        "dt_rmsle=np.round(mean_squared_log_error(val_y, dt.predict(val_X_num_compressed), squared=False),3)\n",
        "print(f'The RMSE for Decision Tree Regressor with PCA is {dt_rmse} and the RMSLE is {dt_rmsle}')\n"
      ],
      "metadata": {
        "colab": {
          "base_uri": "https://localhost:8080/"
        },
        "id": "KuzTXLukOT-v",
        "outputId": "55366e77-27b8-4ea8-ac51-ae679f4bf213"
      },
      "execution_count": null,
      "outputs": [
        {
          "output_type": "stream",
          "name": "stdout",
          "text": [
            "The RMSE for Decision Tree Regressor with PCA is 36829.515 and the RMSLE is 0.176\n"
          ]
        }
      ]
    },
    {
      "cell_type": "markdown",
      "source": [
        "### 9.1.5 Random Forest with cross-validation \n",
        "\n",
        "Let's use cross-validation alogrithm to find a number of trees, which has the smallest RMSE for Random Forest Regressor. We will use the Principal Components as the variables. "
      ],
      "metadata": {
        "id": "KixUuCiwNcTh"
      }
    },
    {
      "cell_type": "code",
      "source": [
        "n_trees = [5,10,50,100,200,500,1000]\n",
        "mean_RMSEs = np.zeros(len(n_trees))\n",
        "\n",
        "for i, trees in enumerate(n_trees):\n",
        "\n",
        "  n_folds = 4\n",
        "  rf_fold_RMSEs = np.zeros(n_folds)\n",
        "\n",
        "  # initialise splitting mechanism\n",
        "  folds = KFold(n_splits=n_folds, shuffle = True, random_state=111) \n",
        "  # here actual splitting is done\n",
        "  X=train_all_num_compressed\n",
        "  y=np.ravel(np.array(y_all))\n",
        "  folds.get_n_splits(X, y)\n",
        "\n",
        "  fold_indx = 1\n",
        "\n",
        "  rf_model=RandomForestRegressor(n_estimators=trees) #number of trees in the forest \n",
        "\n",
        "  # folds.split is an iterator that loops over different folds\n",
        "  # returning a tuple with train and val indeces\n",
        "  for train_index, val_index in folds.split(X, y):\n",
        "    X_train, X_val = X[train_index], X[val_index]\n",
        "    y_train, y_val = y[train_index], y[val_index]\n",
        "\n",
        "    rf_model.fit(X_train, y_train)\n",
        "    rf_fold_RMSEs[fold_indx-1] = mean_squared_error(y_val, rf_model.predict(X_val), squared = False)\n",
        "    fold_indx += 1\n",
        "\n",
        "  print(f'Average validation RMSE for RF with number of trees of {trees} with PCA is {np.round(np.mean(rf_fold_RMSEs),3)}') \n",
        "  mean_RMSEs[i] = np.mean(rf_fold_RMSEs)"
      ],
      "metadata": {
        "colab": {
          "base_uri": "https://localhost:8080/"
        },
        "id": "JB7Vj34pNeWD",
        "outputId": "5867de4e-7061-4ab6-de9c-393db2877af9"
      },
      "execution_count": null,
      "outputs": [
        {
          "output_type": "stream",
          "name": "stdout",
          "text": [
            "Average validation RMSE for RF with number of trees of 5 with PCA is 38271.402\n",
            "Average validation RMSE for RF with number of trees of 10 with PCA is 37567.144\n",
            "Average validation RMSE for RF with number of trees of 50 with PCA is 35726.225\n",
            "Average validation RMSE for RF with number of trees of 100 with PCA is 35693.874\n",
            "Average validation RMSE for RF with number of trees of 200 with PCA is 35472.778\n",
            "Average validation RMSE for RF with number of trees of 500 with PCA is 35309.1\n",
            "Average validation RMSE for RF with number of trees of 1000 with PCA is 35369.77\n"
          ]
        }
      ]
    },
    {
      "cell_type": "code",
      "source": [
        "plt.figure(figsize=(25, 6)) \n",
        "plt.plot(n_trees,mean_RMSEs)\n",
        "plt.xlabel('Amount of trees')\n",
        "plt.ylabel('RMSE')\n",
        "plt.title('CV of RF Regressor')"
      ],
      "metadata": {
        "colab": {
          "base_uri": "https://localhost:8080/",
          "height": 422
        },
        "id": "5kK5ov-1Nd0l",
        "outputId": "f1c1c94d-8522-46ae-dbc6-fd182cb4c149"
      },
      "execution_count": null,
      "outputs": [
        {
          "output_type": "execute_result",
          "data": {
            "text/plain": [
              "Text(0.5, 1.0, 'CV of RF Regressor')"
            ]
          },
          "metadata": {},
          "execution_count": 132
        },
        {
          "output_type": "display_data",
          "data": {
            "image/png": "[encoded data removed]",
            "text/plain": [
              "<Figure size 1800x432 with 1 Axes>"
            ]
          },
          "metadata": {
            "needs_background": "light"
          }
        }
      ]
    },
    {
      "cell_type": "markdown",
      "source": [
        "Best is Random Forest Regressor with maximum number of trees is 500, the RMSE is 35 309.1."
      ],
      "metadata": {
        "id": "714qwtfXO77d"
      }
    },
    {
      "cell_type": "markdown",
      "source": [
        "Submitting to Kaggle the best model."
      ],
      "metadata": {
        "id": "oR3YW62uPKAr"
      }
    },
    {
      "cell_type": "code",
      "source": [
        "rf = RandomForestRegressor(n_estimators=500)\n",
        "rf.fit(train_all_num_compressed, np.array(y_all))\n",
        "\n",
        "test_y_predictions_rf = rf.predict(test_num_compressed)\n",
        "\n",
        "submission_rf_pca1 = pd.DataFrame(\n",
        "    {'Id': test.Id, 'SalePrice': test_y_predictions_rf},\n",
        "    columns = ['Id', 'SalePrice'])\n",
        "submission_rf_pca1.to_csv('submission_rf_pca1.csv', index = False)"
      ],
      "metadata": {
        "id": "BA8TxM0FPK3W"
      },
      "execution_count": null,
      "outputs": []
    },
    {
      "cell_type": "code",
      "source": [
        "!kaggle competitions submit -c house-prices-advanced-regression-techniques -f submission_rf_pca1.csv -m \"Random Forest with PCA1 Submission\" #rmle 0.18594"
      ],
      "metadata": {
        "colab": {
          "base_uri": "https://localhost:8080/"
        },
        "id": "QpslnhaZPLTT",
        "outputId": "5258298d-5631-4932-d227-404a77d6f6dc"
      },
      "execution_count": null,
      "outputs": [
        {
          "output_type": "stream",
          "name": "stdout",
          "text": [
            "Warning: Your Kaggle API key is readable by other users on this system! To fix this, you can run 'chmod 600 /root/.kaggle/kaggle.json'\n",
            "Warning: Looks like you're using an outdated API Version, please consider updating (server 1.5.12 / client 1.5.4)\n",
            "100% 23.4k/23.4k [00:00<00:00, 89.9kB/s]\n",
            "Successfully submitted to House Prices - Advanced Regression Techniques"
          ]
        }
      ]
    },
    {
      "cell_type": "code",
      "source": [
        "# for final results \n",
        "rf= RandomForestRegressor(n_estimators=500)\n",
        "rf.fit(train_X_num_compressed, train_y)\n",
        "rf_rmse=np.round(mean_squared_error(val_y, rf.predict(val_X_num_compressed), squared=False),3)\n",
        "rf_rmsle=np.round(mean_squared_log_error(val_y, rf.predict(val_X_num_compressed), squared=False),3)\n",
        "print(f'The RMSE for Random Forest Regressor with PCA1 is {rf_rmse} and the RMSLE is {rf_rmsle}')"
      ],
      "metadata": {
        "colab": {
          "base_uri": "https://localhost:8080/"
        },
        "id": "s_9Ecr0XPtgU",
        "outputId": "9b56dd65-64ba-4f33-88a4-52ded3bf76d8"
      },
      "execution_count": null,
      "outputs": [
        {
          "output_type": "stream",
          "name": "stdout",
          "text": [
            "The RMSE for Random Forest Regressor with PCA1 is 33880.495 and the RMSLE is 0.149\n"
          ]
        }
      ]
    },
    {
      "cell_type": "markdown",
      "source": [
        "### 9.1.6 Bagging with cross-validation"
      ],
      "metadata": {
        "id": "BXqq2M5WmkU-"
      }
    },
    {
      "cell_type": "code",
      "source": [
        "n_estimators = [100,200,400,600,800] \n",
        "\n",
        "for i, n_estimator in enumerate(n_estimators):\n",
        "  model_br = BaggingRegressor(base_estimator=DecisionTreeRegressor(), n_estimators=n_estimator)\n",
        "\n",
        "  n_folds = 4\n",
        "  br_fold_RMSEs = np.zeros(n_folds)\n",
        "\n",
        "  X=train_all_num_compressed\n",
        "  y=np.ravel(np.array(train_df2[['SalePrice']]))\n",
        "\n",
        "  # initialise splitting mechanism\n",
        "  folds = KFold(n_splits=n_folds, shuffle = True, random_state=111) \n",
        "\n",
        "  # here actual splitting is done\n",
        "  folds.get_n_splits(X, y)\n",
        "\n",
        "  fold_indx = 1\n",
        "\n",
        "  # folds.split is an iterator that loops over different folds\n",
        "  # returning a tuple with train and val indeces\n",
        "  for train_index, val_index in folds.split(X, y):\n",
        "    X_train, X_val = X[train_index], X[val_index]\n",
        "    y_train, y_val = y[train_index], y[val_index]\n",
        "\n",
        "    # train all three models\n",
        "    model_br.fit(X_train, y_train)\n",
        "\n",
        "    val_predictions_br = model_br.predict(X_val)\n",
        "\n",
        "    br_fold_RMSEs[fold_indx-1] = mean_squared_error(y_val, val_predictions_br, squared = False)\n",
        "\n",
        "    fold_indx += 1\n",
        "\n",
        "  print(f'Bagging : average validation RMSE with n_estimators = {n_estimator} is {np.mean(br_fold_RMSEs)}')"
      ],
      "metadata": {
        "colab": {
          "base_uri": "https://localhost:8080/"
        },
        "id": "SlZeFsKqmk1m",
        "outputId": "113f407a-5e40-44db-8999-33655fc08a6d"
      },
      "execution_count": null,
      "outputs": [
        {
          "output_type": "stream",
          "name": "stdout",
          "text": [
            "Bagging : average validation RMSE with n_estimators = 100 is 35109.2631459737\n",
            "Bagging : average validation RMSE with n_estimators = 200 is 35467.792860763155\n",
            "Bagging : average validation RMSE with n_estimators = 400 is 35363.345121313454\n",
            "Bagging : average validation RMSE with n_estimators = 600 is 35239.12541534918\n",
            "Bagging : average validation RMSE with n_estimators = 800 is 35312.19552983507\n"
          ]
        }
      ]
    },
    {
      "cell_type": "markdown",
      "source": [
        "The best result is with n_estimators=100"
      ],
      "metadata": {
        "id": "r0rc-Vt1oEn7"
      }
    },
    {
      "cell_type": "code",
      "source": [
        "m_br = BaggingRegressor(base_estimator=DecisionTreeRegressor(), n_estimators=100)\n",
        "m_br.fit(train_X_num_compressed, train_y)\n",
        "val_pred_br_pca1=m_br.predict(val_X_num_compressed)\n",
        "br_rmse2=np.round(mean_squared_error(val_y, val_pred_br_pca1, squared=False),3)\n",
        "br_rmsle2=np.round(mean_squared_log_error(val_y, val_pred_br_pca1, squared=False),3)\n",
        "print(f'The RMSE for Bagging with n_estimators=100 is {br_rmse2} and the RMSLE is {br_rmsle2}')"
      ],
      "metadata": {
        "colab": {
          "base_uri": "https://localhost:8080/"
        },
        "id": "EyyD1ogOoHln",
        "outputId": "19be2c75-f317-4105-ff6a-56a631562ecc"
      },
      "execution_count": null,
      "outputs": [
        {
          "output_type": "stream",
          "name": "stdout",
          "text": [
            "The RMSE for Bagging with n_estimators=100 is 34468.796 and the RMSLE is 0.15\n"
          ]
        }
      ]
    },
    {
      "cell_type": "code",
      "source": [
        "m_br = BaggingRegressor(base_estimator=DecisionTreeRegressor(), n_estimators=100)\n",
        "m_br.fit(train_all_num_compressed, np.ravel(np.array(train_df2[['SalePrice']])))\n",
        "\n",
        "test_y_predictions_br2 = m_br.predict(test_num_compressed)\n",
        "\n",
        "submission_br2 = pd.DataFrame(\n",
        "    {'Id': test.Id, 'SalePrice': test_y_predictions_br2},\n",
        "    columns = ['Id', 'SalePrice'])\n",
        "submission_br2.to_csv('submission_br2.csv', index = False)"
      ],
      "metadata": {
        "id": "0L2N5rCQofqK"
      },
      "execution_count": null,
      "outputs": []
    },
    {
      "cell_type": "code",
      "source": [
        "!kaggle competitions submit -c house-prices-advanced-regression-techniques -f submission_br2.csv -m \"Bagging Submission PCA\""
      ],
      "metadata": {
        "colab": {
          "base_uri": "https://localhost:8080/"
        },
        "id": "ejyWBIozoi5A",
        "outputId": "16393fef-4a00-4cd3-ff8d-2c311ea80f8e"
      },
      "execution_count": null,
      "outputs": [
        {
          "output_type": "stream",
          "name": "stdout",
          "text": [
            "Warning: Your Kaggle API key is readable by other users on this system! To fix this, you can run 'chmod 600 /root/.kaggle/kaggle.json'\n",
            "Warning: Looks like you're using an outdated API Version, please consider updating (server 1.5.12 / client 1.5.4)\n",
            "100% 21.2k/21.2k [00:01<00:00, 13.4kB/s]\n",
            "Successfully submitted to House Prices - Advanced Regression Techniques"
          ]
        }
      ]
    },
    {
      "cell_type": "markdown",
      "source": [
        "Kaggle score: 0.18618"
      ],
      "metadata": {
        "id": "4CESCVmJo3qM"
      }
    },
    {
      "cell_type": "markdown",
      "source": [
        "### 9.1.7 Gradient Boosting with cross-validation"
      ],
      "metadata": {
        "id": "Y6WuV9Qk9vwY"
      }
    },
    {
      "cell_type": "code",
      "source": [
        "n_estimators = [100,200,400,600,800] \n",
        "\n",
        "for i, n_estimator in enumerate(n_estimators):\n",
        "  model_gbr = GradientBoostingRegressor(n_estimators=n_estimator)\n",
        "\n",
        "  n_folds = 4\n",
        "  gbr_fold_RMSEs = np.zeros(n_folds)\n",
        "\n",
        "  X=train_all_num_compressed\n",
        "  y=np.ravel(np.array(train_df2[['SalePrice']]))\n",
        "\n",
        "  # initialise splitting mechanism\n",
        "  folds = KFold(n_splits=n_folds, shuffle = True, random_state=111) \n",
        "\n",
        "  # here actual splitting is done\n",
        "  folds.get_n_splits(X, y)\n",
        "\n",
        "  fold_indx = 1\n",
        "\n",
        "  # folds.split is an iterator that loops over different folds\n",
        "  # returning a tuple with train and val indeces\n",
        "  for train_index, val_index in folds.split(X, y):\n",
        "    X_train, X_val = X[train_index], X[val_index]\n",
        "    y_train, y_val = y[train_index], y[val_index]\n",
        "\n",
        "    # train all three models\n",
        "    model_gbr.fit(X_train, y_train)\n",
        "\n",
        "    val_predictions_gbr = model_gbr.predict(X_val)\n",
        "\n",
        "    gbr_fold_RMSEs[fold_indx-1] = mean_squared_error(y_val, val_predictions_gbr, squared = False)\n",
        "\n",
        "    fold_indx += 1\n",
        "\n",
        "  print(f'Gradient Boosting : average validation RMSE with n_estimators = {n_estimator} is {np.mean(gbr_fold_RMSEs)}')"
      ],
      "metadata": {
        "colab": {
          "base_uri": "https://localhost:8080/"
        },
        "id": "J8AihelA9xf4",
        "outputId": "bc71572e-656b-4aa1-e966-2671287f488c"
      },
      "execution_count": null,
      "outputs": [
        {
          "output_type": "stream",
          "name": "stdout",
          "text": [
            "Gradient Boosting : average validation RMSE with n_estimators = 100 is 35940.538496193956\n",
            "Gradient Boosting : average validation RMSE with n_estimators = 200 is 35818.33293716846\n",
            "Gradient Boosting : average validation RMSE with n_estimators = 400 is 35583.27529719673\n",
            "Gradient Boosting : average validation RMSE with n_estimators = 600 is 35719.191108178464\n",
            "Gradient Boosting : average validation RMSE with n_estimators = 800 is 35807.071822827726\n"
          ]
        }
      ]
    },
    {
      "cell_type": "markdown",
      "source": [
        "The best result is with n_estimators=400."
      ],
      "metadata": {
        "id": "izVku8jgcILd"
      }
    },
    {
      "cell_type": "code",
      "source": [
        "m_gbr = GradientBoostingRegressor(n_estimators=400)\n",
        "\n",
        "m_gbr.fit(train_X_num_compressed, train_y)\n",
        "val_pred_gbr_pca1=m_gbr.predict(val_X_num_compressed)\n",
        "gbr_rmse2=np.round(mean_squared_error(val_y, val_pred_gbr_pca1, squared=False),3)\n",
        "gbr_rmsle2=np.round(mean_squared_log_error(val_y, val_pred_gbr_pca1, squared=False),3)\n",
        "print(f'The RMSE for GradientBoosting with n_estimators=400 is {gbr_rmse2} and the RMSLE is {gbr_rmsle2}')"
      ],
      "metadata": {
        "colab": {
          "base_uri": "https://localhost:8080/"
        },
        "id": "FuW77m3scN7s",
        "outputId": "25e3e843-cd3a-4409-f692-7aafbb44d5a8"
      },
      "execution_count": null,
      "outputs": [
        {
          "output_type": "stream",
          "name": "stderr",
          "text": [
            "/usr/local/lib/python3.7/dist-packages/sklearn/ensemble/_gb.py:494: DataConversionWarning: A column-vector y was passed when a 1d array was expected. Please change the shape of y to (n_samples, ), for example using ravel().\n",
            "  y = column_or_1d(y, warn=True)\n"
          ]
        },
        {
          "output_type": "stream",
          "name": "stdout",
          "text": [
            "The RMSE for GradientBoosting with n_estimators=400 is 33972.69 and the RMSLE is 0.15\n"
          ]
        }
      ]
    },
    {
      "cell_type": "code",
      "source": [
        "m_gbr = GradientBoostingRegressor(n_estimators=400)\n",
        "m_gbr.fit(train_all_num_compressed, np.array(train_df2[['SalePrice']]))\n",
        "\n",
        "test_y_predictions_gbr2 = m_gbr.predict(test_num_compressed)\n",
        "\n",
        "submission_gbr2 = pd.DataFrame(\n",
        "    {'Id': test.Id, 'SalePrice': test_y_predictions_gbr2},\n",
        "    columns = ['Id', 'SalePrice'])\n",
        "submission_gbr2.to_csv('submission_gbr2.csv', index = False)"
      ],
      "metadata": {
        "colab": {
          "base_uri": "https://localhost:8080/"
        },
        "id": "BOdOjsKxdoMh",
        "outputId": "665803aa-4550-4917-c5d9-736816b1014b"
      },
      "execution_count": null,
      "outputs": [
        {
          "output_type": "stream",
          "name": "stderr",
          "text": [
            "/usr/local/lib/python3.7/dist-packages/sklearn/ensemble/_gb.py:494: DataConversionWarning: A column-vector y was passed when a 1d array was expected. Please change the shape of y to (n_samples, ), for example using ravel().\n",
            "  y = column_or_1d(y, warn=True)\n"
          ]
        }
      ]
    },
    {
      "cell_type": "code",
      "source": [
        "!kaggle competitions submit -c house-prices-advanced-regression-techniques -f submission_gbr2.csv -m \"Gradient Boosting Submission PCA\""
      ],
      "metadata": {
        "colab": {
          "base_uri": "https://localhost:8080/"
        },
        "id": "6mYGSkRDd2WW",
        "outputId": "f08465e4-a610-415a-b3bd-7d338dba6c1c"
      },
      "execution_count": null,
      "outputs": [
        {
          "output_type": "stream",
          "name": "stdout",
          "text": [
            "Warning: Your Kaggle API key is readable by other users on this system! To fix this, you can run 'chmod 600 /root/.kaggle/kaggle.json'\n",
            "Warning: Looks like you're using an outdated API Version, please consider updating (server 1.5.12 / client 1.5.4)\n",
            "100% 33.6k/33.6k [00:05<00:00, 6.72kB/s]\n",
            "Successfully submitted to House Prices - Advanced Regression Techniques"
          ]
        }
      ]
    },
    {
      "cell_type": "markdown",
      "source": [
        "Kaggle score: 0.18376."
      ],
      "metadata": {
        "id": "S4RcBcTJh7D_"
      }
    },
    {
      "cell_type": "markdown",
      "source": [
        "### 9.1.8 XGBoost with cross-validation"
      ],
      "metadata": {
        "id": "2LRF0M0VeZdJ"
      }
    },
    {
      "cell_type": "code",
      "source": [
        "n_estimators = [50,100,200,500,750, 850] \n",
        "\n",
        "val_fold = np.zeros(len(n_estimators))\n",
        "\n",
        "for i, n_estimator in enumerate(n_estimators):\n",
        "  model_xgb = xgb.XGBRegressor(n_estimators=n_estimator, objective= 'reg:squarederror')\n",
        "\n",
        "  n_folds = 4\n",
        "  fold_RMSEs = np.zeros(n_folds)\n",
        "\n",
        "  X=train_all_num_compressed\n",
        "  y=np.ravel(np.array(train_df2[['SalePrice']]))\n",
        "\n",
        "  # initialise splitting mechanism\n",
        "  folds = KFold(n_splits=n_folds, shuffle = True, random_state=111) \n",
        "\n",
        "  # here actual splitting is done\n",
        "  folds.get_n_splits(X, y)\n",
        "\n",
        "  fold_indx = 1\n",
        "\n",
        "  # folds.split is an iterator that loops over different folds\n",
        "  # returning a tuple with train and val indeces\n",
        "  for train_index, val_index in folds.split(X, y):\n",
        "    #print(f\"CV #{fold_indx}\")\n",
        "    X_train, X_val = X[train_index], X[val_index]\n",
        "    y_train, y_val = y[train_index], y[val_index]\n",
        "\n",
        "    # train all three models\n",
        "    model_xgb.fit(X_train, y_train)\n",
        "\n",
        "\n",
        "    val_predictions = model_xgb.predict(X_val)\n",
        "\n",
        "    fold_RMSEs[fold_indx-1] = mean_squared_error(y_val, val_predictions, squared = False)\n",
        "\n",
        "    fold_indx += 1\n",
        "\n",
        "  print(f'XGBoost with n_estimator = {n_estimator} average validation RMSE is {np.mean(fold_RMSEs)}')"
      ],
      "metadata": {
        "colab": {
          "base_uri": "https://localhost:8080/"
        },
        "id": "S0fefDU6ebY5",
        "outputId": "4518f888-1d56-48ec-c5e6-223cdcf32eca"
      },
      "execution_count": null,
      "outputs": [
        {
          "output_type": "stream",
          "name": "stdout",
          "text": [
            "XGBoost with n_estimator = 50 average validation RMSE is 36209.03502179776\n",
            "XGBoost with n_estimator = 100 average validation RMSE is 35668.03095563523\n",
            "XGBoost with n_estimator = 200 average validation RMSE is 35246.636952508896\n",
            "XGBoost with n_estimator = 500 average validation RMSE is 35212.38104098234\n",
            "XGBoost with n_estimator = 750 average validation RMSE is 35284.81309190783\n",
            "XGBoost with n_estimator = 850 average validation RMSE is 35311.55895191759\n"
          ]
        }
      ]
    },
    {
      "cell_type": "markdown",
      "source": [
        "The best result is with n_estimators=500."
      ],
      "metadata": {
        "id": "K_Ps8JPZfr2L"
      }
    },
    {
      "cell_type": "code",
      "source": [
        "m_xgb = xgb.XGBRegressor(n_estimators=500,objective= 'reg:squarederror')\n",
        "m_xgb.fit(train_X_num_compressed, train_y)\n",
        "val_pred_xgb_pca1=m_gbr.predict(val_X_num_compressed)\n",
        "\n",
        "xgb_rmse2=np.round(mean_squared_error(val_y, val_pred_xgb_pca1, squared=False),3)\n",
        "xgb_rmsle2=np.round(mean_squared_log_error(val_y, val_pred_xgb_pca1, squared=False),3)\n",
        "print(f'The RMSE for XGBoost with n_estimators=500 is {xgb_rmse2} and the RMSLE is {xgb_rmsle2}')"
      ],
      "metadata": {
        "colab": {
          "base_uri": "https://localhost:8080/"
        },
        "id": "FK4KTMk1fvnh",
        "outputId": "4d7d2123-805f-4dc4-b941-992847d3d1fb"
      },
      "execution_count": null,
      "outputs": [
        {
          "output_type": "stream",
          "name": "stdout",
          "text": [
            "The RMSE for XGBoost with n_estimators=500 is 28414.83 and the RMSLE is 0.15\n"
          ]
        }
      ]
    },
    {
      "cell_type": "code",
      "source": [
        "m_xgb = xgb.XGBRegressor(n_estimators=500,objective= 'reg:squarederror')\n",
        "m_xgb.fit(train_all_num_compressed, np.array(train_df2[['SalePrice']]))\n",
        "\n",
        "test_y_predictions_xgb2 = m_xgb.predict(test_num_compressed)\n",
        "\n",
        "submission_xgb2 = pd.DataFrame(\n",
        "    {'Id': test.Id, 'SalePrice': test_y_predictions_xgb2},\n",
        "    columns = ['Id', 'SalePrice'])\n",
        "submission_xgb2.to_csv('submission_xgb2.csv', index = False)"
      ],
      "metadata": {
        "id": "VpbKzKGihCVo"
      },
      "execution_count": null,
      "outputs": []
    },
    {
      "cell_type": "code",
      "source": [
        "!kaggle competitions submit -c house-prices-advanced-regression-techniques -f submission_xgb2.csv -m \"XGBoost Submission PCA\""
      ],
      "metadata": {
        "colab": {
          "base_uri": "https://localhost:8080/"
        },
        "id": "50Xjl5U4hb-0",
        "outputId": "2fcbb600-d6c6-4871-a830-666905546bf2"
      },
      "execution_count": null,
      "outputs": [
        {
          "output_type": "stream",
          "name": "stdout",
          "text": [
            "Warning: Your Kaggle API key is readable by other users on this system! To fix this, you can run 'chmod 600 /root/.kaggle/kaggle.json'\n",
            "Warning: Looks like you're using an outdated API Version, please consider updating (server 1.5.12 / client 1.5.4)\n",
            "100% 21.2k/21.2k [00:04<00:00, 4.68kB/s]\n",
            "Successfully submitted to House Prices - Advanced Regression Techniques"
          ]
        }
      ]
    },
    {
      "cell_type": "markdown",
      "source": [
        "Kaggle score: 0.18291. Wins Gradient Boosting PCA submission and simple linear regression submission."
      ],
      "metadata": {
        "id": "poHB-Jw9hvlt"
      }
    },
    {
      "cell_type": "markdown",
      "source": [
        "## 9.2 PCA with numerical variables and categorical variables added as dummy variables\n",
        "\n",
        "In this second section of PCA in addition to PCs of numerical variables the dummy variables are added afterwards to the data set. The dummy variables are not used in the PCA dimensinality reduction. \n"
      ],
      "metadata": {
        "id": "NGY303dwQoU6"
      }
    },
    {
      "cell_type": "markdown",
      "source": [
        "### 9.2.1 Different models \n",
        "\n",
        "We will use some models from before with default parameters with PCA data. The models are the following: Ridge regression, decsision tree, random forest, gradient boosting and XGBoost.\n",
        "\n",
        "With this second PCA data set we could not make a reasonable model for linear regression, thus we eliminated it from our report. "
      ],
      "metadata": {
        "id": "CKuB5hdHQn8N"
      }
    },
    {
      "cell_type": "code",
      "source": [
        "#splitting the data into train and validation\n",
        "train_X, val_X, train_y, val_y = train_test_split(X_all, y_all, \n",
        "                                                      random_state = 111, \n",
        "                                                      test_size = 0.20)\n",
        "\n",
        "# splitting train_X and val_X into two subsets: numerical columns and categorical columns \n",
        "train_X_num =train_X[['LotFrontage', 'MasVnrArea','LotArea', 'YearRemodAdd','BsmtFinSF1','BsmtFinSF2','BsmtUnfSF','TotalBsmtSF','1stFlrSF','2ndFlrSF','LowQualFinSF','GrLivArea','BsmtFullBath','BsmtHalfBath','FullBath','HalfBath','TotRmsAbvGrd','Fireplaces','GarageCars','GarageArea','WoodDeckSF','OpenPorchSF','BedroomAbvGr',\t'KitchenAbvGr','EnclosedPorch','3SsnPorch','ScreenPorch','PoolArea','MiscVal','YrSold','MSSubClass',\t'OverallQual',\t'OverallCond',\t'YearBuilt']]\n",
        "val_X_num=val_X[['LotFrontage', 'MasVnrArea','LotArea', 'YearRemodAdd','BsmtFinSF1','BsmtFinSF2','BsmtUnfSF','TotalBsmtSF','1stFlrSF','2ndFlrSF','LowQualFinSF','GrLivArea','BsmtFullBath','BsmtHalfBath','FullBath','HalfBath','TotRmsAbvGrd','Fireplaces','GarageCars','GarageArea','WoodDeckSF','OpenPorchSF','BedroomAbvGr',\t'KitchenAbvGr','EnclosedPorch','3SsnPorch','ScreenPorch','PoolArea','MiscVal','YrSold','MSSubClass',\t'OverallQual',\t'OverallCond',\t'YearBuilt']]\n",
        "\n",
        "num_columns = ['LotFrontage', 'MasVnrArea', 'LotArea', 'YearRemodAdd','BsmtFinSF1','BsmtFinSF2','BsmtUnfSF','TotalBsmtSF','1stFlrSF','2ndFlrSF','LowQualFinSF','GrLivArea','BsmtFullBath','BsmtHalfBath','FullBath','HalfBath','TotRmsAbvGrd','Fireplaces','GarageCars','GarageArea','WoodDeckSF','OpenPorchSF','BedroomAbvGr',\t'KitchenAbvGr','EnclosedPorch','3SsnPorch','ScreenPorch','PoolArea','MiscVal','YrSold','MSSubClass',\t'OverallQual',\t'OverallCond',\t'YearBuilt']\n",
        "train_X_cat = train_X\n",
        "val_X_cat = val_X\n",
        "for col in num_columns:\n",
        "  train_X_cat = train_X_cat.drop([col], axis = 1)\n",
        "  val_X_cat = val_X_cat.drop([col], axis = 1)"
      ],
      "metadata": {
        "id": "vqwXfqHtQpDH"
      },
      "execution_count": 39,
      "outputs": []
    },
    {
      "cell_type": "code",
      "source": [
        "train_num_stand = StandardScaler().fit_transform(train_X_num)\n",
        "val_num_stand = StandardScaler().fit_transform(val_X_num)\n",
        "\n",
        "pca = PCA(n_components=0.9) #choose the variance that we want to be described by PCs of the original variables \n",
        "\n",
        "# use PCA on our data\n",
        "pca.fit(train_num_stand)\n",
        "\n",
        "train_num_compressed=pca.transform(train_num_stand)\n",
        "val_num_compressed=pca.transform(val_num_stand)\n",
        "\n",
        "# put together the two subsets: numerical with PCA and catgeorical as dummies\n",
        "train_X_num_pca=pd.DataFrame(train_num_compressed, columns=['PCA%i' % i for i in range(train_num_compressed.shape[1])])\n",
        "train_X_num_pca.index=train_X_cat.index\n",
        "train_X_mix_all=pd.concat([train_X_num_pca,train_X_cat], axis=1)\n",
        "\n",
        "val_X_num_pca=pd.DataFrame(val_num_compressed, columns=['PCA%i' % i for i in range(val_num_compressed.shape[1])])\n",
        "val_X_num_pca.index=val_X_cat.index\n",
        "val_X_mix_all=pd.concat([val_X_num_pca, val_X_cat], axis=1) \n",
        "\n",
        "ridge = Ridge()\n",
        "dt = DecisionTreeRegressor()\n",
        "rf = RandomForestRegressor()\n",
        "xg = xgb.XGBRegressor(objective='reg:squarederror')\n",
        "gbr = GradientBoostingRegressor()\n",
        "\n",
        "ridge.fit(train_X_mix_all, train_y)\n",
        "dt.fit(train_X_mix_all, train_y)\n",
        "rf.fit(train_X_mix_all, train_y)\n",
        "gbr.fit(train_X_mix_all, train_y)\n",
        "xg.fit(train_X_mix_all, train_y)"
      ],
      "metadata": {
        "colab": {
          "base_uri": "https://localhost:8080/"
        },
        "id": "obUJEa_OQqFs",
        "outputId": "3935b6f4-6d06-4767-8f5a-1e33d674cf2a"
      },
      "execution_count": 40,
      "outputs": [
        {
          "output_type": "execute_result",
          "data": {
            "text/plain": [
              "XGBRegressor(objective='reg:squarederror')"
            ]
          },
          "metadata": {},
          "execution_count": 40
        }
      ]
    },
    {
      "cell_type": "code",
      "source": [
        "ridge_rmse=np.round(mean_squared_error(val_y, ridge.predict(val_X_mix_all), squared=False),3)\n",
        "dt_rmse=np.round(mean_squared_error(val_y, dt.predict(val_X_mix_all), squared=False),3)\n",
        "rf_rmse=np.round(mean_squared_error(val_y, rf.predict(val_X_mix_all), squared=False),3)\n",
        "gbr_rmse=np.round(mean_squared_error(val_y, gbr.predict(val_X_mix_all), squared=False),3)\n",
        "xg_rmse=np.round(mean_squared_error(val_y, xg.predict(val_X_mix_all), squared=False),3)\n",
        "ridge_rmsle=np.round(mean_squared_log_error(val_y, ridge.predict(val_X_mix_all), squared=False),3)\n",
        "dt_rmsle=np.round(mean_squared_log_error(val_y, dt.predict(val_X_mix_all), squared=False),3)\n",
        "rf_rmsle=np.round(mean_squared_log_error(val_y, rf.predict(val_X_mix_all), squared=False),3)\n",
        "gbr_rmsle=np.round(mean_squared_log_error(val_y, gbr.predict(val_X_mix_all), squared=False),3)\n",
        "xg_rmsle=np.round(mean_squared_log_error(val_y, xg.predict(val_X_mix_all), squared=False),3)\n",
        "print(f'The RMSE for Ridge Regressor with PCA is {ridge_rmse} and the RMSLE is {ridge_rmsle}')\n",
        "print(f'The RMSE for Decision Tree Regressor with PCA is {dt_rmse} and the RMSLE is {dt_rmsle}')\n",
        "print(f'The RMSE for Random Forest Regressor with PCA is {rf_rmse} and the RMSLE is {rf_rmsle}')\n",
        "print(f'The RMSE for Gradient Boosting Regressor with PCA is {gbr_rmse} and the RMSLE is {gbr_rmsle}')\n",
        "print(f'The RMSE for XGBoost with PCA is {xg_rmse} and the RMSLE is {xg_rmsle}')"
      ],
      "metadata": {
        "colab": {
          "base_uri": "https://localhost:8080/"
        },
        "id": "mz81hUZaQpwR",
        "outputId": "422d2eba-4e7a-49d5-bf9f-e42044d5fe04"
      },
      "execution_count": 41,
      "outputs": [
        {
          "output_type": "stream",
          "name": "stdout",
          "text": [
            "The RMSE for Ridge Regressor with PCA is 33190.268 and the RMSLE is 0.156\n",
            "The RMSE for Decision Tree Regressor with PCA is 40867.091 and the RMSLE is 0.181\n",
            "The RMSE for Random Forest Regressor with PCA is 31278.015 and the RMSLE is 0.126\n",
            "The RMSE for Gradient Boosting Regressor with PCA is 29765.362 and the RMSLE is 0.122\n",
            "The RMSE for XGBoost with PCA is 30422.195 and the RMSLE is 0.123\n"
          ]
        }
      ]
    },
    {
      "cell_type": "markdown",
      "source": [
        "### 9.2.2 Ridge regression with cross-validation\n",
        "\n",
        "For the cross-validaiton algorith the whole of the trainging data set is used. "
      ],
      "metadata": {
        "id": "kmthh2UzCHFz"
      }
    },
    {
      "cell_type": "code",
      "source": [
        "# whole training data\n",
        "num_columns = ['LotFrontage', 'MasVnrArea', 'LotArea', 'YearRemodAdd','BsmtFinSF1','BsmtFinSF2','BsmtUnfSF','TotalBsmtSF','1stFlrSF','2ndFlrSF','LowQualFinSF','GrLivArea','BsmtFullBath','BsmtHalfBath','FullBath','HalfBath','TotRmsAbvGrd','Fireplaces','GarageCars','GarageArea','WoodDeckSF','OpenPorchSF','BedroomAbvGr',\t'KitchenAbvGr','EnclosedPorch','3SsnPorch','ScreenPorch','PoolArea','MiscVal','YrSold','MSSubClass',\t'OverallQual',\t'OverallCond',\t'YearBuilt']\n",
        "train_X_cat = X_all\n",
        "for col in num_columns:\n",
        "  train_X_cat = train_X_cat.drop([col], axis = 1)\n",
        "\n",
        "train_num_stand = StandardScaler().fit_transform(train_num_only)\n",
        "pca = PCA(n_components=0.9) \n",
        "pca.fit(train_num_stand)\n",
        "\n",
        "train_num_compressed=pca.transform(train_num_stand)\n",
        "\n",
        "# put together the two subsets: numerical with PCA and catgeorical as dummies\n",
        "train_X_num_pca=pd.DataFrame(train_num_compressed, columns=['PCA%i' % i for i in range(train_num_compressed.shape[1])])\n",
        "train_X_num_pca.index=train_X_cat.index\n",
        "train_mix_all=pd.concat([train_X_num_pca,train_X_cat], axis=1)\n",
        "\n",
        "#For Test data same way \n",
        "test_cat = test_df\n",
        "for col in num_columns:\n",
        "  test_cat = test_cat.drop([col], axis = 1)\n",
        "\n",
        "test_num_stand2 = StandardScaler().fit_transform(test_num_only) #Standardize features by removing the mean and scaling to unit variance.\n",
        "test_num_compressed2=pca.transform(test_num_stand2)\n",
        "\n",
        "# put together the two subsets: numerical with PCA and catgeorical as dummies\n",
        "test_num_pca=pd.DataFrame(test_num_compressed2, columns=['PCA%i' % i for i in range(test_num_compressed2.shape[1])])\n",
        "test_num_pca.index=test_cat.index\n",
        "test_mix_all=pd.concat([test_num_pca,test_cat], axis=1)"
      ],
      "metadata": {
        "id": "LpDjVR9VRr0r"
      },
      "execution_count": 35,
      "outputs": []
    },
    {
      "cell_type": "code",
      "source": [
        "lambdas = [1, 1.5, 2, 2.5, 3, 3.5, 4, 4.5, 5, 6, 8, 10, 15, 20, 25, 30, 50, 75, 100, 150, 500]\n",
        "\n",
        "# let's collect RMSE values to find the best lambda\n",
        "error = np.zeros(len(lambdas))\n",
        "\n",
        "y = np.array(y_all)\n",
        "X = np.array(train_mix_all)\n",
        "\n",
        "for i, lambda_ in enumerate(lambdas):\n",
        "  #print(f'RMSE for lambda = {lambda_}...')\n",
        "\n",
        "  # 4-fold cross validation\n",
        "  # Here we are using sklearn Cross Validation Function called KFold\n",
        "  kf = KFold(n_splits=4, random_state=111, shuffle=True)\n",
        "\n",
        "  # We initialize empty lists\n",
        "  fold_rmse = []\n",
        "  for train_index, val_index in kf.split(X):\n",
        "\n",
        "    # split data into X_train, y_train and X_val, y_val depending on the fold:\n",
        "    X_train, X_val = X[train_index], X[val_index]\n",
        "    y_train, y_val = y[train_index], y[val_index]\n",
        "\n",
        "    # train the Ridge regression model with lambda_\n",
        "    model = Ridge(lambda_)\n",
        "\n",
        "    # fit the Ridge regression on training data\n",
        "    model.fit(X_train, y_train) \n",
        "\n",
        "    # predictions on validation data\n",
        "    predictions = model.predict(X_val)\n",
        "\n",
        "    # calculate RMSE for this fold and store it in fold_rmse\n",
        "    error_rmse = mean_squared_error(y_val, predictions, squared=False)\n",
        "    fold_rmse.append(error_rmse)\n",
        "\n",
        "  print(f'Average RMSE for {lambda_} is {np.mean(fold_rmse)}')\n",
        "  error[i] = np.mean(fold_rmse)"
      ],
      "metadata": {
        "colab": {
          "base_uri": "https://localhost:8080/"
        },
        "id": "1KbfVJRBLHlC",
        "outputId": "3dcbe2a4-01e6-4558-b341-f16d099933fb"
      },
      "execution_count": 37,
      "outputs": [
        {
          "output_type": "stream",
          "name": "stdout",
          "text": [
            "Average RMSE for 1 is 34401.72347663342\n",
            "Average RMSE for 1.5 is 34132.943769147234\n",
            "Average RMSE for 2 is 33942.63269556362\n",
            "Average RMSE for 2.5 is 33798.32071923768\n",
            "Average RMSE for 3 is 33683.76503678208\n",
            "Average RMSE for 3.5 is 33589.93880652728\n",
            "Average RMSE for 4 is 33511.37756719108\n",
            "Average RMSE for 4.5 is 33444.53854052037\n",
            "Average RMSE for 5 is 33386.99484111226\n",
            "Average RMSE for 6 is 33293.28924881286\n",
            "Average RMSE for 8 is 33164.221293652285\n",
            "Average RMSE for 10 is 33084.10876796383\n",
            "Average RMSE for 15 is 32996.196295349546\n",
            "Average RMSE for 20 is 32988.2192745817\n",
            "Average RMSE for 25 is 33017.30176795459\n",
            "Average RMSE for 30 is 33065.25101292324\n",
            "Average RMSE for 50 is 33318.193938113036\n",
            "Average RMSE for 75 is 33639.67326118902\n",
            "Average RMSE for 100 is 33926.45111610446\n",
            "Average RMSE for 150 is 34401.375516409986\n",
            "Average RMSE for 500 is 36212.829988654325\n"
          ]
        }
      ]
    },
    {
      "cell_type": "markdown",
      "source": [
        "Submission to Kaggle with the best lambda value of 20."
      ],
      "metadata": {
        "id": "00mODkFpCbJ-"
      }
    },
    {
      "cell_type": "code",
      "source": [
        "ridge= Ridge(20)\n",
        "ridge.fit(train_mix_all, np.array(y_all))\n",
        "\n",
        "test_y_predictions_ridge = ridge.predict(test_mix_all)\n",
        "\n",
        "submission_ridge_pca2 = pd.DataFrame(\n",
        "    {'Id': test.Id, 'SalePrice': test_y_predictions_ridge},\n",
        "    columns = ['Id', 'SalePrice'])\n",
        "submission_ridge_pca2.to_csv('submission_ridge_pca2.csv', index = False)"
      ],
      "metadata": {
        "id": "M99_U8qOCYJl"
      },
      "execution_count": 43,
      "outputs": []
    },
    {
      "cell_type": "code",
      "source": [
        "!kaggle competitions submit -c house-prices-advanced-regression-techniques -f submission_ridge_pca2.csv -m \"Ridge + PCA2 Submission\" #rmle 0.16021"
      ],
      "metadata": {
        "colab": {
          "base_uri": "https://localhost:8080/"
        },
        "id": "92fFGPALChIK",
        "outputId": "58ff70a3-299b-45b3-faf0-945e81c957e6"
      },
      "execution_count": 44,
      "outputs": [
        {
          "output_type": "stream",
          "name": "stdout",
          "text": [
            "Warning: Your Kaggle API key is readable by other users on this system! To fix this, you can run 'chmod 600 /root/.kaggle/kaggle.json'\n",
            "Warning: Looks like you're using an outdated API Version, please consider updating (server 1.5.12 / client 1.5.4)\n",
            "100% 33.6k/33.6k [00:03<00:00, 9.12kB/s]\n",
            "Successfully submitted to House Prices - Advanced Regression Techniques"
          ]
        }
      ]
    },
    {
      "cell_type": "markdown",
      "source": [
        "Kaggle score is 0.16021."
      ],
      "metadata": {
        "id": "qw1uy-lfm_pZ"
      }
    },
    {
      "cell_type": "code",
      "source": [
        "#for final results\n",
        "ridge = Ridge(alpha=20)\n",
        "ridge.fit(train_X_mix_all, train_y)\n",
        "ridge_rmse=np.round(mean_squared_error(val_y, ridge.predict(val_X_mix_all), squared=False),3)\n",
        "ridge_rmsle=np.round(mean_squared_log_error(val_y, ridge.predict(val_X_mix_all), squared=False),3)\n",
        "print(f'The RMSE for Ridge Regressor with PCA is {ridge_rmse} and the RMSLE is {ridge_rmsle}')"
      ],
      "metadata": {
        "colab": {
          "base_uri": "https://localhost:8080/"
        },
        "id": "EpgNYUpSCkjZ",
        "outputId": "c14f73cf-9ec5-43dc-aea8-f2ad0b239f70"
      },
      "execution_count": 42,
      "outputs": [
        {
          "output_type": "stream",
          "name": "stdout",
          "text": [
            "The RMSE for Ridge Regressor with PCA is 32737.52 and the RMSLE is 0.143\n"
          ]
        }
      ]
    },
    {
      "cell_type": "markdown",
      "source": [
        "### 9.2.3 Decision Tree with cross-validation"
      ],
      "metadata": {
        "id": "STI4PqRARuTo"
      }
    },
    {
      "cell_type": "code",
      "source": [
        "n_depths = [5,10,15,20,25,30,35,40,45,50,60,70,80,90]\n",
        "mean_RMSEs = np.zeros(len(n_depths))\n",
        "\n",
        "for i, depth in enumerate(n_depths):\n",
        "\n",
        "  n_folds = 4\n",
        "  dt_fold_RMSEs = np.zeros(n_folds)\n",
        "\n",
        "  folds = KFold(n_splits=n_folds, shuffle = True, random_state=111) \n",
        "\n",
        "  X=np.array(train_mix_all)\n",
        "  y=np.array(y_all)\n",
        "  folds.get_n_splits(X, y)\n",
        "\n",
        "  fold_indx = 1\n",
        "\n",
        "  dt_model=DecisionTreeRegressor(max_depth=depth)\n",
        "\n",
        "  for train_index, val_index in folds.split(X, y):\n",
        "    X_train, X_val = X[train_index], X[val_index]\n",
        "    y_train, y_val = y[train_index], y[val_index]\n",
        "\n",
        "    dt_model.fit(X_train, y_train)\n",
        "    dt_fold_RMSEs[fold_indx-1] = mean_squared_error(y_val, dt_model.predict(X_val), squared = False)\n",
        "\n",
        "    fold_indx += 1\n",
        "\n",
        "  print(f'Average validation RMSE for DT with maximal possible depth of {depth} with PCA is {np.round(np.mean(dt_fold_RMSEs),3)}') \n",
        "  mean_RMSEs[i] = np.mean(dt_fold_RMSEs)"
      ],
      "metadata": {
        "colab": {
          "base_uri": "https://localhost:8080/"
        },
        "id": "NaFKpzLgR3oc",
        "outputId": "0d211904-033d-4c41-de91-0bb4022d2503"
      },
      "execution_count": null,
      "outputs": [
        {
          "output_type": "stream",
          "name": "stdout",
          "text": [
            "Average validation RMSE for DT with maximal possible depth of 5 with PCA is 41358.495\n",
            "Average validation RMSE for DT with maximal possible depth of 10 with PCA is 44218.375\n",
            "Average validation RMSE for DT with maximal possible depth of 15 with PCA is 47435.675\n",
            "Average validation RMSE for DT with maximal possible depth of 20 with PCA is 45770.013\n",
            "Average validation RMSE for DT with maximal possible depth of 25 with PCA is 45491.699\n",
            "Average validation RMSE for DT with maximal possible depth of 30 with PCA is 45776.904\n",
            "Average validation RMSE for DT with maximal possible depth of 35 with PCA is 44134.605\n",
            "Average validation RMSE for DT with maximal possible depth of 40 with PCA is 47546.848\n",
            "Average validation RMSE for DT with maximal possible depth of 45 with PCA is 47809.209\n",
            "Average validation RMSE for DT with maximal possible depth of 50 with PCA is 48972.648\n",
            "Average validation RMSE for DT with maximal possible depth of 60 with PCA is 44103.718\n",
            "Average validation RMSE for DT with maximal possible depth of 70 with PCA is 47066.763\n",
            "Average validation RMSE for DT with maximal possible depth of 80 with PCA is 47060.21\n",
            "Average validation RMSE for DT with maximal possible depth of 90 with PCA is 45281.729\n"
          ]
        }
      ]
    },
    {
      "cell_type": "code",
      "source": [
        "plt.figure(figsize=(25, 6)) \n",
        "plt.plot(n_depths,mean_RMSEs)\n",
        "plt.xlabel('Depths of trees')\n",
        "plt.ylabel('RMSE')\n",
        "plt.title('CV of DT Regressor')"
      ],
      "metadata": {
        "colab": {
          "base_uri": "https://localhost:8080/",
          "height": 422
        },
        "id": "LFcsRy9jR6iZ",
        "outputId": "ebc917c8-fd4c-42ff-c213-f00fef3ffa2f"
      },
      "execution_count": null,
      "outputs": [
        {
          "output_type": "execute_result",
          "data": {
            "text/plain": [
              "Text(0.5, 1.0, 'CV of DT Regressor')"
            ]
          },
          "metadata": {},
          "execution_count": 144
        },
        {
          "output_type": "display_data",
          "data": {
            "image/png": "[encoded data removed]",
            "text/plain": [
              "<Figure size 1800x432 with 1 Axes>"
            ]
          },
          "metadata": {
            "needs_background": "light"
          }
        }
      ]
    },
    {
      "cell_type": "markdown",
      "source": [
        "Best Decision Tree Regressor is with max depth of 5, its RMSE is 41 358.495."
      ],
      "metadata": {
        "id": "vT-RhR4WSVl_"
      }
    },
    {
      "cell_type": "markdown",
      "source": [
        "Submitting to Kaggle the best Decision Tree with maximum depth of 5 "
      ],
      "metadata": {
        "id": "-qddQNJEQo4W"
      }
    },
    {
      "cell_type": "code",
      "source": [
        "dt = DecisionTreeRegressor(max_depth=5)\n",
        "dt.fit(train_mix_all, np.array(y_all))\n",
        "\n",
        "test_y_predictions_dt = dt.predict(test_mix_all)\n",
        "\n",
        "submission_dt_pca2 = pd.DataFrame(\n",
        "    {'Id': test.Id, 'SalePrice': test_y_predictions_dt},\n",
        "    columns = ['Id', 'SalePrice'])\n",
        "submission_dt_pca2.to_csv('submission_dt_pca2.csv', index = False)"
      ],
      "metadata": {
        "id": "QqHsJBIjQpol"
      },
      "execution_count": null,
      "outputs": []
    },
    {
      "cell_type": "code",
      "source": [
        "!kaggle competitions submit -c house-prices-advanced-regression-techniques -f submission_dt_pca2.csv -m \"Decision Tree + PCA2 Submission\" #rmle 0.19796"
      ],
      "metadata": {
        "id": "RHCt7HkyQqG-",
        "colab": {
          "base_uri": "https://localhost:8080/"
        },
        "outputId": "cf1f709a-55af-48bc-b813-1e6e54071e57"
      },
      "execution_count": null,
      "outputs": [
        {
          "output_type": "stream",
          "name": "stdout",
          "text": [
            "Warning: Your Kaggle API key is readable by other users on this system! To fix this, you can run 'chmod 600 /root/.kaggle/kaggle.json'\n",
            "Warning: Looks like you're using an outdated API Version, please consider updating (server 1.5.12 / client 1.5.4)\n",
            "100% 32.9k/32.9k [00:01<00:00, 20.2kB/s]\n",
            "Successfully submitted to House Prices - Advanced Regression Techniques"
          ]
        }
      ]
    },
    {
      "cell_type": "markdown",
      "source": [
        "Kaggle score is 0.19796"
      ],
      "metadata": {
        "id": "kkTVV5H3noqj"
      }
    },
    {
      "cell_type": "code",
      "source": [
        "#for final results\n",
        "dt = DecisionTreeRegressor(max_depth=5)\n",
        "dt.fit(train_X_mix_all, train_y)\n",
        "dt_rmse=np.round(mean_squared_error(val_y, dt.predict(val_X_mix_all), squared=False),3)\n",
        "dt_rmsle=np.round(mean_squared_log_error(val_y, dt.predict(val_X_mix_all), squared=False),3)\n",
        "print(f'The RMSE for Decision Tree Regressor with PCA is {dt_rmse} and the RMSLE is {dt_rmsle}')"
      ],
      "metadata": {
        "id": "NqPbWQ66Qqw2",
        "colab": {
          "base_uri": "https://localhost:8080/"
        },
        "outputId": "1bf753d3-2d8e-4f69-8edd-d0a31db1cbb6"
      },
      "execution_count": null,
      "outputs": [
        {
          "output_type": "stream",
          "name": "stdout",
          "text": [
            "The RMSE for Decision Tree Regressor with PCA is 36218.475 and the RMSLE is 0.159\n"
          ]
        }
      ]
    },
    {
      "cell_type": "markdown",
      "source": [
        "### 9.2.4 Random Forest with cross-validation"
      ],
      "metadata": {
        "id": "Hj9j4C9WR9HH"
      }
    },
    {
      "cell_type": "code",
      "source": [
        "n_trees = [5,10,50,100,200,500,1000]\n",
        "mean_RMSEs = np.zeros(len(n_trees))\n",
        "\n",
        "for i, trees in enumerate(n_trees):\n",
        "\n",
        "  n_folds = 4\n",
        "  rf_fold_RMSEs = np.zeros(n_folds)\n",
        "\n",
        "  # initialise splitting mechanism\n",
        "  folds = KFold(n_splits=n_folds, shuffle = True, random_state=111) \n",
        "\n",
        "  X=np.array(train_mix_all)\n",
        "  y=np.ravel(y_all)\n",
        "  folds.get_n_splits(X, y)\n",
        "\n",
        "  fold_indx = 1\n",
        "\n",
        "  rf_model=RandomForestRegressor(n_estimators=trees)\n",
        "\n",
        "  # folds.split is an iterator that loops over different folds\n",
        "  # returning a tuple with train and val indeces\n",
        "  for train_index, val_index in folds.split(X, y):\n",
        "    X_train, X_val = X[train_index], X[val_index]\n",
        "    y_train, y_val = y[train_index], y[val_index]\n",
        "\n",
        "    # train all three models\n",
        "    rf_model.fit(X_train, y_train)\n",
        "    rf_fold_RMSEs[fold_indx-1] = mean_squared_error(y_val, rf_model.predict(X_val), squared = False)\n",
        "\n",
        "    fold_indx += 1\n",
        "\n",
        "  print(f'Average validation RMSE for RF with maximal possible nr of trees of {trees} with PCA is {np.mean(rf_fold_RMSEs)}') \n",
        "  mean_RMSEs[i] = np.mean(rf_fold_RMSEs)"
      ],
      "metadata": {
        "colab": {
          "base_uri": "https://localhost:8080/"
        },
        "id": "rh8VYr2bR-T7",
        "outputId": "c5588dcb-921e-41da-f83d-cff4a07052c2"
      },
      "execution_count": null,
      "outputs": [
        {
          "output_type": "stream",
          "name": "stdout",
          "text": [
            "Average validation RMSE for RF with maximal possible nr of trees of 5 with PCA is 35299.27678192349\n",
            "Average validation RMSE for RF with maximal possible nr of trees of 10 with PCA is 33124.4180959084\n",
            "Average validation RMSE for RF with maximal possible nr of trees of 50 with PCA is 31574.109429617853\n",
            "Average validation RMSE for RF with maximal possible nr of trees of 100 with PCA is 31650.76900983966\n",
            "Average validation RMSE for RF with maximal possible nr of trees of 200 with PCA is 31617.459812767927\n",
            "Average validation RMSE for RF with maximal possible nr of trees of 500 with PCA is 31736.161971676214\n",
            "Average validation RMSE for RF with maximal possible nr of trees of 1000 with PCA is 31809.459161734558\n"
          ]
        }
      ]
    },
    {
      "cell_type": "code",
      "source": [
        "plt.figure(figsize=(25, 6)) \n",
        "plt.plot(n_trees,mean_RMSEs)\n",
        "plt.xlabel('Amount of trees')\n",
        "plt.ylabel('RMSE')\n",
        "plt.title('CV of RF Regressor')"
      ],
      "metadata": {
        "colab": {
          "base_uri": "https://localhost:8080/",
          "height": 312
        },
        "id": "sfpbqWlTR99b",
        "outputId": "6e040008-07cc-4e4d-d1cb-4cba06350599"
      },
      "execution_count": null,
      "outputs": [
        {
          "output_type": "execute_result",
          "data": {
            "text/plain": [
              "Text(0.5, 1.0, 'CV of RF Regressor')"
            ]
          },
          "metadata": {},
          "execution_count": 32
        },
        {
          "output_type": "display_data",
          "data": {
            "image/png": "[encoded data removed]",
            "text/plain": [
              "<Figure size 432x288 with 1 Axes>"
            ]
          },
          "metadata": {
            "needs_background": "light"
          }
        }
      ]
    },
    {
      "cell_type": "markdown",
      "source": [
        " Best Random forest is with maximum trees of 50 with RMSE 31 574.11. "
      ],
      "metadata": {
        "id": "7tjzGX7CT0f3"
      }
    },
    {
      "cell_type": "markdown",
      "source": [
        "Submitting the best random forest regressor to Kaggle. "
      ],
      "metadata": {
        "id": "Tgu4ziaD7p-E"
      }
    },
    {
      "cell_type": "code",
      "source": [
        "rf = RandomForestRegressor(n_estimators=50)\n",
        "rf.fit(train_mix_all, np.array(y_all))\n",
        "\n",
        "test_y_predictions_rf = rf.predict(test_mix_all)\n",
        "\n",
        "submission_rf_pca2 = pd.DataFrame(\n",
        "    {'Id': test.Id, 'SalePrice': test_y_predictions_rf},\n",
        "    columns = ['Id', 'SalePrice'])\n",
        "submission_rf_pca2.to_csv('submission_rf_pca2.csv', index = False)"
      ],
      "metadata": {
        "id": "qd_IekkZ7tJx"
      },
      "execution_count": null,
      "outputs": []
    },
    {
      "cell_type": "code",
      "source": [
        "!kaggle competitions submit -c house-prices-advanced-regression-techniques -f submission_rf_pca2.csv -m \"RF + PCA2 Submission\"  # rmsle=0.16825"
      ],
      "metadata": {
        "colab": {
          "base_uri": "https://localhost:8080/"
        },
        "id": "YBsP53eW73Y-",
        "outputId": "bf5531f1-36fe-4bbd-ba86-b689f6588dbf"
      },
      "execution_count": null,
      "outputs": [
        {
          "output_type": "stream",
          "name": "stdout",
          "text": [
            "Warning: Your Kaggle API key is readable by other users on this system! To fix this, you can run 'chmod 600 /root/.kaggle/kaggle.json'\n",
            "Warning: Looks like you're using an outdated API Version, please consider updating (server 1.5.12 / client 1.5.4)\n",
            "100% 20.6k/20.6k [00:01<00:00, 18.9kB/s]\n",
            "Successfully submitted to House Prices - Advanced Regression Techniques"
          ]
        }
      ]
    },
    {
      "cell_type": "code",
      "source": [
        "#for final results\n",
        "rf = RandomForestRegressor(n_estimators=200)\n",
        "rf.fit(train_X_mix_all, train_y)\n",
        "rf_rmse=np.round(mean_squared_error(val_y, rf.predict(val_X_mix_all), squared=False),3)\n",
        "rf_rmsle=np.round(mean_squared_log_error(val_y, rf.predict(val_X_mix_all), squared=False),3)\n",
        "print(f'The RMSE for Decision Tree Regressor with PCA is {rf_rmse} and the RMSLE is {rf_rmsle}')"
      ],
      "metadata": {
        "colab": {
          "base_uri": "https://localhost:8080/"
        },
        "id": "_xnmHqr8A8u0",
        "outputId": "77f7d20b-a162-4f37-f947-aab0dfeb5de0"
      },
      "execution_count": null,
      "outputs": [
        {
          "output_type": "stream",
          "name": "stdout",
          "text": [
            "The RMSE for Decision Tree Regressor with PCA is 30780.773 and the RMSLE is 0.123\n"
          ]
        }
      ]
    },
    {
      "cell_type": "markdown",
      "source": [
        "### 9.2.5 Bagging"
      ],
      "metadata": {
        "id": "ZhPannqfparp"
      }
    },
    {
      "cell_type": "code",
      "source": [
        "n_estimators = [100,200,400,600,800] \n",
        "\n",
        "for i, n_estimator in enumerate(n_estimators):\n",
        "  model_br = BaggingRegressor(base_estimator=DecisionTreeRegressor(), n_estimators=n_estimator)\n",
        "\n",
        "  n_folds = 4\n",
        "  br_fold_RMSEs = np.zeros(n_folds)\n",
        "\n",
        "  X=np.array(train_mix_all)\n",
        "  y=np.ravel(y_all)\n",
        "\n",
        "  # initialise splitting mechanism\n",
        "  folds = KFold(n_splits=n_folds, shuffle = True, random_state=111) \n",
        "\n",
        "  # here actual splitting is done\n",
        "  folds.get_n_splits(X, y)\n",
        "\n",
        "  fold_indx = 1\n",
        "\n",
        "  # folds.split is an iterator that loops over different folds\n",
        "  # returning a tuple with train and val indeces\n",
        "  for train_index, val_index in folds.split(X, y):\n",
        "    X_train, X_val = X[train_index], X[val_index]\n",
        "    y_train, y_val = y[train_index], y[val_index]\n",
        "\n",
        "    # train all three models\n",
        "    model_br.fit(X_train, y_train)\n",
        "\n",
        "    val_predictions_br = model_br.predict(X_val)\n",
        "\n",
        "    br_fold_RMSEs[fold_indx-1] = mean_squared_error(y_val, val_predictions_br, squared = False)\n",
        "\n",
        "    fold_indx += 1\n",
        "\n",
        "  print(f'Bagging : average validation RMSE with n_estimators = {n_estimator} is {np.mean(br_fold_RMSEs)}')"
      ],
      "metadata": {
        "colab": {
          "base_uri": "https://localhost:8080/"
        },
        "id": "DpKYIePDpcCN",
        "outputId": "31590118-2261-40f1-a0a2-769feb970d54"
      },
      "execution_count": null,
      "outputs": [
        {
          "output_type": "stream",
          "name": "stdout",
          "text": [
            "Bagging : average validation RMSE with n_estimators = 100 is 31964.3372911756\n",
            "Bagging : average validation RMSE with n_estimators = 200 is 31621.05297849082\n",
            "Bagging : average validation RMSE with n_estimators = 400 is 31921.83038744938\n",
            "Bagging : average validation RMSE with n_estimators = 600 is 31643.74092701592\n",
            "Bagging : average validation RMSE with n_estimators = 800 is 31577.95111507499\n"
          ]
        }
      ]
    },
    {
      "cell_type": "markdown",
      "source": [
        "Bagging with n_estimators=800 gives the best result."
      ],
      "metadata": {
        "id": "4HYqvaPBquxD"
      }
    },
    {
      "cell_type": "code",
      "source": [
        "m_br2 = BaggingRegressor(base_estimator=DecisionTreeRegressor(), n_estimators=800)\n",
        "m_br2.fit(train_X_mix_all, train_y)\n",
        "val_pred_br_pca2=m_br2.predict(val_X_mix_all)\n",
        "br_rmse3=np.round(mean_squared_error(val_y, val_pred_br_pca2, squared=False),3)\n",
        "br_rmsle3=np.round(mean_squared_log_error(val_y, val_pred_br_pca2, squared=False),3)\n",
        "\n",
        "print(f'The RMSE for Bagging with n_estimators=800 is {br_rmse3} and the RMSLE is {br_rmsle3}')"
      ],
      "metadata": {
        "colab": {
          "base_uri": "https://localhost:8080/"
        },
        "id": "_N8Ijnlsqzm7",
        "outputId": "bfafe97d-26cf-465c-a749-aef1ab980c8c"
      },
      "execution_count": null,
      "outputs": [
        {
          "output_type": "stream",
          "name": "stdout",
          "text": [
            "The RMSE for Bagging with n_estimators=800 is 28452.765 and the RMSLE is 0.12\n"
          ]
        }
      ]
    },
    {
      "cell_type": "code",
      "source": [
        "m_br = BaggingRegressor(base_estimator=DecisionTreeRegressor(), n_estimators=800)\n",
        "m_br.fit(train_mix_all, np.ravel(np.array(train_df2[['SalePrice']])))\n",
        "\n",
        "test_y_predictions_br3 = m_gbr.predict(test_mix_all)\n",
        "\n",
        "submission_br3 = pd.DataFrame(\n",
        "    {'Id': test.Id, 'SalePrice': test_y_predictions_br3},\n",
        "    columns = ['Id', 'SalePrice'])\n",
        "submission_br3.to_csv('submission_br3.csv', index = False)"
      ],
      "metadata": {
        "id": "ycrI39FyrPDG"
      },
      "execution_count": null,
      "outputs": []
    },
    {
      "cell_type": "code",
      "source": [
        "!kaggle competitions submit -c house-prices-advanced-regression-techniques -f submission_br3.csv -m \"Bagging PCA3 submission\""
      ],
      "metadata": {
        "colab": {
          "base_uri": "https://localhost:8080/"
        },
        "id": "Oa8Zy9WNrgbH",
        "outputId": "d676b5b4-171a-449e-dbd0-23f3884f6164"
      },
      "execution_count": null,
      "outputs": [
        {
          "output_type": "stream",
          "name": "stdout",
          "text": [
            "Warning: Your Kaggle API key is readable by other users on this system! To fix this, you can run 'chmod 600 /root/.kaggle/kaggle.json'\n",
            "Warning: Looks like you're using an outdated API Version, please consider updating (server 1.5.12 / client 1.5.4)\n",
            "100% 33.6k/33.6k [00:01<00:00, 18.3kB/s]\n",
            "Successfully submitted to House Prices - Advanced Regression Techniques"
          ]
        }
      ]
    },
    {
      "cell_type": "markdown",
      "source": [
        "Kaggle score: 0.15224"
      ],
      "metadata": {
        "id": "_UYIG9g1rtMX"
      }
    },
    {
      "cell_type": "markdown",
      "metadata": {
        "id": "BObjdkEXzkPb"
      },
      "source": [
        "### 9.2.6 Gradient Boosting"
      ]
    },
    {
      "cell_type": "code",
      "metadata": {
        "colab": {
          "base_uri": "https://localhost:8080/"
        },
        "id": "REWybHDozn14",
        "outputId": "df96d79f-b360-485c-9276-917ec288f88e"
      },
      "source": [
        "n_estimators = [100,200,300,400,500,600,700] \n",
        "\n",
        "val_fold_gbr = np.zeros(len(n_estimators))\n",
        "\n",
        "for i, n_estimator in enumerate(n_estimators):\n",
        "  model_gbr = GradientBoostingRegressor(random_state=111, n_estimators=n_estimator)\n",
        "\n",
        "  n_folds = 4\n",
        "  gbr_fold_RMSEs = np.zeros(n_folds)\n",
        "\n",
        "  X=np.array(train_mix_all)\n",
        "  y=np.ravel(y_all)\n",
        "\n",
        "  # initialise splitting mechanism\n",
        "  folds = KFold(n_splits=n_folds, shuffle =True, random_state=111) \n",
        "\n",
        "  # here actual splitting is done\n",
        "  folds.get_n_splits(X, y)\n",
        "\n",
        "  fold_indx = 1\n",
        "\n",
        "  # folds.split is an iterator that loops over different folds\n",
        "  # returning a tuple with train and val indeces\n",
        "  for train_index, val_index in folds.split(X, y):\n",
        "    #print(f\"CV #{fold_indx}\")\n",
        "    X_train, X_val = X[train_index], X[val_index]\n",
        "    y_train, y_val = y[train_index], y[val_index]\n",
        "\n",
        "\n",
        "    model_gbr.fit(X_train, y_train)\n",
        "\n",
        "    val_predictions_gbr = model_gbr.predict(X_val)\n",
        "\n",
        "    gbr_fold_RMSEs[fold_indx-1] = mean_squared_error(y_val, val_predictions_gbr, squared = False)\n",
        "\n",
        "    fold_indx += 1\n",
        "\n",
        "  print(f'Gradient Boosting with n_estimator = {n_estimator} : average validation RMSE is {np.mean(gbr_fold_RMSEs)}')\n",
        "  val_fold_gbr = np.zeros(len(n_estimators))"
      ],
      "execution_count": null,
      "outputs": [
        {
          "output_type": "stream",
          "name": "stdout",
          "text": [
            "Gradient Boosting with n_estimator = 100 : average validation RMSE is 29127.56425488973\n",
            "Gradient Boosting with n_estimator = 200 : average validation RMSE is 28687.326754305548\n",
            "Gradient Boosting with n_estimator = 300 : average validation RMSE is 28628.15983650076\n",
            "Gradient Boosting with n_estimator = 400 : average validation RMSE is 28721.312766569157\n",
            "Gradient Boosting with n_estimator = 500 : average validation RMSE is 28790.362478651496\n",
            "Gradient Boosting with n_estimator = 600 : average validation RMSE is 28824.949001580724\n",
            "Gradient Boosting with n_estimator = 700 : average validation RMSE is 28801.259148259705\n"
          ]
        }
      ]
    },
    {
      "cell_type": "markdown",
      "metadata": {
        "id": "hi1YcKqy2-b4"
      },
      "source": [
        "Gradient Boosting gives the best result with n_estimators 300."
      ]
    },
    {
      "cell_type": "code",
      "source": [
        "m_gbr2 = GradientBoostingRegressor(n_estimators=300)\n",
        "m_gbr2.fit(train_X_mix_all, train_y)\n",
        "val_pred_gbr_pca2=m_gbr2.predict(val_X_mix_all)\n",
        "gbr_rmse3=np.round(mean_squared_error(val_y, val_pred_gbr_pca2, squared=False),3)\n",
        "gbr_rmsle3=np.round(mean_squared_log_error(val_y, val_pred_gbr_pca2, squared=False),3)\n",
        "\n",
        "print(f'The RMSE for GradientBoosting with n_estimators=400 is {gbr_rmse3} and the RMSLE is {gbr_rmsle3}')"
      ],
      "metadata": {
        "colab": {
          "base_uri": "https://localhost:8080/"
        },
        "id": "ylr08letoSeS",
        "outputId": "0208e763-5249-48f7-8d96-d8c3b7f1741b"
      },
      "execution_count": null,
      "outputs": [
        {
          "output_type": "stream",
          "name": "stdout",
          "text": [
            "The RMSE for GradientBoosting with n_estimators=400 is 26481.761 and the RMSLE is 0.121\n"
          ]
        }
      ]
    },
    {
      "cell_type": "code",
      "source": [
        "m_gbr = GradientBoostingRegressor(n_estimators=300)\n",
        "m_gbr.fit(train_mix_all, np.array(train_df2[['SalePrice']]))\n",
        "\n",
        "test_y_predictions_gbr3 = m_gbr.predict(test_mix_all)\n",
        "\n",
        "submission_gbr3 = pd.DataFrame(\n",
        "    {'Id': test.Id, 'SalePrice': test_y_predictions_gbr3},\n",
        "    columns = ['Id', 'SalePrice'])\n",
        "submission_gbr3.to_csv('submission_gbr3.csv', index = False)"
      ],
      "metadata": {
        "id": "5NUYkh_OjQj0",
        "outputId": "186e6b65-fbeb-4cfe-e9ee-ded36423d0c6",
        "colab": {
          "base_uri": "https://localhost:8080/"
        }
      },
      "execution_count": null,
      "outputs": [
        {
          "output_type": "stream",
          "name": "stderr",
          "text": [
            "/usr/local/lib/python3.7/dist-packages/sklearn/ensemble/_gb.py:494: DataConversionWarning:\n",
            "\n",
            "A column-vector y was passed when a 1d array was expected. Please change the shape of y to (n_samples, ), for example using ravel().\n",
            "\n"
          ]
        }
      ]
    },
    {
      "cell_type": "code",
      "source": [
        "!kaggle competitions submit -c house-prices-advanced-regression-techniques -f submission_gbr3.csv -m \"Gradient Boosting PCA3 submission\""
      ],
      "metadata": {
        "id": "ZEgTl94LLISG",
        "colab": {
          "base_uri": "https://localhost:8080/"
        },
        "outputId": "461d1f84-7990-4e2b-a0f1-13f7371fde85"
      },
      "execution_count": null,
      "outputs": [
        {
          "output_type": "stream",
          "name": "stdout",
          "text": [
            "Warning: Your Kaggle API key is readable by other users on this system! To fix this, you can run 'chmod 600 /root/.kaggle/kaggle.json'\n",
            "Warning: Looks like you're using an outdated API Version, please consider updating (server 1.5.12 / client 1.5.4)\n",
            "100% 33.6k/33.6k [00:01<00:00, 22.6kB/s]\n",
            "Successfully submitted to House Prices - Advanced Regression Techniques"
          ]
        }
      ]
    },
    {
      "cell_type": "markdown",
      "source": [
        "Kaggle score: 0.15224"
      ],
      "metadata": {
        "id": "lVIxlcb-GDti"
      }
    },
    {
      "cell_type": "markdown",
      "metadata": {
        "id": "KUqqZTxG2rHZ"
      },
      "source": [
        "### 9.2.7 XGBoost"
      ]
    },
    {
      "cell_type": "code",
      "metadata": {
        "colab": {
          "base_uri": "https://localhost:8080/"
        },
        "id": "SI0g_8va2soS",
        "outputId": "91ff258c-3cf2-4897-f9d5-053507a5f181"
      },
      "source": [
        "#https://xgboost.readthedocs.io/en/latest/python/python_api.html\n",
        "\n",
        "n_estimators = [100,200,300,400,500,600,700] \n",
        "\n",
        "for i, n_estimator in enumerate(n_estimators):\n",
        "  model_xgb = xgb.XGBRegressor(n_estimators=n_estimator,objective='reg:squarederror')\n",
        "\n",
        "  n_folds = 4\n",
        "  xg_fold_RMSEs = np.zeros(n_folds)\n",
        "\n",
        "  X=np.array(train_mix_all)\n",
        "  y=np.ravel(y_all)\n",
        "\n",
        "  # initialise splitting mechanism\n",
        "  folds = KFold(n_splits=n_folds, shuffle = False) \n",
        "\n",
        "  # here actual splitting is done\n",
        "  folds.get_n_splits(X, y)\n",
        "\n",
        "  fold_indx = 1\n",
        "  for train_index, val_index in folds.split(X, y):\n",
        "    X_train, X_val = X[train_index], X[val_index]\n",
        "    y_train, y_val = y[train_index], y[val_index]\n",
        "\n",
        "\n",
        "    model_xgb.fit(X_train, y_train)\n",
        "\n",
        "    val_predictions = model_xgb.predict(X_val)\n",
        "\n",
        "    xg_fold_RMSEs[fold_indx-1] = mean_squared_error(y_val, val_predictions, squared = False)\n",
        "\n",
        "    fold_indx += 1\n",
        "\n",
        "  print(f'XGBoost with n_estimator = {n_estimator} : average validation RMSE is {np.mean(xg_fold_RMSEs)}')"
      ],
      "execution_count": null,
      "outputs": [
        {
          "output_type": "stream",
          "name": "stdout",
          "text": [
            "XGBoost with n_estimator = 100 : average validation RMSE is 27710.16017721862\n",
            "XGBoost with n_estimator = 200 : average validation RMSE is 27108.128376131863\n",
            "XGBoost with n_estimator = 300 : average validation RMSE is 27023.47054815729\n",
            "XGBoost with n_estimator = 400 : average validation RMSE is 27019.490466199728\n",
            "XGBoost with n_estimator = 500 : average validation RMSE is 26986.85209644699\n",
            "XGBoost with n_estimator = 600 : average validation RMSE is 27025.31249249352\n",
            "XGBoost with n_estimator = 700 : average validation RMSE is 27031.157903479434\n"
          ]
        }
      ]
    },
    {
      "cell_type": "markdown",
      "source": [
        "\n",
        "XGBoost with n_estimators=500 is the best."
      ],
      "metadata": {
        "id": "XATXf4C1LVD4"
      }
    },
    {
      "cell_type": "code",
      "source": [
        "m_xgb2 = xgb.XGBRegressor(n_estimators=500, objective= 'reg:squarederror')\n",
        "m_xgb2.fit(train_X_mix_all, train_y)\n",
        "val_pred_xgb_pca2=m_xgb2.predict(val_X_mix_all)\n",
        "\n",
        "xgb_rmse3=np.round(mean_squared_error(val_y, val_pred_xgb_pca2, squared=False),3)\n",
        "xgb_rmsle3=np.round(mean_squared_log_error(val_y, val_pred_xgb_pca2, squared=False),3)\n",
        "print(f'The RMSE for XGBoost with n_estimators=500 is {xgb_rmse3} and the RMSLE is {xgb_rmsle3}')"
      ],
      "metadata": {
        "colab": {
          "base_uri": "https://localhost:8080/"
        },
        "id": "unccU7eZpFpP",
        "outputId": "7b00539a-119d-49ac-b4e1-c311512488df"
      },
      "execution_count": null,
      "outputs": [
        {
          "output_type": "stream",
          "name": "stdout",
          "text": [
            "The RMSE for XGBoost with n_estimators=500 is 26376.933 and the RMSLE is 0.117\n"
          ]
        }
      ]
    },
    {
      "cell_type": "code",
      "source": [
        "m_xgb = xgb.XGBRegressor(n_estimators=500, objective= 'reg:squarederror')\n",
        "m_xgb.fit(train_mix_all, y_all)\n",
        "\n",
        "test_y_predictions_xgb3 = m_xgb.predict(test_mix_all)\n",
        "\n",
        "submission_xgb3 = pd.DataFrame(\n",
        "    {'Id': test.Id, 'SalePrice': test_y_predictions_xgb3},\n",
        "    columns = ['Id', 'SalePrice'])\n",
        "submission_xgb3.to_csv('submission_xgb3.csv', index = False)"
      ],
      "metadata": {
        "id": "mg4bAtcmpRxk"
      },
      "execution_count": null,
      "outputs": []
    },
    {
      "cell_type": "code",
      "source": [
        "!kaggle competitions submit -c house-prices-advanced-regression-techniques -f submission_xgb3.csv -m \"XGBoost Submission PCA3\""
      ],
      "metadata": {
        "id": "Ba0AEVa-paH-",
        "colab": {
          "base_uri": "https://localhost:8080/"
        },
        "outputId": "c0beb7ae-67b5-4153-946a-91d50429129c"
      },
      "execution_count": null,
      "outputs": [
        {
          "output_type": "stream",
          "name": "stdout",
          "text": [
            "Warning: Your Kaggle API key is readable by other users on this system! To fix this, you can run 'chmod 600 /root/.kaggle/kaggle.json'\n",
            "Warning: Looks like you're using an outdated API Version, please consider updating (server 1.5.12 / client 1.5.4)\n",
            "100% 21.1k/21.1k [00:02<00:00, 10.2kB/s]\n",
            "Successfully submitted to House Prices - Advanced Regression Techniques"
          ]
        }
      ]
    },
    {
      "cell_type": "markdown",
      "source": [
        "Kaggle score: 0.14971"
      ],
      "metadata": {
        "id": "BA1mEMeOHKkG"
      }
    },
    {
      "cell_type": "markdown",
      "source": [
        "# Conclusion "
      ],
      "metadata": {
        "id": "_v2kp21vVi8X"
      }
    },
    {
      "cell_type": "markdown",
      "source": [
        "We tried different models on three different datasets and submitted the results to Kaggle.\n",
        "\n",
        "The methods used were Regressions (Linear, Lasso, Ridge), Decision Tree and Random Forest, Ensembling (Linear Regression, Lasso, Ridge and Decision Tree), Boosting and Bagging (Adaptive Boosting, Bagging, Gradient Boosting and XGBoost).\n",
        "\n",
        "We then used PCA for dimensionality reduction (only on numerical variables) and used the methods on this dataset.\n",
        "\n",
        "Finaly we added categorical variables as dummy variables to the PCA dataset and used the methods once more.\n",
        "\n",
        "Based on the RMSE of the models, the best results had models which were run on the regular data set with dummy variables (ensemble and Gradient Boosting). **Actually the best RMSE is with second PCA dataset and XGBoost?**\n",
        "\n",
        "We also submitted our models to the Kaggle competition and got 1786. place with the Gradient Boositing model which was fitted on the regular dataset (without PCA).\n",
        "\n"
      ],
      "metadata": {
        "id": "g0C2ZtpquJ9M"
      }
    },
    {
      "cell_type": "markdown",
      "source": [
        "# References \n",
        "\n",
        "[1] https://www.kaggle.com/c/house-prices-advanced-regression-techniques/data?select=train.csv \n",
        "\n",
        "[2] https://medium.com/@vaibhavshukla182/how-to-solve-mismatch-in-train-and-test-set-after-categorical-encoding-8320ed03552f"
      ],
      "metadata": {
        "id": "X7oZHWNmkhmQ"
      }
    }
  ]
}